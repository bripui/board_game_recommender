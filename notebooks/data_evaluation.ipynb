{
 "cells": [
  {
   "cell_type": "code",
   "execution_count": 2,
   "metadata": {},
   "outputs": [],
   "source": [
    "import pandas as pd\n",
    "import re\n",
    "import requests\n",
    "import random\n",
    "import time\n",
    "import argparse\n",
    "from bs4 import BeautifulSoup"
   ]
  },
  {
   "cell_type": "markdown",
   "metadata": {},
   "source": [
    "## Scraping the first page"
   ]
  },
  {
   "cell_type": "code",
   "execution_count": 16,
   "metadata": {},
   "outputs": [],
   "source": [
    "\n",
    "r = requests.get('https://boardgamegeek.com/browse/boardgame/page/1')\n",
    "\n",
    "html = r.text\n",
    "soup = BeautifulSoup(html, 'html.parser')"
   ]
  },
  {
   "cell_type": "code",
   "execution_count": 55,
   "metadata": {},
   "outputs": [],
   "source": [
    "#print(soup.body.prettify())"
   ]
  },
  {
   "cell_type": "code",
   "execution_count": 54,
   "metadata": {},
   "outputs": [],
   "source": [
    "rows = soup.body.find_all('tr', attrs={'id':'row_'})\n"
   ]
  },
  {
   "cell_type": "code",
   "execution_count": 101,
   "metadata": {},
   "outputs": [],
   "source": [
    "ranks = [row.find('td', attrs={'class':'collection_rank'}).get_text().strip() for row in rows]\n",
    "no_ratings = [row.find_all('td', attrs={'class':'collection_bggrating'})[2].get_text().strip() for row in rows]\n",
    "names = [row.find('a', attrs={'class':'primary'}).get_text() for row in rows]\n",
    "links = [row.find('a', attrs={'class':'primary'}).get('href') for row in rows]\n",
    "ids = [int(row.find('a', attrs={'class':'primary'}).get('href').split('/')[2]) for row in rows]"
   ]
  },
  {
   "cell_type": "code",
   "execution_count": 104,
   "metadata": {},
   "outputs": [],
   "source": [
    "df = pd.DataFrame({\n",
    "    'rank':ranks,\n",
    "    'name':names,\n",
    "    'id':ids,\n",
    "    'links':links,\n",
    "    'number_of_ratings':no_ratings\n",
    "})"
   ]
  },
  {
   "cell_type": "code",
   "execution_count": 105,
   "metadata": {},
   "outputs": [
    {
     "data": {
      "text/html": [
       "<div>\n",
       "<style scoped>\n",
       "    .dataframe tbody tr th:only-of-type {\n",
       "        vertical-align: middle;\n",
       "    }\n",
       "\n",
       "    .dataframe tbody tr th {\n",
       "        vertical-align: top;\n",
       "    }\n",
       "\n",
       "    .dataframe thead th {\n",
       "        text-align: right;\n",
       "    }\n",
       "</style>\n",
       "<table border=\"1\" class=\"dataframe\">\n",
       "  <thead>\n",
       "    <tr style=\"text-align: right;\">\n",
       "      <th></th>\n",
       "      <th>rank</th>\n",
       "      <th>name</th>\n",
       "      <th>id</th>\n",
       "      <th>links</th>\n",
       "      <th>number_of_ratings</th>\n",
       "    </tr>\n",
       "  </thead>\n",
       "  <tbody>\n",
       "    <tr>\n",
       "      <th>0</th>\n",
       "      <td>1</td>\n",
       "      <td>Gloomhaven</td>\n",
       "      <td>174430</td>\n",
       "      <td>/boardgame/174430/gloomhaven</td>\n",
       "      <td>44335</td>\n",
       "    </tr>\n",
       "    <tr>\n",
       "      <th>1</th>\n",
       "      <td>2</td>\n",
       "      <td>Pandemic Legacy: Season 1</td>\n",
       "      <td>161936</td>\n",
       "      <td>/boardgame/161936/pandemic-legacy-season-1</td>\n",
       "      <td>42998</td>\n",
       "    </tr>\n",
       "    <tr>\n",
       "      <th>2</th>\n",
       "      <td>3</td>\n",
       "      <td>Brass: Birmingham</td>\n",
       "      <td>224517</td>\n",
       "      <td>/boardgame/224517/brass-birmingham</td>\n",
       "      <td>21602</td>\n",
       "    </tr>\n",
       "    <tr>\n",
       "      <th>3</th>\n",
       "      <td>4</td>\n",
       "      <td>Terraforming Mars</td>\n",
       "      <td>167791</td>\n",
       "      <td>/boardgame/167791/terraforming-mars</td>\n",
       "      <td>68378</td>\n",
       "    </tr>\n",
       "    <tr>\n",
       "      <th>4</th>\n",
       "      <td>5</td>\n",
       "      <td>Twilight Imperium: Fourth Edition</td>\n",
       "      <td>233078</td>\n",
       "      <td>/boardgame/233078/twilight-imperium-fourth-edi...</td>\n",
       "      <td>14376</td>\n",
       "    </tr>\n",
       "    <tr>\n",
       "      <th>...</th>\n",
       "      <td>...</td>\n",
       "      <td>...</td>\n",
       "      <td>...</td>\n",
       "      <td>...</td>\n",
       "      <td>...</td>\n",
       "    </tr>\n",
       "    <tr>\n",
       "      <th>95</th>\n",
       "      <td>96</td>\n",
       "      <td>Lorenzo il Magnifico</td>\n",
       "      <td>203993</td>\n",
       "      <td>/boardgame/203993/lorenzo-il-magnifico</td>\n",
       "      <td>9762</td>\n",
       "    </tr>\n",
       "    <tr>\n",
       "      <th>96</th>\n",
       "      <td>97</td>\n",
       "      <td>Codenames</td>\n",
       "      <td>178900</td>\n",
       "      <td>/boardgame/178900/codenames</td>\n",
       "      <td>70110</td>\n",
       "    </tr>\n",
       "    <tr>\n",
       "      <th>97</th>\n",
       "      <td>98</td>\n",
       "      <td>The Isle of Cats</td>\n",
       "      <td>281259</td>\n",
       "      <td>/boardgame/281259/isle-cats</td>\n",
       "      <td>8320</td>\n",
       "    </tr>\n",
       "    <tr>\n",
       "      <th>98</th>\n",
       "      <td>99</td>\n",
       "      <td>Roll for the Galaxy</td>\n",
       "      <td>132531</td>\n",
       "      <td>/boardgame/132531/roll-galaxy</td>\n",
       "      <td>27126</td>\n",
       "    </tr>\n",
       "    <tr>\n",
       "      <th>99</th>\n",
       "      <td>100</td>\n",
       "      <td>Trajan</td>\n",
       "      <td>102680</td>\n",
       "      <td>/boardgame/102680/trajan</td>\n",
       "      <td>15043</td>\n",
       "    </tr>\n",
       "  </tbody>\n",
       "</table>\n",
       "<p>100 rows × 5 columns</p>\n",
       "</div>"
      ],
      "text/plain": [
       "   rank                               name      id  \\\n",
       "0     1                         Gloomhaven  174430   \n",
       "1     2          Pandemic Legacy: Season 1  161936   \n",
       "2     3                  Brass: Birmingham  224517   \n",
       "3     4                  Terraforming Mars  167791   \n",
       "4     5  Twilight Imperium: Fourth Edition  233078   \n",
       "..  ...                                ...     ...   \n",
       "95   96               Lorenzo il Magnifico  203993   \n",
       "96   97                          Codenames  178900   \n",
       "97   98                   The Isle of Cats  281259   \n",
       "98   99                Roll for the Galaxy  132531   \n",
       "99  100                             Trajan  102680   \n",
       "\n",
       "                                                links number_of_ratings  \n",
       "0                        /boardgame/174430/gloomhaven             44335  \n",
       "1          /boardgame/161936/pandemic-legacy-season-1             42998  \n",
       "2                  /boardgame/224517/brass-birmingham             21602  \n",
       "3                 /boardgame/167791/terraforming-mars             68378  \n",
       "4   /boardgame/233078/twilight-imperium-fourth-edi...             14376  \n",
       "..                                                ...               ...  \n",
       "95             /boardgame/203993/lorenzo-il-magnifico              9762  \n",
       "96                        /boardgame/178900/codenames             70110  \n",
       "97                        /boardgame/281259/isle-cats              8320  \n",
       "98                      /boardgame/132531/roll-galaxy             27126  \n",
       "99                           /boardgame/102680/trajan             15043  \n",
       "\n",
       "[100 rows x 5 columns]"
      ]
     },
     "execution_count": 105,
     "metadata": {},
     "output_type": "execute_result"
    }
   ],
   "source": [
    "df"
   ]
  },
  {
   "cell_type": "markdown",
   "metadata": {},
   "source": [
    "## automated scraping"
   ]
  },
  {
   "cell_type": "code",
   "execution_count": 124,
   "metadata": {},
   "outputs": [],
   "source": [
    "pages = [1, 2, 3, 4, 5, 6, 7, 8, 9, 10]\n",
    "boardgames = pd.DataFrame()\n",
    "for page in pages:\n",
    "    url = f'https://boardgamegeek.com/browse/boardgame/page/{page}?sort=numvoters&sortdir=desc'\n",
    "    #url = f'https://boardgamegeek.com/browse/boardgame/page/{page}'\n",
    "    r = requests.get(url)\n",
    "    html = r.text\n",
    "    soup = BeautifulSoup(html, 'html.parser')\n",
    "    \n",
    "    rows = soup.body.find_all('tr', attrs={'id':'row_'})\n",
    "    ranks = [row.find('td', attrs={'class':'collection_rank'}).get_text().strip() for row in rows]\n",
    "    no_ratings = [int(row.find_all('td', attrs={'class':'collection_bggrating'})[2].get_text().strip()) for row in rows]\n",
    "    names = [row.find('a', attrs={'class':'primary'}).get_text() for row in rows]\n",
    "    links = [row.find('a', attrs={'class':'primary'}).get('href') for row in rows]\n",
    "    ids = [int(row.find('a', attrs={'class':'primary'}).get('href').split('/')[2]) for row in rows]\n",
    "    \n",
    "    df = pd.DataFrame({\n",
    "        'rank':ranks,\n",
    "        'name':names,\n",
    "        'id':ids,\n",
    "        'links':links,\n",
    "        'number_of_ratings':no_ratings\n",
    "    })\n",
    "    \n",
    "    boardgames = boardgames.append(df, ignore_index=True)\n",
    "    "
   ]
  },
  {
   "cell_type": "code",
   "execution_count": 125,
   "metadata": {},
   "outputs": [
    {
     "data": {
      "text/html": [
       "<div>\n",
       "<style scoped>\n",
       "    .dataframe tbody tr th:only-of-type {\n",
       "        vertical-align: middle;\n",
       "    }\n",
       "\n",
       "    .dataframe tbody tr th {\n",
       "        vertical-align: top;\n",
       "    }\n",
       "\n",
       "    .dataframe thead th {\n",
       "        text-align: right;\n",
       "    }\n",
       "</style>\n",
       "<table border=\"1\" class=\"dataframe\">\n",
       "  <thead>\n",
       "    <tr style=\"text-align: right;\">\n",
       "      <th></th>\n",
       "      <th>rank</th>\n",
       "      <th>name</th>\n",
       "      <th>id</th>\n",
       "      <th>links</th>\n",
       "      <th>number_of_ratings</th>\n",
       "    </tr>\n",
       "  </thead>\n",
       "  <tbody>\n",
       "    <tr>\n",
       "      <th>0</th>\n",
       "      <td>104</td>\n",
       "      <td>Pandemic</td>\n",
       "      <td>30549</td>\n",
       "      <td>/boardgame/30549/pandemic</td>\n",
       "      <td>104891</td>\n",
       "    </tr>\n",
       "    <tr>\n",
       "      <th>1</th>\n",
       "      <td>184</td>\n",
       "      <td>Carcassonne</td>\n",
       "      <td>822</td>\n",
       "      <td>/boardgame/822/carcassonne</td>\n",
       "      <td>104530</td>\n",
       "    </tr>\n",
       "    <tr>\n",
       "      <th>2</th>\n",
       "      <td>408</td>\n",
       "      <td>Catan</td>\n",
       "      <td>13</td>\n",
       "      <td>/boardgame/13/catan</td>\n",
       "      <td>103960</td>\n",
       "    </tr>\n",
       "    <tr>\n",
       "      <th>3</th>\n",
       "      <td>71</td>\n",
       "      <td>7 Wonders</td>\n",
       "      <td>68448</td>\n",
       "      <td>/boardgame/68448/7-wonders</td>\n",
       "      <td>86475</td>\n",
       "    </tr>\n",
       "    <tr>\n",
       "      <th>4</th>\n",
       "      <td>101</td>\n",
       "      <td>Dominion</td>\n",
       "      <td>36218</td>\n",
       "      <td>/boardgame/36218/dominion</td>\n",
       "      <td>79469</td>\n",
       "    </tr>\n",
       "    <tr>\n",
       "      <th>...</th>\n",
       "      <td>...</td>\n",
       "      <td>...</td>\n",
       "      <td>...</td>\n",
       "      <td>...</td>\n",
       "      <td>...</td>\n",
       "    </tr>\n",
       "    <tr>\n",
       "      <th>995</th>\n",
       "      <td>259</td>\n",
       "      <td>Nemo's War (Second Edition)</td>\n",
       "      <td>187617</td>\n",
       "      <td>/boardgame/187617/nemos-war-second-edition</td>\n",
       "      <td>3684</td>\n",
       "    </tr>\n",
       "    <tr>\n",
       "      <th>996</th>\n",
       "      <td>962</td>\n",
       "      <td>Witch's Brew</td>\n",
       "      <td>34084</td>\n",
       "      <td>/boardgame/34084/witchs-brew</td>\n",
       "      <td>3672</td>\n",
       "    </tr>\n",
       "    <tr>\n",
       "      <th>997</th>\n",
       "      <td>839</td>\n",
       "      <td>Call to Adventure</td>\n",
       "      <td>238992</td>\n",
       "      <td>/boardgame/238992/call-adventure</td>\n",
       "      <td>3671</td>\n",
       "    </tr>\n",
       "    <tr>\n",
       "      <th>998</th>\n",
       "      <td>2088</td>\n",
       "      <td>Sorry! Sliders</td>\n",
       "      <td>37196</td>\n",
       "      <td>/boardgame/37196/sorry-sliders</td>\n",
       "      <td>3670</td>\n",
       "    </tr>\n",
       "    <tr>\n",
       "      <th>999</th>\n",
       "      <td>596</td>\n",
       "      <td>Space Hulk</td>\n",
       "      <td>2163</td>\n",
       "      <td>/boardgame/2163/space-hulk</td>\n",
       "      <td>3666</td>\n",
       "    </tr>\n",
       "  </tbody>\n",
       "</table>\n",
       "<p>1000 rows × 5 columns</p>\n",
       "</div>"
      ],
      "text/plain": [
       "     rank                         name      id  \\\n",
       "0     104                     Pandemic   30549   \n",
       "1     184                  Carcassonne     822   \n",
       "2     408                        Catan      13   \n",
       "3      71                    7 Wonders   68448   \n",
       "4     101                     Dominion   36218   \n",
       "..    ...                          ...     ...   \n",
       "995   259  Nemo's War (Second Edition)  187617   \n",
       "996   962                 Witch's Brew   34084   \n",
       "997   839            Call to Adventure  238992   \n",
       "998  2088               Sorry! Sliders   37196   \n",
       "999   596                   Space Hulk    2163   \n",
       "\n",
       "                                          links  number_of_ratings  \n",
       "0                     /boardgame/30549/pandemic             104891  \n",
       "1                    /boardgame/822/carcassonne             104530  \n",
       "2                           /boardgame/13/catan             103960  \n",
       "3                    /boardgame/68448/7-wonders              86475  \n",
       "4                     /boardgame/36218/dominion              79469  \n",
       "..                                          ...                ...  \n",
       "995  /boardgame/187617/nemos-war-second-edition               3684  \n",
       "996                /boardgame/34084/witchs-brew               3672  \n",
       "997            /boardgame/238992/call-adventure               3671  \n",
       "998              /boardgame/37196/sorry-sliders               3670  \n",
       "999                  /boardgame/2163/space-hulk               3666  \n",
       "\n",
       "[1000 rows x 5 columns]"
      ]
     },
     "execution_count": 125,
     "metadata": {},
     "output_type": "execute_result"
    }
   ],
   "source": [
    "boardgames"
   ]
  },
  {
   "cell_type": "code",
   "execution_count": 126,
   "metadata": {},
   "outputs": [
    {
     "data": {
      "text/plain": [
       "11622136"
      ]
     },
     "execution_count": 126,
     "metadata": {},
     "output_type": "execute_result"
    }
   ],
   "source": [
    "boardgames['number_of_ratings'].sum()"
   ]
  },
  {
   "cell_type": "code",
   "execution_count": 152,
   "metadata": {},
   "outputs": [
    {
     "data": {
      "text/plain": [
       "<AxesSubplot:>"
      ]
     },
     "execution_count": 152,
     "metadata": {},
     "output_type": "execute_result"
    },
    {
     "data": {
      "image/png": "[encoded data removed]",
      "text/plain": [
       "<Figure size 432x288 with 1 Axes>"
      ]
     },
     "metadata": {
      "needs_background": "light"
     },
     "output_type": "display_data"
    }
   ],
   "source": [
    "boardgames['number_of_ratings'].plot()"
   ]
  },
  {
   "cell_type": "code",
   "execution_count": 151,
   "metadata": {},
   "outputs": [
    {
     "data": {
      "text/plain": [
       "<AxesSubplot:>"
      ]
     },
     "execution_count": 151,
     "metadata": {},
     "output_type": "execute_result"
    },
    {
     "data": {
      "image/png": "[encoded data removed]",
      "text/plain": [
       "<Figure size 432x288 with 1 Axes>"
      ]
     },
     "metadata": {
      "needs_background": "light"
     },
     "output_type": "display_data"
    }
   ],
   "source": [
    "boardgames['number_of_ratings'].cumsum().plot()"
   ]
  },
  {
   "cell_type": "code",
   "execution_count": 147,
   "metadata": {},
   "outputs": [],
   "source": [
    "xp = list(range(800,1000))\n",
    "fp = boardgames.loc[800:1000,'number_of_ratings']"
   ]
  },
  {
   "cell_type": "code",
   "execution_count": 145,
   "metadata": {},
   "outputs": [],
   "source": [
    "import numpy as np"
   ]
  },
  {
   "cell_type": "code",
   "execution_count": null,
   "metadata": {},
   "outputs": [],
   "source": [
    "np.interp()"
   ]
  },
  {
   "cell_type": "code",
   "execution_count": 115,
   "metadata": {},
   "outputs": [],
   "source": [
    "#boardgames.to_csv('../data/boardgames.csv', index=False)"
   ]
  },
  {
   "cell_type": "code",
   "execution_count": 153,
   "metadata": {},
   "outputs": [
    {
     "data": {
      "text/plain": [
       "Index                 128\n",
       "rank                 8000\n",
       "name                 8000\n",
       "id                   8000\n",
       "links                8000\n",
       "number_of_ratings    8000\n",
       "dtype: int64"
      ]
     },
     "execution_count": 153,
     "metadata": {},
     "output_type": "execute_result"
    }
   ],
   "source": [
    "boardgames.memory_usage()"
   ]
  },
  {
   "cell_type": "code",
   "execution_count": null,
   "metadata": {},
   "outputs": [],
   "source": []
  }
 ],
 "metadata": {
  "kernelspec": {
   "display_name": "Python 3",
   "language": "python",
   "name": "python3"
  },
  "language_info": {
   "codemirror_mode": {
    "name": "ipython",
    "version": 3
   },
   "file_extension": ".py",
   "mimetype": "text/x-python",
   "name": "python",
   "nbconvert_exporter": "python",
   "pygments_lexer": "ipython3",
   "version": "3.8.5"
  }
 },
 "nbformat": 4,
 "nbformat_minor": 4
}
