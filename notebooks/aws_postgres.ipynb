{
 "cells": [
  {
   "cell_type": "code",
   "execution_count": 1,
   "metadata": {},
   "outputs": [],
   "source": [
    "import os\n",
    "from dotenv import load_dotenv\n",
    "from sqlalchemy import create_engine\n",
    "import pandas as pd\n",
    "import numpy as np\n",
    "import pickle"
   ]
  },
  {
   "cell_type": "code",
   "execution_count": 2,
   "metadata": {},
   "outputs": [
    {
     "data": {
      "text/plain": [
       "True"
      ]
     },
     "execution_count": 2,
     "metadata": {},
     "output_type": "execute_result"
    }
   ],
   "source": [
    "load_dotenv()"
   ]
  },
  {
   "cell_type": "code",
   "execution_count": 3,
   "metadata": {},
   "outputs": [],
   "source": [
    "boardgames = pd.read_csv('../data/boardgames_extend.csv', index_col='id')"
   ]
  },
  {
   "cell_type": "code",
   "execution_count": 4,
   "metadata": {},
   "outputs": [],
   "source": [
    "users = pd.read_csv('../data/users.csv')"
   ]
  },
  {
   "cell_type": "code",
   "execution_count": 5,
   "metadata": {},
   "outputs": [],
   "source": [
    "ratings = pd.read_csv('../data/ratings_cleaned.csv')"
   ]
  },
  {
   "cell_type": "code",
   "execution_count": 6,
   "metadata": {},
   "outputs": [],
   "source": [
    "with open('../models/knn_model_cosine.pickle', 'rb') as file:\n",
    "    model = pickle.load(file)"
   ]
  },
  {
   "cell_type": "code",
   "execution_count": 7,
   "metadata": {},
   "outputs": [],
   "source": [
    "uri = os.getenv('LOCAL_POSTGRES_BOARDGAMEGEEKS_URI')\n",
    "\n",
    "engine = create_engine(uri, echo=False)"
   ]
  },
  {
   "cell_type": "code",
   "execution_count": 8,
   "metadata": {},
   "outputs": [],
   "source": [
    "def lookup_boardgame(ids):    \n",
    "    '''\n",
    "    converts boardgame ids into boardgame names\n",
    "    '''\n",
    "    return boardgames.loc[ids, 'name'].tolist()\n",
    "\n",
    "def list_to_query(ids):\n",
    "    ids_str = [str(i) for i in ids]\n",
    "    ids_str = ','.join(ids_str)\n",
    "    return ids_str\n",
    "\n",
    "def lookup_boardgame_sql(ids):\n",
    "    ids_str = list_to_query(ids)\n",
    "    query = f'SELECT boardgamename FROM boardgames WHERE boardgameid IN ({ids_str});'\n",
    "    request = pd.read_sql(query, engine)\n",
    "    return request['boardgamename'].tolist()"
   ]
  },
  {
   "cell_type": "code",
   "execution_count": 17,
   "metadata": {},
   "outputs": [],
   "source": [
    "def lookup_user_id(user_name):\n",
    "    '''\n",
    "    returns the user id of a user\n",
    "    '''\n",
    "    user_id = users[users['user_name']==user_name]['user_id'].tolist()[0]\n",
    "    return user_id\n",
    "\n",
    "def lookup_user_id_sql(user_name):\n",
    "    '''\n",
    "    returns the user id of a user\n",
    "    '''\n",
    "    query = f'''SELECT userid FROM users WHERE username = '{user_name}';'''\n",
    "    user_id = pd.read_sql(query, engine )['userid'][0]\n",
    "    return user_id"
   ]
  },
  {
   "cell_type": "code",
   "execution_count": 10,
   "metadata": {},
   "outputs": [],
   "source": [
    "def create_user_ratings(user_name):\n",
    "    '''\n",
    "    returns a dataframe with rated boardgames for a specified user\n",
    "    '''\n",
    "    user_id = lookup_user_id(user_name)\n",
    "    user = ratings[ratings['user_id']==user_id]\n",
    "    return user\n",
    "\n",
    "def create_user_ratings_sql(user_name):\n",
    "    '''\n",
    "    returns a dataframe with rated boardgames for a specified user\n",
    "    '''\n",
    "    user_id = lookup_user_id_sql(user_name)\n",
    "    query = f'''SELECT boardgameid,rating, userid FROM ratings WHERE userid = {user_id};'''\n",
    "    user = pd.read_sql(query, engine)\n",
    "    return user"
   ]
  },
  {
   "cell_type": "code",
   "execution_count": 11,
   "metadata": {},
   "outputs": [],
   "source": [
    "def create_user_vector(user_name):\n",
    "    '''\n",
    "    returns a 1d array of the ratings of one user\n",
    "    unrated boardgames = 0\n",
    "    '''\n",
    "    user = create_user_ratings(user_name)\n",
    "    vector_length = ratings['boardgame_id'].max()\n",
    "    vector = np.repeat(0, vector_length+1)\n",
    "    vector[user['boardgame_id']] = user['ratings']\n",
    "    return vector\n",
    "\n",
    "def create_user_vector_sql(user_name):\n",
    "    '''\n",
    "    returns a 1d array of the ratings of one user\n",
    "    unrated boardgames = 0\n",
    "    '''\n",
    "    user = create_user_ratings_sql(user_name)\n",
    "    query = '''SELECT MAX(boardgameid) FROM boardgames;'''\n",
    "    vector_length = pd.read_sql(query, engine)['max'][0]\n",
    "    vector = np.repeat(0, vector_length+1)\n",
    "    vector[user['boardgameid']] = user['rating']\n",
    "    return vector"
   ]
  },
  {
   "cell_type": "code",
   "execution_count": 12,
   "metadata": {},
   "outputs": [],
   "source": [
    "def values_to_list(df, column_name):\n",
    "    categories = []\n",
    "    for i in df[df[column_name].notna()].iterrows():\n",
    "        categories = categories + i[1][column_name].split(', ')\n",
    "    categories = list(dict.fromkeys(categories))\n",
    "    categories.sort()\n",
    "    return categories\n",
    "\n",
    "def values_to_list_sql(column_name):\n",
    "    categories = []\n",
    "    query = f'''SELECT {column_name} FROM boardgames;'''\n",
    "    df = pd.read_sql(query, engine)\n",
    "    for i in df[df[column_name].notna()].iterrows():\n",
    "        categories = categories + i[1][column_name].split(', ')\n",
    "    categories = list(dict.fromkeys(categories))\n",
    "    categories.sort()\n",
    "    return categories"
   ]
  },
  {
   "cell_type": "code",
   "execution_count": 19,
   "metadata": {},
   "outputs": [],
   "source": [
    "def user_rated_boardgames(user_name):\n",
    "    query = f'''\n",
    "        SELECT boardgames.boardgameid, boardgames.boardgamename, ratings.rating FROM boardgames\n",
    "        JOIN ratings ON ratings.boardgameid = boardgames.boardgameid\n",
    "        JOIN users ON users.userid = ratings.userid\n",
    "        WHERE users.username = '{user_name}'\n",
    "        ORDER BY ratings.rating DESC;\n",
    "        '''\n",
    "    df = pd.read_sql(query, engine)\n",
    "    return df['boardgameid'].tolist(), df['boardgamename'].tolist(), df['rating'].tolist()"
   ]
  },
  {
   "cell_type": "code",
   "execution_count": 21,
   "metadata": {},
   "outputs": [],
   "source": [
    "def neighbor_recommender(user_name):\n",
    "    '''\n",
    "    returns a list of boardgame recommendations\n",
    "    '''\n",
    "    user_ratings = create_user_ratings(user_name)\n",
    "    user_vector = create_user_vector(user_name)\n",
    "    #create neigbors of user\n",
    "    distances, neighbor_ids = model.kneighbors([user_vector], n_neighbors=10)\n",
    "    print(neighbor_ids)\n",
    "    print(distances)\n",
    "    neighbor_filter = ratings['user_id'].isin(neighbor_ids[0][1:])\n",
    "    #create mean retings of games, rated by the neighbors\n",
    "    neighbor_ratings = ratings[neighbor_filter].groupby('boardgame_id').mean()\n",
    "    #sort rated games by mean rating\n",
    "    neighbor_top = neighbor_ratings['ratings'].sort_values(ascending=False)\n",
    "    #remove games which user rated already\n",
    "    played_filter = ~neighbor_top.index.isin(user_ratings['boardgame_id'])\n",
    "    recommend_ids = neighbor_top[played_filter].index\n",
    "    return boardgames.loc[recommend_ids]['name'].tolist()[:20]\n",
    "\n",
    "def neighbor_recommender_sql(user_name):\n",
    "    '''\n",
    "    returns a list of boardgame recommendations\n",
    "    '''\n",
    "    user_ratings = create_user_ratings_sql(user_name)\n",
    "    user_vector = create_user_vector_sql(user_name)\n",
    "    distances, neighbor_ids = model.kneighbors([user_vector], n_neighbors=10)\n",
    "    neighbor_ids = list_to_query(neighbor_ids[0])\n",
    "    boardgame_ids, boardgame_names, ratings = user_rated_boardgames(user_name)\n",
    "    boardgame_ids = list_to_query(boardgame_ids)\n",
    "    query = f'''\n",
    "        SELECT boardgames.boardgamename, AVG(ratings.rating) FROM ratings \n",
    "        JOIN boardgames ON boardgames.boardgameid = ratings.boardgameid\n",
    "        WHERE ratings.userid IN({neighbor_ids}) AND ratings.boardgameid NOT IN ({boardgame_ids})\n",
    "        GROUP BY boardgames.boardgamename\n",
    "        ORDER BY avg DESC\n",
    "        LIMIT 20;\n",
    "        '''\n",
    "    return pd.read_sql(query, engine)['boardgamename'].tolist()\n"
   ]
  },
  {
   "cell_type": "code",
   "execution_count": 22,
   "metadata": {},
   "outputs": [
    {
     "data": {
      "text/plain": [
       "['The Lord of the Rings: Journeys in Middle-Earth',\n",
       " 'Go',\n",
       " 'Magic: The Gathering',\n",
       " 'Scythe: The Rise of Fenris',\n",
       " 'Puerto Rico',\n",
       " 'Eclipse: Second Dawn for the Galaxy',\n",
       " 'Clank!: A Deck-Building Adventure',\n",
       " 'Smart10',\n",
       " 'Teotihuacan: City of Gods',\n",
       " 'The Isle of Cats',\n",
       " 'Oceans',\n",
       " 'Crokinole',\n",
       " 'Architects of the West Kingdom',\n",
       " 'On Mars',\n",
       " 'Rebound',\n",
       " 'Jenga',\n",
       " 'Mage Knight Board Game',\n",
       " 'Arkham Horror (Third Edition)',\n",
       " 'Gloomhaven',\n",
       " \"Tzolk'in: The Mayan Calendar\"]"
      ]
     },
     "execution_count": 22,
     "metadata": {},
     "output_type": "execute_result"
    }
   ],
   "source": [
    "neighbor_recommender_sql('Ser0')"
   ]
  },
  {
   "cell_type": "code",
   "execution_count": null,
   "metadata": {},
   "outputs": [],
   "source": [
    "neighbor_recommender('Ser0')"
   ]
  },
  {
   "cell_type": "code",
   "execution_count": null,
   "metadata": {},
   "outputs": [],
   "source": [
    "#user_ratings = create_user_ratings_sql('Ser0')\n",
    "#user_vector = create_user_vector_sql('Ser0')\n",
    "#distances, neighbor_ids = model.kneighbors([user_vector], n_neighbors=10)\n",
    "#neighbor_ids = list_to_query(neighbor_ids[0])\n",
    "#boardgame_ids, boardgame_names, ratings = user_rated_boardgames('Ser0')\n",
    "#boardgame_ids = list_to_query(boardgame_ids)\n",
    "#query = f'''\n",
    "#        SELECT boardgameid, AVG(rating) FROM ratings \n",
    "#        WHERE userid IN({neighbor_ids}) AND boardgameid NOT IN ({boardgame_ids})\n",
    "#        GROUP BY boardgameid\n",
    "#        ORDER BY avg DESC;\n",
    "#        '''\n",
    "#pd.read_sql(query, engine)"
   ]
  },
  {
   "cell_type": "code",
   "execution_count": 20,
   "metadata": {},
   "outputs": [
    {
     "data": {
      "text/html": [
       "<div>\n",
       "<style scoped>\n",
       "    .dataframe tbody tr th:only-of-type {\n",
       "        vertical-align: middle;\n",
       "    }\n",
       "\n",
       "    .dataframe tbody tr th {\n",
       "        vertical-align: top;\n",
       "    }\n",
       "\n",
       "    .dataframe thead th {\n",
       "        text-align: right;\n",
       "    }\n",
       "</style>\n",
       "<table border=\"1\" class=\"dataframe\">\n",
       "  <thead>\n",
       "    <tr style=\"text-align: right;\">\n",
       "      <th></th>\n",
       "      <th>boardgamename</th>\n",
       "      <th>avg</th>\n",
       "    </tr>\n",
       "  </thead>\n",
       "  <tbody>\n",
       "    <tr>\n",
       "      <th>0</th>\n",
       "      <td>The Lord of the Rings: Journeys in Middle-Earth</td>\n",
       "      <td>10.000</td>\n",
       "    </tr>\n",
       "    <tr>\n",
       "      <th>1</th>\n",
       "      <td>Go</td>\n",
       "      <td>10.000</td>\n",
       "    </tr>\n",
       "    <tr>\n",
       "      <th>2</th>\n",
       "      <td>Magic: The Gathering</td>\n",
       "      <td>10.000</td>\n",
       "    </tr>\n",
       "    <tr>\n",
       "      <th>3</th>\n",
       "      <td>Scythe: The Rise of Fenris</td>\n",
       "      <td>10.000</td>\n",
       "    </tr>\n",
       "    <tr>\n",
       "      <th>4</th>\n",
       "      <td>Puerto Rico</td>\n",
       "      <td>10.000</td>\n",
       "    </tr>\n",
       "    <tr>\n",
       "      <th>5</th>\n",
       "      <td>Eclipse: Second Dawn for the Galaxy</td>\n",
       "      <td>10.000</td>\n",
       "    </tr>\n",
       "    <tr>\n",
       "      <th>6</th>\n",
       "      <td>Clank!: A Deck-Building Adventure</td>\n",
       "      <td>9.125</td>\n",
       "    </tr>\n",
       "    <tr>\n",
       "      <th>7</th>\n",
       "      <td>Smart10</td>\n",
       "      <td>9.000</td>\n",
       "    </tr>\n",
       "    <tr>\n",
       "      <th>8</th>\n",
       "      <td>Teotihuacan: City of Gods</td>\n",
       "      <td>9.000</td>\n",
       "    </tr>\n",
       "    <tr>\n",
       "      <th>9</th>\n",
       "      <td>The Isle of Cats</td>\n",
       "      <td>9.000</td>\n",
       "    </tr>\n",
       "    <tr>\n",
       "      <th>10</th>\n",
       "      <td>Oceans</td>\n",
       "      <td>9.000</td>\n",
       "    </tr>\n",
       "    <tr>\n",
       "      <th>11</th>\n",
       "      <td>Crokinole</td>\n",
       "      <td>9.000</td>\n",
       "    </tr>\n",
       "    <tr>\n",
       "      <th>12</th>\n",
       "      <td>Architects of the West Kingdom</td>\n",
       "      <td>9.000</td>\n",
       "    </tr>\n",
       "    <tr>\n",
       "      <th>13</th>\n",
       "      <td>On Mars</td>\n",
       "      <td>9.000</td>\n",
       "    </tr>\n",
       "    <tr>\n",
       "      <th>14</th>\n",
       "      <td>Rebound</td>\n",
       "      <td>9.000</td>\n",
       "    </tr>\n",
       "    <tr>\n",
       "      <th>15</th>\n",
       "      <td>Jenga</td>\n",
       "      <td>9.000</td>\n",
       "    </tr>\n",
       "    <tr>\n",
       "      <th>16</th>\n",
       "      <td>Mage Knight Board Game</td>\n",
       "      <td>9.000</td>\n",
       "    </tr>\n",
       "    <tr>\n",
       "      <th>17</th>\n",
       "      <td>Arkham Horror (Third Edition)</td>\n",
       "      <td>9.000</td>\n",
       "    </tr>\n",
       "    <tr>\n",
       "      <th>18</th>\n",
       "      <td>Gloomhaven</td>\n",
       "      <td>9.000</td>\n",
       "    </tr>\n",
       "    <tr>\n",
       "      <th>19</th>\n",
       "      <td>Tzolk'in: The Mayan Calendar</td>\n",
       "      <td>9.000</td>\n",
       "    </tr>\n",
       "  </tbody>\n",
       "</table>\n",
       "</div>"
      ],
      "text/plain": [
       "                                      boardgamename     avg\n",
       "0   The Lord of the Rings: Journeys in Middle-Earth  10.000\n",
       "1                                                Go  10.000\n",
       "2                              Magic: The Gathering  10.000\n",
       "3                        Scythe: The Rise of Fenris  10.000\n",
       "4                                       Puerto Rico  10.000\n",
       "5               Eclipse: Second Dawn for the Galaxy  10.000\n",
       "6                 Clank!: A Deck-Building Adventure   9.125\n",
       "7                                           Smart10   9.000\n",
       "8                         Teotihuacan: City of Gods   9.000\n",
       "9                                  The Isle of Cats   9.000\n",
       "10                                           Oceans   9.000\n",
       "11                                        Crokinole   9.000\n",
       "12                   Architects of the West Kingdom   9.000\n",
       "13                                          On Mars   9.000\n",
       "14                                          Rebound   9.000\n",
       "15                                            Jenga   9.000\n",
       "16                           Mage Knight Board Game   9.000\n",
       "17                    Arkham Horror (Third Edition)   9.000\n",
       "18                                       Gloomhaven   9.000\n",
       "19                     Tzolk'in: The Mayan Calendar   9.000"
      ]
     },
     "execution_count": 20,
     "metadata": {},
     "output_type": "execute_result"
    }
   ],
   "source": []
  },
  {
   "cell_type": "code",
   "execution_count": null,
   "metadata": {},
   "outputs": [],
   "source": [
    "recommendations"
   ]
  },
  {
   "cell_type": "code",
   "execution_count": null,
   "metadata": {},
   "outputs": [],
   "source": [
    "list_to_query(neighbor_ids[0])"
   ]
  },
  {
   "cell_type": "code",
   "execution_count": null,
   "metadata": {},
   "outputs": [],
   "source": [
    "vector = create_user_vector_sql('Ser0')"
   ]
  },
  {
   "cell_type": "code",
   "execution_count": null,
   "metadata": {},
   "outputs": [],
   "source": [
    "vector[155203]"
   ]
  },
  {
   "cell_type": "code",
   "execution_count": null,
   "metadata": {},
   "outputs": [],
   "source": [
    "create_user_ratings_sql('Ser0')"
   ]
  },
  {
   "cell_type": "code",
   "execution_count": null,
   "metadata": {},
   "outputs": [],
   "source": [
    "\n",
    "    #return df"
   ]
  },
  {
   "cell_type": "code",
   "execution_count": null,
   "metadata": {},
   "outputs": [],
   "source": [
    "user_rated_boardgames('Ser0')"
   ]
  },
  {
   "cell_type": "markdown",
   "metadata": {},
   "source": [
    "## QUERIES\n",
    "- SELECT * FROM users WHERE username = 'Ser0';\n",
    "-     SELECT boardgames.boardgamename FROM boardgames JOIN ratings ON ratings.boardgameid = boardgames.boardgameid JOIN users ON users.userid = ratings.userid WHERE users.username = 'Ser0';"
   ]
  },
  {
   "cell_type": "code",
   "execution_count": null,
   "metadata": {},
   "outputs": [],
   "source": [
    "pd.read_sql('SELECT * FROM boardgames LIMIT 10', engine)"
   ]
  },
  {
   "cell_type": "code",
   "execution_count": null,
   "metadata": {},
   "outputs": [],
   "source": [
    "pd.read_sql('SELECT * FROM ratings LIMIT 10', engine)"
   ]
  },
  {
   "cell_type": "code",
   "execution_count": null,
   "metadata": {},
   "outputs": [],
   "source": []
  }
 ],
 "metadata": {
  "kernelspec": {
   "display_name": "Python 3",
   "language": "python",
   "name": "python3"
  },
  "language_info": {
   "codemirror_mode": {
    "name": "ipython",
    "version": 3
   },
   "file_extension": ".py",
   "mimetype": "text/x-python",
   "name": "python",
   "nbconvert_exporter": "python",
   "pygments_lexer": "ipython3",
   "version": "3.8.5"
  }
 },
 "nbformat": 4,
 "nbformat_minor": 4
}
