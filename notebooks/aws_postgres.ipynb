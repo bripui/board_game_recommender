{
 "cells": [
  {
   "cell_type": "code",
   "execution_count": 245,
   "metadata": {},
   "outputs": [],
   "source": [
    "import os\n",
    "import random\n",
    "from dotenv import load_dotenv\n",
    "from sqlalchemy import create_engine\n",
    "import pandas as pd\n",
    "import numpy as np\n",
    "import pickle\n",
    "from sklearn.neighbors import NearestNeighbors\n",
    "from fuzzywuzzy import process"
   ]
  },
  {
   "cell_type": "code",
   "execution_count": 4,
   "metadata": {},
   "outputs": [
    {
     "data": {
      "text/plain": [
       "True"
      ]
     },
     "execution_count": 4,
     "metadata": {},
     "output_type": "execute_result"
    }
   ],
   "source": [
    "load_dotenv()"
   ]
  },
  {
   "cell_type": "code",
   "execution_count": 5,
   "metadata": {},
   "outputs": [],
   "source": [
    "boardgames = pd.read_csv('../data/boardgames_extend.csv', index_col='id')"
   ]
  },
  {
   "cell_type": "code",
   "execution_count": 6,
   "metadata": {},
   "outputs": [],
   "source": [
    "users = pd.read_csv('../data/users.csv')"
   ]
  },
  {
   "cell_type": "code",
   "execution_count": 7,
   "metadata": {},
   "outputs": [],
   "source": [
    "ratings = pd.read_csv('../data/ratings_cleaned.csv')"
   ]
  },
  {
   "cell_type": "code",
   "execution_count": 8,
   "metadata": {},
   "outputs": [],
   "source": [
    "with open('../models/knn_model_cosine.pickle', 'rb') as file:\n",
    "    model = pickle.load(file)\n",
    "\n",
    "with open('../models/nmf_50.pickle', 'rb') as file:\n",
    "    nmf = pickle.load(file)\n",
    "\n",
    "with open('../models/P_50', 'rb') as file:\n",
    "    P = np.load(file)    "
   ]
  },
  {
   "cell_type": "code",
   "execution_count": 9,
   "metadata": {},
   "outputs": [],
   "source": [
    "uri = os.getenv('LOCAL_POSTGRES_BOARDGAMEGEEKS_URI')\n",
    "\n",
    "engine = create_engine(uri, echo=False)"
   ]
  },
  {
   "cell_type": "code",
   "execution_count": 10,
   "metadata": {},
   "outputs": [],
   "source": [
    "def lookup_boardgame(ids):    \n",
    "    '''\n",
    "    converts boardgame ids into boardgame names\n",
    "    '''\n",
    "    return boardgames.loc[ids, 'name'].tolist()\n",
    "\n",
    "def list_to_query(ids):\n",
    "    ids_str = [str(i) for i in ids]\n",
    "    ids_str = ','.join(ids_str)\n",
    "    return ids_str\n",
    "\n",
    "def lookup_boardgame_sql(ids):\n",
    "    ids_str = list_to_query(ids)\n",
    "    query = f'SELECT boardgamename FROM boardgames WHERE boardgameid IN ({ids_str});'\n",
    "    request = pd.read_sql(query, engine)\n",
    "    return request['boardgamename'].tolist()"
   ]
  },
  {
   "cell_type": "code",
   "execution_count": 11,
   "metadata": {},
   "outputs": [],
   "source": [
    "def lookup_user_id(user_name):\n",
    "    '''\n",
    "    returns the user id of a user\n",
    "    '''\n",
    "    user_id = users[users['user_name']==user_name]['user_id'].tolist()[0]\n",
    "    return user_id\n",
    "\n",
    "def lookup_user_id_sql(user_name):\n",
    "    '''\n",
    "    returns the user id of a user\n",
    "    '''\n",
    "    query = f'''SELECT userid FROM users WHERE username = '{user_name}';'''\n",
    "    user_id = pd.read_sql(query, engine )['userid'][0]\n",
    "    return user_id"
   ]
  },
  {
   "cell_type": "code",
   "execution_count": 12,
   "metadata": {},
   "outputs": [],
   "source": [
    "def create_user_ratings(user_name):\n",
    "    '''\n",
    "    returns a dataframe with rated boardgames for a specified user\n",
    "    '''\n",
    "    user_id = lookup_user_id(user_name)\n",
    "    user = ratings[ratings['user_id']==user_id]\n",
    "    return user\n",
    "\n",
    "def create_user_ratings_sql(user_name):\n",
    "    '''\n",
    "    returns a dataframe with rated boardgames for a specified user\n",
    "    '''\n",
    "    user_id = lookup_user_id_sql(user_name)\n",
    "    query = f'''SELECT boardgameid,rating, userid FROM ratings WHERE userid = {user_id};'''\n",
    "    user = pd.read_sql(query, engine)\n",
    "    return user"
   ]
  },
  {
   "cell_type": "code",
   "execution_count": 13,
   "metadata": {},
   "outputs": [],
   "source": [
    "def create_user_vector(user_name):\n",
    "    '''\n",
    "    returns a 1d array of the ratings of one user\n",
    "    unrated boardgames = 0\n",
    "    '''\n",
    "    user = create_user_ratings(user_name)\n",
    "    vector_length = ratings['boardgame_id'].max()\n",
    "    vector = np.repeat(0, vector_length+1)\n",
    "    vector[user['boardgame_id']] = user['ratings']\n",
    "    return vector\n",
    "\n",
    "def create_user_vector_sql(user_name):\n",
    "    '''\n",
    "    returns a 1d array of the ratings of one user\n",
    "    unrated boardgames = 0\n",
    "    '''\n",
    "    user = create_user_ratings_sql(user_name)\n",
    "    query = '''SELECT MAX(boardgameid) FROM boardgames;'''\n",
    "    vector_length = pd.read_sql(query, engine)['max'][0]\n",
    "    vector = np.repeat(0, vector_length+1)\n",
    "    vector[user['boardgameid']] = user['rating']\n",
    "    return vector"
   ]
  },
  {
   "cell_type": "code",
   "execution_count": 14,
   "metadata": {},
   "outputs": [],
   "source": [
    "def values_to_list(df, column_name):\n",
    "    categories = []\n",
    "    for i in df[df[column_name].notna()].iterrows():\n",
    "        categories = categories + i[1][column_name].split(', ')\n",
    "    categories = list(dict.fromkeys(categories))\n",
    "    categories.sort()\n",
    "    return categories\n",
    "\n",
    "def values_to_list_sql(column_name):\n",
    "    categories = []\n",
    "    query = f'''SELECT {column_name} FROM boardgames;'''\n",
    "    df = pd.read_sql(query, engine)\n",
    "    for i in df[df[column_name].notna()].iterrows():\n",
    "        categories = categories + i[1][column_name].split(', ')\n",
    "    categories = list(dict.fromkeys(categories))\n",
    "    categories.sort()\n",
    "    return categories"
   ]
  },
  {
   "cell_type": "code",
   "execution_count": 15,
   "metadata": {},
   "outputs": [],
   "source": [
    "def user_rated_boardgames(user_name):\n",
    "    query = f'''\n",
    "        SELECT boardgames.boardgameid, boardgames.boardgamename, ratings.rating FROM boardgames\n",
    "        JOIN ratings ON ratings.boardgameid = boardgames.boardgameid\n",
    "        JOIN users ON users.userid = ratings.userid\n",
    "        WHERE users.username = '{user_name}'\n",
    "        ORDER BY ratings.rating DESC;\n",
    "        '''\n",
    "    df = pd.read_sql(query, engine)\n",
    "    return df['boardgameid'].tolist(), df['boardgamename'].tolist(), df['rating'].tolist()"
   ]
  },
  {
   "cell_type": "code",
   "execution_count": 16,
   "metadata": {},
   "outputs": [],
   "source": [
    "def neighbor_recommender(user_name):\n",
    "    '''\n",
    "    returns a list of boardgame recommendations\n",
    "    '''\n",
    "    user_ratings = create_user_ratings(user_name)\n",
    "    user_vector = create_user_vector(user_name)\n",
    "    #create neigbors of user\n",
    "    distances, neighbor_ids = model.kneighbors([user_vector], n_neighbors=10)\n",
    "    print(neighbor_ids)\n",
    "    print(distances)\n",
    "    neighbor_filter = ratings['user_id'].isin(neighbor_ids[0][1:])\n",
    "    #create mean retings of games, rated by the neighbors\n",
    "    neighbor_ratings = ratings[neighbor_filter].groupby('boardgame_id').mean()\n",
    "    #sort rated games by mean rating\n",
    "    neighbor_top = neighbor_ratings['ratings'].sort_values(ascending=False)\n",
    "    #remove games which user rated already\n",
    "    played_filter = ~neighbor_top.index.isin(user_ratings['boardgame_id'])\n",
    "    recommend_ids = neighbor_top[played_filter].index\n",
    "    return boardgames.loc[recommend_ids]['name'].tolist()[:20]\n",
    "\n",
    "def neighbor_recommender_sql(user_name):\n",
    "    '''\n",
    "    returns a list of boardgame recommendations\n",
    "    '''\n",
    "    user_ratings = create_user_ratings_sql(user_name)\n",
    "    user_vector = create_user_vector_sql(user_name)\n",
    "    distances, neighbor_ids = model.kneighbors([user_vector], n_neighbors=10)\n",
    "    neighbor_ids = list_to_query(neighbor_ids[0])\n",
    "    boardgame_ids, boardgame_names, ratings = user_rated_boardgames(user_name)\n",
    "    boardgame_ids = list_to_query(boardgame_ids)\n",
    "    query = f'''\n",
    "        SELECT boardgames.boardgamename, AVG(ratings.rating) FROM ratings \n",
    "        JOIN boardgames ON boardgames.boardgameid = ratings.boardgameid\n",
    "        WHERE ratings.userid IN({neighbor_ids}) AND ratings.boardgameid NOT IN ({boardgame_ids})\n",
    "        GROUP BY boardgames.boardgamename\n",
    "        ORDER BY avg DESC\n",
    "        LIMIT 20;\n",
    "        '''\n",
    "    return pd.read_sql(query, engine)['boardgamename'].tolist()\n"
   ]
  },
  {
   "cell_type": "code",
   "execution_count": 57,
   "metadata": {},
   "outputs": [],
   "source": [
    "def knn_nmf_recommender(user_name):\n",
    "    user_vector = create_user_vector(user_name)\n",
    "    knn = NearestNeighbors(metric='cosine')\n",
    "    knn.fit(P)\n",
    "    vector_transformed = nmf.transform([user_vector])\n",
    "    vector_transformed = vector_transformed.T.reshape(50,)\n",
    "    distances, neighbor_ids = knn.kneighbors([vector_transformed], n_neighbors=20)\n",
    "    print(neighbor_ids)\n",
    "    user_ratings = create_user_ratings(user_name)\n",
    "    played_by_user = user_ratings['boardgame_id']\n",
    "    neighbor_ratings = ratings[ratings['user_id'].isin(neighbor_ids[0][1:])]\n",
    "    neighbor_ratings = neighbor_ratings[(~neighbor_ratings['boardgame_id'].isin(played_by_user))]\n",
    "    value_counts = pd.DataFrame(neighbor_ratings['boardgame_id'].value_counts())\n",
    "    value_counts.columns = ['count']\n",
    "    frequently_played = value_counts[value_counts['count']>=5].index\n",
    "    recommendations = neighbor_ratings[neighbor_ratings['boardgame_id'].isin(frequently_played)].groupby('boardgame_id').mean().sort_values('ratings', ascending=False).head(15).index\n",
    "    return boardgames.loc[recommendations]['name']\n",
    "\n",
    "def knn_nmf_recommender_sql(user_name):\n",
    "        user_vector = create_user_vector_sql(user_name)\n",
    "        knn = NearestNeighbors(metric='cosine')\n",
    "        knn.fit(P)\n",
    "        vector_transformed = nmf.transform([user_vector])\n",
    "        vector_transformed = vector_transformed.T.reshape(50,)\n",
    "        distances, neighbor_ids = knn.kneighbors([vector_transformed], n_neighbors=20)\n",
    "        print(neighbor_ids)\n",
    "        neighbor_ids = list_to_query(neighbor_ids[0])\n",
    "        user_ratings = create_user_ratings_sql(user_name)\n",
    "        boardgame_ids, boardgame_names, ratings = user_rated_boardgames(user_name)\n",
    "        boardgame_ids = list_to_query(boardgame_ids)\n",
    "        query = f'''\n",
    "                SELECT COUNT(ratings.boardgameid), boardgames.boardgamename, AVG(ratings.rating) FROM ratings \n",
    "                JOIN boardgames ON boardgames.boardgameid = ratings.boardgameid\n",
    "                WHERE ratings.userid IN({neighbor_ids}) AND ratings.boardgameid NOT IN ({boardgame_ids}) \n",
    "                GROUP BY boardgames.boardgamename\n",
    "                HAVING count(*)>4\n",
    "                ORDER BY avg DESC\n",
    "                LIMIT 15\n",
    "                '''\n",
    "        return pd.read_sql(query, engine)"
   ]
  },
  {
   "cell_type": "code",
   "execution_count": 149,
   "metadata": {},
   "outputs": [],
   "source": [
    "def nmf_recommender(user_name):\n",
    "    user_vector = create_user_vector(user_name)\n",
    "    user_ratings = create_user_ratings(user_name)\n",
    "    P = nmf.transform([user_vector])\n",
    "    Q = nmf.components_\n",
    "    predictions = np.dot(P, Q)\n",
    "    #prediction include ids from 0 to length of user_vector\n",
    "    #pseudo ids for constructing a dataframe\n",
    "    pseudo_ids = list(range(0,len(user_vector)))\n",
    "    df = pd.DataFrame(predictions, columns=pseudo_ids)\n",
    "    recommendations_all = df.T.sort_values(0, ascending=False)\n",
    "    recommendations_all = recommendations_all.reset_index()\n",
    "    recommendations_all.columns = ['pseudo_id', 'pred_rating']\n",
    "    #merging with boardgames dataframe keeps only existing boardgameids\n",
    "    boardgames_merge = boardgames[['name']].reset_index()\n",
    "    prediction_df = pd.merge(boardgames_merge[['id','name']], recommendations_all, left_on='id', right_on='pseudo_id', how='left')\n",
    "    prediction_df = prediction_df.set_index('id')\n",
    "    played_by_user = user_ratings['boardgame_id']\n",
    "    played_filter = ~prediction_df.index.isin(played_by_user)\n",
    "    return prediction_df.loc[played_filter].sort_values('pred_rating', ascending=False).head(15)\n",
    "    #return prediction_df\n",
    "\n",
    "def nmf_recommender_sql(user_name):\n",
    "    user_vector = create_user_vector_sql(user_name)\n",
    "    user_ratings = create_user_ratings_sql(user_name)\n",
    "    P = nmf.transform([user_vector])\n",
    "    Q = nmf.components_\n",
    "    predictions = np.dot(P, Q)    \n",
    "    #prediction include ids from 0 to length of user_vector\n",
    "    #pseudo ids for constructing a dataframe\n",
    "    pseudo_ids = list(range(0,len(user_vector)))\n",
    "    df = pd.DataFrame(predictions, columns=pseudo_ids)\n",
    "    #sort values: existing ids will be first, non-existing ids last (due to 0 value)\n",
    "    recommendations_all = df.T.sort_values(0, ascending=False)\n",
    "    recommendations_all = recommendations_all.reset_index()\n",
    "    recommendations_all.columns = ['pseudo_id', 'pred_rating']\n",
    "    boardgame_ids, boardgame_names, ratings = user_rated_boardgames(user_name)\n",
    "    #filter already played ids from recommendations_all\n",
    "    recommendations_all = recommendations_all[~recommendations_all['pseudo_id'].isin(boardgame_ids)]\n",
    "    recommendation_ids = recommendations_all.head(15)['pseudo_id']\n",
    "    recommendation_ids = list_to_query(recommendation_ids)\n",
    "    print(recommendation_ids)\n",
    "    query = f'''\n",
    "            SELECT boardgameid, boardgamename FROM boardgames\n",
    "            WHERE boardgameid IN({recommendation_ids})\n",
    "            '''\n",
    "    recommendations = pd.read_sql(query, engine)\n",
    "    return recommendations"
   ]
  },
  {
   "cell_type": "code",
   "execution_count": 176,
   "metadata": {},
   "outputs": [],
   "source": [
    "def values_to_list(df, column_name):\n",
    "    categories = []\n",
    "    for i in df[df[column_name].notna()].iterrows():\n",
    "        categories = categories + i[1][column_name].split(', ')\n",
    "    categories = list(dict.fromkeys(categories))\n",
    "    categories.sort()\n",
    "    return categories\n",
    "\n",
    "def ohe_user_boardgames(user_name, column, weight=False):\n",
    "    '''\n",
    "    returns a one-hot-encoded matrix of parameters in column of games played by user\n",
    "    if weight = True, the encoding gets weighted by the rating\n",
    "    '''\n",
    "    games_ohe={}\n",
    "    user_id = users[users['user_name']==user_name]['user_id'].tolist()[0]\n",
    "    user_ratings = ratings[ratings['user_id']==user_id].set_index('boardgame_id')\n",
    "    user_boardgames = boardgames.loc[user_ratings.index]\n",
    "    user_boardgames = user_boardgames[user_boardgames[column].notna()]\n",
    "    user_categories = values_to_list(user_boardgames, column)    \n",
    "    for i in user_boardgames.iterrows():\n",
    "        game_vector = [0]*len(user_categories)\n",
    "        for c in i[1][column].split(', '):\n",
    "            index = user_categories.index(c)\n",
    "            if weight == True:\n",
    "                game_vector[index]=1 * user_ratings.loc[i[0]]['ratings']\n",
    "            else: \n",
    "                game_vector[index]=1\n",
    "        games_ohe[i[0]] = game_vector\n",
    "    df = pd.DataFrame(games_ohe)\n",
    "    df = df.transpose()\n",
    "    df.columns = user_categories\n",
    "    if 'Deck' in user_categories:\n",
    "        df['Deck, Bag and Pool Building'] = df['Deck']\n",
    "        df.drop(columns=['Deck', 'Bag', 'and Pool Building'], inplace=True)\n",
    "    if 'I Cut' in user_categories:\n",
    "        df['I Cut, You Choose'] = df['I Cut']\n",
    "        df.drop(columns=['I Cut', 'You Choose'], inplace=True)\n",
    "    return df\n",
    "\n",
    "def ohe_user_boardgames_sql(user_name, column, weight=False):\n",
    "    games_ohe={}\n",
    "    boardgame_ids, boardgame_names, ratings = user_rated_boardgames(user_name)\n",
    "    boardgame_ids = list_to_query(boardgame_ids)\n",
    "    query = f'''\n",
    "            SELECT boardgameid, boardgamename, {column} FROM boardgames\n",
    "            WHERE boardgameid IN({boardgame_ids});\n",
    "            '''\n",
    "    user_boardgames = pd.read_sql(query, engine)\n",
    "    user_boardgames = user_boardgames[user_boardgames[column].notna()]\n",
    "    user_categories = values_to_list(user_boardgames, column)    \n",
    "    for i in user_boardgames.iterrows():\n",
    "        game_vector = [0]*len(user_categories)\n",
    "        for c in i[1][column].split(', '):\n",
    "            index = user_categories.index(c)\n",
    "            if weight == True:\n",
    "                game_vector[index]=1 * user_ratings.loc[i[0]]['ratings']\n",
    "            else: \n",
    "                game_vector[index]=1\n",
    "        games_ohe[i[0]] = game_vector\n",
    "    df = pd.DataFrame(games_ohe)\n",
    "    df = df.transpose()\n",
    "    df.columns = user_categories\n",
    "    if 'Deck' in user_categories:\n",
    "        df['Deck, Bag and Pool Building'] = df['Deck']\n",
    "        df.drop(columns=['Deck', 'Bag', 'and Pool Building'], inplace=True)\n",
    "    if 'I Cut' in user_categories:\n",
    "        df['I Cut, You Choose'] = df['I Cut']\n",
    "        df.drop(columns=['I Cut', 'You Choose'], inplace=True)\n",
    "    return df"
   ]
  },
  {
   "cell_type": "code",
   "execution_count": 180,
   "metadata": {},
   "outputs": [
    {
     "data": {
      "text/plain": [
       "['Hand Management',\n",
       " 'Dice Rolling',\n",
       " 'Variable Player Powers',\n",
       " 'Card Drafting',\n",
       " 'Solo / Solitaire Game']"
      ]
     },
     "execution_count": 180,
     "metadata": {},
     "output_type": "execute_result"
    }
   ],
   "source": [
    "ohe_user_boardgames_sql('Ser0', 'machanics', weight=False).sum().sort_values(ascending=False).index.tolist()[:5]"
   ]
  },
  {
   "cell_type": "code",
   "execution_count": 226,
   "metadata": {},
   "outputs": [],
   "source": [
    "def lookup_boardgamename(search_query):\n",
    "    \"\"\"\n",
    "    returns boardgamename after comparing user input with boardgamenames\n",
    "    \"\"\"\n",
    "    query = 'SELECT boardgameid, boardgamename FROM boardgames'\n",
    "    result = pd.read_sql(query, engine)\n",
    "    match = process.extractOne(search_query, result['boardgamename'])\n",
    "    boardgame_id = result[result['boardgamename']==match[0]]['boardgameid']\n",
    "    # [(title, score, movieId), ...]\n",
    "    return match, boardgame_id"
   ]
  },
  {
   "cell_type": "code",
   "execution_count": 236,
   "metadata": {},
   "outputs": [],
   "source": [
    "def random_recommender(N):\n",
    "    '''\n",
    "    returns a list of N random boardgames\n",
    "    '''\n",
    "    rec_ids = []\n",
    "    for n in range(0,N):\n",
    "        rec_ids.append(random.choice(boardgames.index))\n",
    "        recommendations = lookup_boardgame(rec_ids)\n",
    "    return recommendations"
   ]
  },
  {
   "cell_type": "code",
   "execution_count": 250,
   "metadata": {},
   "outputs": [
    {
     "data": {
      "text/plain": [
       "['Panzer Grenadier',\n",
       " 'Monopoly Gamer Power Pack: Rosalina',\n",
       " 'Gangsta!',\n",
       " 'Uncharted: The Board Game – Nathan Drake & Victor Sullivan',\n",
       " 'Odisea Espacial']"
      ]
     },
     "execution_count": 250,
     "metadata": {},
     "output_type": "execute_result"
    }
   ],
   "source": [
    "query = '''\n",
    "        SELECT boardgameid FROM boardgames\n",
    "        '''\n",
    "boardgame_ids = pd.read_sql(query, engine)['boardgameid']\n",
    "#boardgame_ids\n",
    "rec_ids = []\n",
    "for n in range(0,5):\n",
    "    rec_ids.append(random.choice(boardgame_ids))\n",
    "    recommendations = lookup_boardgame_sql(rec_ids)\n",
    "\n",
    "recommendations"
   ]
  },
  {
   "cell_type": "code",
   "execution_count": 239,
   "metadata": {},
   "outputs": [
    {
     "ename": "AttributeError",
     "evalue": "'Index' object has no attribute 'boardgameid'",
     "output_type": "error",
     "traceback": [
      "\u001b[0;31m---------------------------------------------------------------------------\u001b[0m",
      "\u001b[0;31mAttributeError\u001b[0m                            Traceback (most recent call last)",
      "\u001b[0;32m<ipython-input-239-d07d6b33306d>\u001b[0m in \u001b[0;36m<module>\u001b[0;34m\u001b[0m\n\u001b[0;32m----> 1\u001b[0;31m \u001b[0mboardgames\u001b[0m\u001b[0;34m.\u001b[0m\u001b[0mcolumns\u001b[0m\u001b[0;34m.\u001b[0m\u001b[0mboardgameid\u001b[0m\u001b[0;34m\u001b[0m\u001b[0;34m\u001b[0m\u001b[0m\n\u001b[0m",
      "\u001b[0;31mAttributeError\u001b[0m: 'Index' object has no attribute 'boardgameid'"
     ]
    }
   ],
   "source": [
    "boardgames.columns.boardgameid"
   ]
  },
  {
   "cell_type": "code",
   "execution_count": 184,
   "metadata": {},
   "outputs": [
    {
     "data": {
      "text/plain": [
       "Unnamed: 0                                                    782\n",
       "rank                                                         1376\n",
       "name                                                     Kingdoms\n",
       "links                                     /boardgame/119/kingdoms\n",
       "num_voters                                                   4675\n",
       "categories                   Abstract Strategy, Fantasy, Medieval\n",
       "mechanics                                          Tile Placement\n",
       "family                         Series: Fantasy Flight Silver Line\n",
       "expansions                                   Kingdoms: The Wizard\n",
       "integrations                                                  NaN\n",
       "designers                                           Reiner Knizia\n",
       "publishers      Hans im Glück, ADC Blackfire Entertainment, Ar...\n",
       "Name: 119, dtype: object"
      ]
     },
     "execution_count": 184,
     "metadata": {},
     "output_type": "execute_result"
    }
   ],
   "source": [
    "boardgames.loc[119]"
   ]
  },
  {
   "cell_type": "markdown",
   "metadata": {},
   "source": [
    "## QUERIES\n",
    "- SELECT * FROM users WHERE username = 'Ser0';\n",
    "-     SELECT boardgames.boardgamename FROM boardgames JOIN ratings ON ratings.boardgameid = boardgames.boardgameid JOIN users ON users.userid = ratings.userid WHERE users.username = 'Ser0';"
   ]
  },
  {
   "cell_type": "code",
   "execution_count": null,
   "metadata": {},
   "outputs": [],
   "source": [
    "pd.read_sql('SELECT * FROM boardgames LIMIT 10', engine)"
   ]
  },
  {
   "cell_type": "code",
   "execution_count": null,
   "metadata": {},
   "outputs": [],
   "source": [
    "pd.read_sql('SELECT * FROM ratings LIMIT 10', engine)"
   ]
  },
  {
   "cell_type": "code",
   "execution_count": 89,
   "metadata": {},
   "outputs": [
    {
     "data": {
      "text/plain": [
       "Unnamed: 0                                                     53\n",
       "rank                                                           24\n",
       "name                                Viticulture Essential Edition\n",
       "links             /boardgame/183394/viticulture-essential-edition\n",
       "num_voters                                                  31378\n",
       "categories                                      Economic, Farming\n",
       "mechanics       Contracts, Hand Management, Solo / Solitaire G...\n",
       "family          Components: Control Boards, Country: Italy, Di...\n",
       "expansions      Tuscany: Special Worker Promo Cards, Viticultu...\n",
       "integrations                                                  NaN\n",
       "designers                             Jamey Stegmaier, Alan Stone\n",
       "publishers      Stonemaier Games, Angry Lion Games, Arclight, ...\n",
       "Name: 183394, dtype: object"
      ]
     },
     "execution_count": 89,
     "metadata": {},
     "output_type": "execute_result"
    }
   ],
   "source": [
    "boardgames.loc[183394]"
   ]
  },
  {
   "cell_type": "code",
   "execution_count": null,
   "metadata": {},
   "outputs": [],
   "source": [
    "        query = f'''\n",
    "                SELECT boardgames.boardgamename, AVG(ratings.rating), COUNT(boardgames.boardgamename) FROM ratings \n",
    "                JOIN boardgames ON boardgames.boardgameid = ratings.boardgameid\n",
    "                WHERE ratings.userid IN({neighbor_ids}) AND ratings.boardgameid NOT IN ({boardgame_ids}) \n",
    "                GROUP BY boardgames.boardgamename\n",
    "                HAVING count(*)>1\n",
    "                ORDER BY avg DESC\n",
    "                LIMIT 15;\n",
    "                '''"
   ]
  }
 ],
 "metadata": {
  "kernelspec": {
   "display_name": "Python 3",
   "language": "python",
   "name": "python3"
  },
  "language_info": {
   "codemirror_mode": {
    "name": "ipython",
    "version": 3
   },
   "file_extension": ".py",
   "mimetype": "text/x-python",
   "name": "python",
   "nbconvert_exporter": "python",
   "pygments_lexer": "ipython3",
   "version": "3.8.5"
  }
 },
 "nbformat": 4,
 "nbformat_minor": 4
}
