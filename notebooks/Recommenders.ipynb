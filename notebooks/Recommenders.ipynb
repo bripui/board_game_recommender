{
 "cells": [
  {
   "cell_type": "code",
   "execution_count": 367,
   "metadata": {},
   "outputs": [],
   "source": [
    "import pandas as pd\n",
    "import numpy as np\n",
    "import pickle \n",
    "from fuzzywuzzy import process\n",
    "from sklearn.neighbors import NearestNeighbors\n",
    "from scipy.sparse import csr_matrix"
   ]
  },
  {
   "cell_type": "code",
   "execution_count": 280,
   "metadata": {},
   "outputs": [],
   "source": [
    "def lookup_boardgame(ids):    \n",
    "    '''\n",
    "    converts boardgame ids into boardgame names\n",
    "    '''\n",
    "    return boardgames.loc[ids, 'name'].tolist()\n",
    "\n",
    "def lookup_user_id(user_name):\n",
    "    '''\n",
    "    returns the user id of a user\n",
    "    '''\n",
    "    user_id = users[users['user_name']==user_name]['user_id'].tolist()[0]\n",
    "    return user_id\n",
    "\n",
    "def create_user_vector(user_name):\n",
    "    '''\n",
    "    returns a 1d array of the ratings of one user\n",
    "    unrated boardgames = 0\n",
    "    '''\n",
    "    user = create_user_ratings(user_name)\n",
    "    vector_length = ratings['boardgame_id'].max()\n",
    "    vector = np.repeat(0, vector_length+1)\n",
    "    vector[user['boardgame_id']] = user['ratings']\n",
    "    return vector\n",
    "\n",
    "def create_user_ratings(user_name):\n",
    "    '''\n",
    "    returns a dataframe with rated boardgames for a specified user\n",
    "    '''\n",
    "    user_id = lookup_user_id(user_name)\n",
    "    user = ratings[ratings['user_id']==user_id]\n",
    "    return user\n",
    "\n",
    "def values_to_list(df, column_name):\n",
    "    categories = []\n",
    "    for i in df[df[column_name].notna()].iterrows():\n",
    "        categories = categories + i[1][column_name].split(', ')\n",
    "    categories = list(dict.fromkeys(categories))\n",
    "    categories.sort()\n",
    "    return categories\n",
    "\n",
    "\n",
    "def ohe_user_boardgames(user_name, column, weight=False):\n",
    "    '''\n",
    "    returns a one-hot-encoded matrix of parameters in column of games played by user\n",
    "    if weight = True, the encoding gets weighted by the rating\n",
    "    '''\n",
    "    games_ohe={}\n",
    "    user_id = users[users['user_name']==user_name]['user_id'].tolist()[0]\n",
    "    user_ratings = ratings[ratings['user_id']==user_id].set_index('boardgame_id')\n",
    "    user_boardgames = boardgames_ext.loc[user_ratings.index]\n",
    "    user_boardgames = user_boardgames[user_boardgames[column].notna()]\n",
    "    user_categories = values_to_list(user_boardgames, column)    \n",
    "    for i in user_boardgames.iterrows():\n",
    "        game_vector = [0]*len(user_categories)\n",
    "        for c in i[1][column].split(', '):\n",
    "            index = user_categories.index(c)\n",
    "            if weight == True:\n",
    "                game_vector[index]=1 * user_ratings.loc[i[0]]['ratings']\n",
    "            else: \n",
    "                game_vector[index]=1\n",
    "        games_ohe[i[0]] = game_vector\n",
    "    df = pd.DataFrame(games_ohe)\n",
    "    df = df.transpose()\n",
    "    df.columns = user_categories\n",
    "    return df"
   ]
  },
  {
   "cell_type": "code",
   "execution_count": 328,
   "metadata": {},
   "outputs": [
    {
     "data": {
      "text/html": [
       "<div>\n",
       "<style scoped>\n",
       "    .dataframe tbody tr th:only-of-type {\n",
       "        vertical-align: middle;\n",
       "    }\n",
       "\n",
       "    .dataframe tbody tr th {\n",
       "        vertical-align: top;\n",
       "    }\n",
       "\n",
       "    .dataframe thead th {\n",
       "        text-align: right;\n",
       "    }\n",
       "</style>\n",
       "<table border=\"1\" class=\"dataframe\">\n",
       "  <thead>\n",
       "    <tr style=\"text-align: right;\">\n",
       "      <th></th>\n",
       "      <th>Unnamed: 0</th>\n",
       "      <th>rank</th>\n",
       "      <th>name</th>\n",
       "      <th>links</th>\n",
       "      <th>num_voters</th>\n",
       "      <th>categories</th>\n",
       "      <th>mechanics</th>\n",
       "      <th>family</th>\n",
       "      <th>expansions</th>\n",
       "      <th>integrations</th>\n",
       "      <th>designers</th>\n",
       "      <th>publishers</th>\n",
       "    </tr>\n",
       "    <tr>\n",
       "      <th>id</th>\n",
       "      <th></th>\n",
       "      <th></th>\n",
       "      <th></th>\n",
       "      <th></th>\n",
       "      <th></th>\n",
       "      <th></th>\n",
       "      <th></th>\n",
       "      <th></th>\n",
       "      <th></th>\n",
       "      <th></th>\n",
       "      <th></th>\n",
       "      <th></th>\n",
       "    </tr>\n",
       "  </thead>\n",
       "  <tbody>\n",
       "    <tr>\n",
       "      <th>30549</th>\n",
       "      <td>0</td>\n",
       "      <td>104.0</td>\n",
       "      <td>Pandemic</td>\n",
       "      <td>/boardgame/30549/pandemic</td>\n",
       "      <td>104891</td>\n",
       "      <td>Medical</td>\n",
       "      <td>Action Points, Cooperative Game, Hand Manageme...</td>\n",
       "      <td>Components: Map (Global Scale), Components: Mu...</td>\n",
       "      <td>Pandemic: Gen Con 2016 Promos – Z-Force Team M...</td>\n",
       "      <td>NaN</td>\n",
       "      <td>Matt Leacock</td>\n",
       "      <td>Z-Man Games, Inc., (Unknown), Albi, Asmodee, A...</td>\n",
       "    </tr>\n",
       "    <tr>\n",
       "      <th>822</th>\n",
       "      <td>1</td>\n",
       "      <td>184.0</td>\n",
       "      <td>Carcassonne</td>\n",
       "      <td>/boardgame/822/carcassonne</td>\n",
       "      <td>104530</td>\n",
       "      <td>City Building, Medieval, Territory Building</td>\n",
       "      <td>Area Majority / Influence, Map Addition, Tile ...</td>\n",
       "      <td>Cities: Carcassonne (France), Components: Meep...</td>\n",
       "      <td>20 Jahre Darmstadt Spielt, Apothecaries (fan e...</td>\n",
       "      <td>Carcassonne: Wheel of Fortune</td>\n",
       "      <td>Klaus-Jürgen Wrede</td>\n",
       "      <td>Hans im Glück, 999 Games, Albi, Bard Centrum G...</td>\n",
       "    </tr>\n",
       "    <tr>\n",
       "      <th>13</th>\n",
       "      <td>2</td>\n",
       "      <td>408.0</td>\n",
       "      <td>Catan</td>\n",
       "      <td>/boardgame/13/catan</td>\n",
       "      <td>103960</td>\n",
       "      <td>Economic, Negotiation</td>\n",
       "      <td>Dice Rolling, Hexagon Grid, Income, Modular Bo...</td>\n",
       "      <td>Animals: Sheep, Components: Hexagonal Tiles, C...</td>\n",
       "      <td>20 Jahre Darmstadt Spielt, Brettspiel Adventsk...</td>\n",
       "      <td>NaN</td>\n",
       "      <td>Klaus Teuber</td>\n",
       "      <td>KOSMOS, 999 Games, Albi, Astrel Games, Bergsal...</td>\n",
       "    </tr>\n",
       "    <tr>\n",
       "      <th>68448</th>\n",
       "      <td>3</td>\n",
       "      <td>71.0</td>\n",
       "      <td>7 Wonders</td>\n",
       "      <td>/boardgame/68448/7-wonders</td>\n",
       "      <td>86475</td>\n",
       "      <td>Ancient, Card Game, City Building, Civilizatio...</td>\n",
       "      <td>Drafting, Hand Management, Set Collection, Sim...</td>\n",
       "      <td>Digital Implementations: Board Game Arena, Gam...</td>\n",
       "      <td>7 Wonders: Armada, 7 Wonders: Babel, 7 Wonders...</td>\n",
       "      <td>NaN</td>\n",
       "      <td>Antoine Bauza</td>\n",
       "      <td>Repos Production, ADC Blackfire Entertainment,...</td>\n",
       "    </tr>\n",
       "    <tr>\n",
       "      <th>36218</th>\n",
       "      <td>4</td>\n",
       "      <td>101.0</td>\n",
       "      <td>Dominion</td>\n",
       "      <td>/boardgame/36218/dominion</td>\n",
       "      <td>79469</td>\n",
       "      <td>Card Game, Medieval</td>\n",
       "      <td>Deck, Bag, and Pool Building, Delayed Purchase...</td>\n",
       "      <td>Crowdfunding: Wspieram, Game: Dominion, Misc: ...</td>\n",
       "      <td>Ancient Times (fan expansion for Dominion), An...</td>\n",
       "      <td>Dominion: Intrigue</td>\n",
       "      <td>Donald X. Vaccarino</td>\n",
       "      <td>Rio Grande Games, 999 Games, Albi, Bard Centru...</td>\n",
       "    </tr>\n",
       "  </tbody>\n",
       "</table>\n",
       "</div>"
      ],
      "text/plain": [
       "       Unnamed: 0   rank         name                       links  num_voters  \\\n",
       "id                                                                              \n",
       "30549           0  104.0     Pandemic   /boardgame/30549/pandemic      104891   \n",
       "822             1  184.0  Carcassonne  /boardgame/822/carcassonne      104530   \n",
       "13              2  408.0        Catan         /boardgame/13/catan      103960   \n",
       "68448           3   71.0    7 Wonders  /boardgame/68448/7-wonders       86475   \n",
       "36218           4  101.0     Dominion   /boardgame/36218/dominion       79469   \n",
       "\n",
       "                                              categories  \\\n",
       "id                                                         \n",
       "30549                                            Medical   \n",
       "822          City Building, Medieval, Territory Building   \n",
       "13                                 Economic, Negotiation   \n",
       "68448  Ancient, Card Game, City Building, Civilizatio...   \n",
       "36218                                Card Game, Medieval   \n",
       "\n",
       "                                               mechanics  \\\n",
       "id                                                         \n",
       "30549  Action Points, Cooperative Game, Hand Manageme...   \n",
       "822    Area Majority / Influence, Map Addition, Tile ...   \n",
       "13     Dice Rolling, Hexagon Grid, Income, Modular Bo...   \n",
       "68448  Drafting, Hand Management, Set Collection, Sim...   \n",
       "36218  Deck, Bag, and Pool Building, Delayed Purchase...   \n",
       "\n",
       "                                                  family  \\\n",
       "id                                                         \n",
       "30549  Components: Map (Global Scale), Components: Mu...   \n",
       "822    Cities: Carcassonne (France), Components: Meep...   \n",
       "13     Animals: Sheep, Components: Hexagonal Tiles, C...   \n",
       "68448  Digital Implementations: Board Game Arena, Gam...   \n",
       "36218  Crowdfunding: Wspieram, Game: Dominion, Misc: ...   \n",
       "\n",
       "                                              expansions  \\\n",
       "id                                                         \n",
       "30549  Pandemic: Gen Con 2016 Promos – Z-Force Team M...   \n",
       "822    20 Jahre Darmstadt Spielt, Apothecaries (fan e...   \n",
       "13     20 Jahre Darmstadt Spielt, Brettspiel Adventsk...   \n",
       "68448  7 Wonders: Armada, 7 Wonders: Babel, 7 Wonders...   \n",
       "36218  Ancient Times (fan expansion for Dominion), An...   \n",
       "\n",
       "                        integrations            designers  \\\n",
       "id                                                          \n",
       "30549                            NaN         Matt Leacock   \n",
       "822    Carcassonne: Wheel of Fortune   Klaus-Jürgen Wrede   \n",
       "13                               NaN         Klaus Teuber   \n",
       "68448                            NaN        Antoine Bauza   \n",
       "36218             Dominion: Intrigue  Donald X. Vaccarino   \n",
       "\n",
       "                                              publishers  \n",
       "id                                                        \n",
       "30549  Z-Man Games, Inc., (Unknown), Albi, Asmodee, A...  \n",
       "822    Hans im Glück, 999 Games, Albi, Bard Centrum G...  \n",
       "13     KOSMOS, 999 Games, Albi, Astrel Games, Bergsal...  \n",
       "68448  Repos Production, ADC Blackfire Entertainment,...  \n",
       "36218  Rio Grande Games, 999 Games, Albi, Bard Centru...  "
      ]
     },
     "execution_count": 328,
     "metadata": {},
     "output_type": "execute_result"
    }
   ],
   "source": [
    "boardgames = pd.read_csv('../data/boardgames_extend.csv', index_col='id')\n",
    "boardgames.head()"
   ]
  },
  {
   "cell_type": "markdown",
   "metadata": {},
   "source": [
    "# Nearest Neighbor Model"
   ]
  },
  {
   "cell_type": "code",
   "execution_count": 281,
   "metadata": {},
   "outputs": [],
   "source": [
    "ratings = pd.read_csv('../data/ratings_cleaned.csv')"
   ]
  },
  {
   "cell_type": "code",
   "execution_count": 282,
   "metadata": {},
   "outputs": [
    {
     "data": {
      "text/html": [
       "<div>\n",
       "<style scoped>\n",
       "    .dataframe tbody tr th:only-of-type {\n",
       "        vertical-align: middle;\n",
       "    }\n",
       "\n",
       "    .dataframe tbody tr th {\n",
       "        vertical-align: top;\n",
       "    }\n",
       "\n",
       "    .dataframe thead th {\n",
       "        text-align: right;\n",
       "    }\n",
       "</style>\n",
       "<table border=\"1\" class=\"dataframe\">\n",
       "  <thead>\n",
       "    <tr style=\"text-align: right;\">\n",
       "      <th></th>\n",
       "      <th>boardgame_id</th>\n",
       "      <th>ratings</th>\n",
       "      <th>user_id</th>\n",
       "    </tr>\n",
       "  </thead>\n",
       "  <tbody>\n",
       "    <tr>\n",
       "      <th>0</th>\n",
       "      <td>30549</td>\n",
       "      <td>10.0</td>\n",
       "      <td>214</td>\n",
       "    </tr>\n",
       "    <tr>\n",
       "      <th>1</th>\n",
       "      <td>822</td>\n",
       "      <td>10.0</td>\n",
       "      <td>214</td>\n",
       "    </tr>\n",
       "    <tr>\n",
       "      <th>2</th>\n",
       "      <td>13</td>\n",
       "      <td>10.0</td>\n",
       "      <td>214</td>\n",
       "    </tr>\n",
       "    <tr>\n",
       "      <th>3</th>\n",
       "      <td>68448</td>\n",
       "      <td>10.0</td>\n",
       "      <td>214</td>\n",
       "    </tr>\n",
       "    <tr>\n",
       "      <th>4</th>\n",
       "      <td>36218</td>\n",
       "      <td>10.0</td>\n",
       "      <td>214</td>\n",
       "    </tr>\n",
       "  </tbody>\n",
       "</table>\n",
       "</div>"
      ],
      "text/plain": [
       "   boardgame_id  ratings  user_id\n",
       "0         30549     10.0      214\n",
       "1           822     10.0      214\n",
       "2            13     10.0      214\n",
       "3         68448     10.0      214\n",
       "4         36218     10.0      214"
      ]
     },
     "execution_count": 282,
     "metadata": {},
     "output_type": "execute_result"
    }
   ],
   "source": [
    "ratings.head()"
   ]
  },
  {
   "cell_type": "code",
   "execution_count": 283,
   "metadata": {},
   "outputs": [
    {
     "data": {
      "text/plain": [
       "(20484318, 3)"
      ]
     },
     "execution_count": 283,
     "metadata": {},
     "output_type": "execute_result"
    }
   ],
   "source": [
    "ratings.shape"
   ]
  },
  {
   "cell_type": "code",
   "execution_count": 284,
   "metadata": {},
   "outputs": [
    {
     "data": {
      "text/plain": [
       "265862"
      ]
     },
     "execution_count": 284,
     "metadata": {},
     "output_type": "execute_result"
    }
   ],
   "source": [
    "ratings['user_id'].max()"
   ]
  },
  {
   "cell_type": "markdown",
   "metadata": {},
   "source": [
    "## Create sparse User-Item-Matrix"
   ]
  },
  {
   "cell_type": "code",
   "execution_count": 285,
   "metadata": {},
   "outputs": [],
   "source": [
    "user_item = csr_matrix((ratings['ratings'], (ratings['user_id'], ratings['boardgame_id'])))"
   ]
  },
  {
   "cell_type": "code",
   "execution_count": 286,
   "metadata": {},
   "outputs": [
    {
     "data": {
      "text/plain": [
       "(265863, 340910)"
      ]
     },
     "execution_count": 286,
     "metadata": {},
     "output_type": "execute_result"
    }
   ],
   "source": [
    "#shape = (number of users, max boardgame_id)\n",
    "user_item.shape"
   ]
  },
  {
   "cell_type": "markdown",
   "metadata": {},
   "source": [
    "## Create Model"
   ]
  },
  {
   "cell_type": "code",
   "execution_count": 287,
   "metadata": {},
   "outputs": [],
   "source": [
    "model = NearestNeighbors(metric='cosine')"
   ]
  },
  {
   "cell_type": "code",
   "execution_count": 288,
   "metadata": {},
   "outputs": [
    {
     "data": {
      "text/plain": [
       "NearestNeighbors(metric='cosine')"
      ]
     },
     "execution_count": 288,
     "metadata": {},
     "output_type": "execute_result"
    }
   ],
   "source": [
    "model.fit(user_item)"
   ]
  },
  {
   "cell_type": "code",
   "execution_count": 289,
   "metadata": {},
   "outputs": [],
   "source": [
    "#save model\n",
    "with open('../models/knn_model_cosine.pickle', 'wb') as file:\n",
    "    pickle.dump(model, file)"
   ]
  },
  {
   "cell_type": "markdown",
   "metadata": {},
   "source": [
    "## Create User Vectors"
   ]
  },
  {
   "cell_type": "code",
   "execution_count": 290,
   "metadata": {},
   "outputs": [
    {
     "data": {
      "text/html": [
       "<div>\n",
       "<style scoped>\n",
       "    .dataframe tbody tr th:only-of-type {\n",
       "        vertical-align: middle;\n",
       "    }\n",
       "\n",
       "    .dataframe tbody tr th {\n",
       "        vertical-align: top;\n",
       "    }\n",
       "\n",
       "    .dataframe thead th {\n",
       "        text-align: right;\n",
       "    }\n",
       "</style>\n",
       "<table border=\"1\" class=\"dataframe\">\n",
       "  <thead>\n",
       "    <tr style=\"text-align: right;\">\n",
       "      <th></th>\n",
       "      <th>user_name</th>\n",
       "      <th>num_ratings</th>\n",
       "      <th>user_id</th>\n",
       "    </tr>\n",
       "  </thead>\n",
       "  <tbody>\n",
       "    <tr>\n",
       "      <th>0</th>\n",
       "      <td>Walt Mulder</td>\n",
       "      <td>8675</td>\n",
       "      <td>0</td>\n",
       "    </tr>\n",
       "    <tr>\n",
       "      <th>1</th>\n",
       "      <td>Doel</td>\n",
       "      <td>8599</td>\n",
       "      <td>1</td>\n",
       "    </tr>\n",
       "    <tr>\n",
       "      <th>2</th>\n",
       "      <td>TomVasel</td>\n",
       "      <td>7052</td>\n",
       "      <td>2</td>\n",
       "    </tr>\n",
       "    <tr>\n",
       "      <th>3</th>\n",
       "      <td>warta</td>\n",
       "      <td>6902</td>\n",
       "      <td>3</td>\n",
       "    </tr>\n",
       "    <tr>\n",
       "      <th>4</th>\n",
       "      <td>jmdsplotter</td>\n",
       "      <td>6210</td>\n",
       "      <td>4</td>\n",
       "    </tr>\n",
       "  </tbody>\n",
       "</table>\n",
       "</div>"
      ],
      "text/plain": [
       "     user_name  num_ratings  user_id\n",
       "0  Walt Mulder         8675        0\n",
       "1         Doel         8599        1\n",
       "2     TomVasel         7052        2\n",
       "3        warta         6902        3\n",
       "4  jmdsplotter         6210        4"
      ]
     },
     "execution_count": 290,
     "metadata": {},
     "output_type": "execute_result"
    }
   ],
   "source": [
    "users = pd.read_csv('../data/users.csv')\n",
    "users.head()"
   ]
  },
  {
   "cell_type": "code",
   "execution_count": 291,
   "metadata": {},
   "outputs": [
    {
     "data": {
      "text/plain": [
       "40701"
      ]
     },
     "execution_count": 291,
     "metadata": {},
     "output_type": "execute_result"
    }
   ],
   "source": [
    "user_id = users[users['user_name']=='Ser0']['user_id'].tolist()[0]\n",
    "user_id"
   ]
  },
  {
   "cell_type": "code",
   "execution_count": 292,
   "metadata": {},
   "outputs": [
    {
     "data": {
      "text/html": [
       "<div>\n",
       "<style scoped>\n",
       "    .dataframe tbody tr th:only-of-type {\n",
       "        vertical-align: middle;\n",
       "    }\n",
       "\n",
       "    .dataframe tbody tr th {\n",
       "        vertical-align: top;\n",
       "    }\n",
       "\n",
       "    .dataframe thead th {\n",
       "        text-align: right;\n",
       "    }\n",
       "</style>\n",
       "<table border=\"1\" class=\"dataframe\">\n",
       "  <thead>\n",
       "    <tr style=\"text-align: right;\">\n",
       "      <th></th>\n",
       "      <th>boardgame_id</th>\n",
       "      <th>ratings</th>\n",
       "      <th>user_id</th>\n",
       "    </tr>\n",
       "  </thead>\n",
       "  <tbody>\n",
       "    <tr>\n",
       "      <th>13495904</th>\n",
       "      <td>30549</td>\n",
       "      <td>5.0</td>\n",
       "      <td>40701</td>\n",
       "    </tr>\n",
       "    <tr>\n",
       "      <th>13495905</th>\n",
       "      <td>68448</td>\n",
       "      <td>8.0</td>\n",
       "      <td>40701</td>\n",
       "    </tr>\n",
       "    <tr>\n",
       "      <th>13495906</th>\n",
       "      <td>36218</td>\n",
       "      <td>6.0</td>\n",
       "      <td>40701</td>\n",
       "    </tr>\n",
       "    <tr>\n",
       "      <th>13495907</th>\n",
       "      <td>178900</td>\n",
       "      <td>7.0</td>\n",
       "      <td>40701</td>\n",
       "    </tr>\n",
       "    <tr>\n",
       "      <th>13495908</th>\n",
       "      <td>167791</td>\n",
       "      <td>9.0</td>\n",
       "      <td>40701</td>\n",
       "    </tr>\n",
       "    <tr>\n",
       "      <th>...</th>\n",
       "      <td>...</td>\n",
       "      <td>...</td>\n",
       "      <td>...</td>\n",
       "    </tr>\n",
       "    <tr>\n",
       "      <th>13496026</th>\n",
       "      <td>303734</td>\n",
       "      <td>5.0</td>\n",
       "      <td>40701</td>\n",
       "    </tr>\n",
       "    <tr>\n",
       "      <th>13496027</th>\n",
       "      <td>42636</td>\n",
       "      <td>6.0</td>\n",
       "      <td>40701</td>\n",
       "    </tr>\n",
       "    <tr>\n",
       "      <th>13496028</th>\n",
       "      <td>165984</td>\n",
       "      <td>6.0</td>\n",
       "      <td>40701</td>\n",
       "    </tr>\n",
       "    <tr>\n",
       "      <th>13496029</th>\n",
       "      <td>135213</td>\n",
       "      <td>9.0</td>\n",
       "      <td>40701</td>\n",
       "    </tr>\n",
       "    <tr>\n",
       "      <th>13496030</th>\n",
       "      <td>155203</td>\n",
       "      <td>7.0</td>\n",
       "      <td>40701</td>\n",
       "    </tr>\n",
       "  </tbody>\n",
       "</table>\n",
       "<p>127 rows × 3 columns</p>\n",
       "</div>"
      ],
      "text/plain": [
       "          boardgame_id  ratings  user_id\n",
       "13495904         30549      5.0    40701\n",
       "13495905         68448      8.0    40701\n",
       "13495906         36218      6.0    40701\n",
       "13495907        178900      7.0    40701\n",
       "13495908        167791      9.0    40701\n",
       "...                ...      ...      ...\n",
       "13496026        303734      5.0    40701\n",
       "13496027         42636      6.0    40701\n",
       "13496028        165984      6.0    40701\n",
       "13496029        135213      9.0    40701\n",
       "13496030        155203      7.0    40701\n",
       "\n",
       "[127 rows x 3 columns]"
      ]
     },
     "execution_count": 292,
     "metadata": {},
     "output_type": "execute_result"
    }
   ],
   "source": [
    "user = create_user_ratings('Ser0')\n",
    "user"
   ]
  },
  {
   "cell_type": "code",
   "execution_count": 293,
   "metadata": {},
   "outputs": [],
   "source": [
    "user_boardgames = user['boardgame_id']"
   ]
  },
  {
   "cell_type": "code",
   "execution_count": 294,
   "metadata": {},
   "outputs": [],
   "source": [
    "#initialize vector with 0\n",
    "vector_length = ratings['boardgame_id'].max()\n",
    "vector = np.repeat(0, vector_length+1)"
   ]
  },
  {
   "cell_type": "code",
   "execution_count": 295,
   "metadata": {},
   "outputs": [],
   "source": [
    "vector[user['boardgame_id']] = user['ratings']"
   ]
  },
  {
   "cell_type": "code",
   "execution_count": 296,
   "metadata": {},
   "outputs": [
    {
     "data": {
      "text/plain": [
       "(340910,)"
      ]
     },
     "execution_count": 296,
     "metadata": {},
     "output_type": "execute_result"
    }
   ],
   "source": [
    "vector.shape"
   ]
  },
  {
   "cell_type": "markdown",
   "metadata": {},
   "source": [
    "## Find Neighbors"
   ]
  },
  {
   "cell_type": "code",
   "execution_count": 335,
   "metadata": {},
   "outputs": [],
   "source": [
    "distances, neighbor_ids = model.kneighbors([vector], n_neighbors=20)"
   ]
  },
  {
   "cell_type": "code",
   "execution_count": 336,
   "metadata": {},
   "outputs": [
    {
     "data": {
      "text/plain": [
       "array([[ 40701,  88695,  73514, 221205,  74607, 163111,  78724, 127072,\n",
       "        123549, 161858, 182491,  80020, 255072,  65479,  37333,  52490,\n",
       "        224506,  52965, 193660, 150343]])"
      ]
     },
     "execution_count": 336,
     "metadata": {},
     "output_type": "execute_result"
    }
   ],
   "source": [
    "neighbor_ids"
   ]
  },
  {
   "cell_type": "code",
   "execution_count": 337,
   "metadata": {},
   "outputs": [
    {
     "data": {
      "text/plain": [
       "array([[0.        , 0.67720592, 0.71442184, 0.72092662, 0.72340518,\n",
       "        0.72377673, 0.72456408, 0.72643922, 0.72915679, 0.72969398,\n",
       "        0.7313644 , 0.73204884, 0.73217313, 0.7327525 , 0.73386521,\n",
       "        0.73461379, 0.7346605 , 0.73605616, 0.73606324, 0.73646509]])"
      ]
     },
     "execution_count": 337,
     "metadata": {},
     "output_type": "execute_result"
    }
   ],
   "source": [
    "distances"
   ]
  },
  {
   "cell_type": "code",
   "execution_count": 338,
   "metadata": {},
   "outputs": [],
   "source": [
    "neighbor_filter = (ratings['user_id'].isin(neighbor_ids[0][1:]))\n",
    "user_played_filter = (~ratings['boardgame_id'].isin(user_boardgames))\n",
    "neighbor_ratings = ratings[neighbor_filter&user_played_filter]"
   ]
  },
  {
   "cell_type": "code",
   "execution_count": 339,
   "metadata": {},
   "outputs": [
    {
     "data": {
      "text/html": [
       "<div>\n",
       "<style scoped>\n",
       "    .dataframe tbody tr th:only-of-type {\n",
       "        vertical-align: middle;\n",
       "    }\n",
       "\n",
       "    .dataframe tbody tr th {\n",
       "        vertical-align: top;\n",
       "    }\n",
       "\n",
       "    .dataframe thead th {\n",
       "        text-align: right;\n",
       "    }\n",
       "</style>\n",
       "<table border=\"1\" class=\"dataframe\">\n",
       "  <thead>\n",
       "    <tr style=\"text-align: right;\">\n",
       "      <th></th>\n",
       "      <th>boardgame_id</th>\n",
       "      <th>ratings</th>\n",
       "      <th>user_id</th>\n",
       "    </tr>\n",
       "  </thead>\n",
       "  <tbody>\n",
       "    <tr>\n",
       "      <th>6004887</th>\n",
       "      <td>822</td>\n",
       "      <td>8.0</td>\n",
       "      <td>73514</td>\n",
       "    </tr>\n",
       "    <tr>\n",
       "      <th>6004888</th>\n",
       "      <td>13</td>\n",
       "      <td>6.5</td>\n",
       "      <td>73514</td>\n",
       "    </tr>\n",
       "    <tr>\n",
       "      <th>6004891</th>\n",
       "      <td>9209</td>\n",
       "      <td>8.0</td>\n",
       "      <td>73514</td>\n",
       "    </tr>\n",
       "    <tr>\n",
       "      <th>6004896</th>\n",
       "      <td>148228</td>\n",
       "      <td>5.0</td>\n",
       "      <td>73514</td>\n",
       "    </tr>\n",
       "    <tr>\n",
       "      <th>6004898</th>\n",
       "      <td>14996</td>\n",
       "      <td>8.0</td>\n",
       "      <td>73514</td>\n",
       "    </tr>\n",
       "    <tr>\n",
       "      <th>...</th>\n",
       "      <td>...</td>\n",
       "      <td>...</td>\n",
       "      <td>...</td>\n",
       "    </tr>\n",
       "    <tr>\n",
       "      <th>19160357</th>\n",
       "      <td>233078</td>\n",
       "      <td>10.0</td>\n",
       "      <td>161858</td>\n",
       "    </tr>\n",
       "    <tr>\n",
       "      <th>19160360</th>\n",
       "      <td>285774</td>\n",
       "      <td>8.0</td>\n",
       "      <td>161858</td>\n",
       "    </tr>\n",
       "    <tr>\n",
       "      <th>19160361</th>\n",
       "      <td>281259</td>\n",
       "      <td>9.0</td>\n",
       "      <td>161858</td>\n",
       "    </tr>\n",
       "    <tr>\n",
       "      <th>19160363</th>\n",
       "      <td>184267</td>\n",
       "      <td>9.0</td>\n",
       "      <td>161858</td>\n",
       "    </tr>\n",
       "    <tr>\n",
       "      <th>19160365</th>\n",
       "      <td>246900</td>\n",
       "      <td>10.0</td>\n",
       "      <td>161858</td>\n",
       "    </tr>\n",
       "  </tbody>\n",
       "</table>\n",
       "<p>597 rows × 3 columns</p>\n",
       "</div>"
      ],
      "text/plain": [
       "          boardgame_id  ratings  user_id\n",
       "6004887            822      8.0    73514\n",
       "6004888             13      6.5    73514\n",
       "6004891           9209      8.0    73514\n",
       "6004896         148228      5.0    73514\n",
       "6004898          14996      8.0    73514\n",
       "...                ...      ...      ...\n",
       "19160357        233078     10.0   161858\n",
       "19160360        285774      8.0   161858\n",
       "19160361        281259      9.0   161858\n",
       "19160363        184267      9.0   161858\n",
       "19160365        246900     10.0   161858\n",
       "\n",
       "[597 rows x 3 columns]"
      ]
     },
     "execution_count": 339,
     "metadata": {},
     "output_type": "execute_result"
    }
   ],
   "source": [
    "neighbor_ratings"
   ]
  },
  {
   "cell_type": "code",
   "execution_count": 340,
   "metadata": {},
   "outputs": [
    {
     "data": {
      "text/html": [
       "<div>\n",
       "<style scoped>\n",
       "    .dataframe tbody tr th:only-of-type {\n",
       "        vertical-align: middle;\n",
       "    }\n",
       "\n",
       "    .dataframe tbody tr th {\n",
       "        vertical-align: top;\n",
       "    }\n",
       "\n",
       "    .dataframe thead th {\n",
       "        text-align: right;\n",
       "    }\n",
       "</style>\n",
       "<table border=\"1\" class=\"dataframe\">\n",
       "  <thead>\n",
       "    <tr style=\"text-align: right;\">\n",
       "      <th></th>\n",
       "      <th>count</th>\n",
       "    </tr>\n",
       "  </thead>\n",
       "  <tbody>\n",
       "    <tr>\n",
       "      <th>13</th>\n",
       "      <td>7</td>\n",
       "    </tr>\n",
       "    <tr>\n",
       "      <th>201808</th>\n",
       "      <td>7</td>\n",
       "    </tr>\n",
       "    <tr>\n",
       "      <th>205637</th>\n",
       "      <td>7</td>\n",
       "    </tr>\n",
       "    <tr>\n",
       "      <th>163412</th>\n",
       "      <td>7</td>\n",
       "    </tr>\n",
       "    <tr>\n",
       "      <th>822</th>\n",
       "      <td>7</td>\n",
       "    </tr>\n",
       "  </tbody>\n",
       "</table>\n",
       "</div>"
      ],
      "text/plain": [
       "        count\n",
       "13          7\n",
       "201808      7\n",
       "205637      7\n",
       "163412      7\n",
       "822         7"
      ]
     },
     "execution_count": 340,
     "metadata": {},
     "output_type": "execute_result"
    }
   ],
   "source": [
    "value_counts = pd.DataFrame(neighbor_ratings['boardgame_id'].value_counts())\n",
    "value_counts.columns = ['count']\n",
    "value_counts.head()"
   ]
  },
  {
   "cell_type": "code",
   "execution_count": 341,
   "metadata": {},
   "outputs": [
    {
     "data": {
      "text/plain": [
       "Int64Index([    13, 201808, 205637, 163412,    822, 230802, 148228, 183394,\n",
       "            244522, 284083, 193738,  14996, 161936,    432, 191189, 244992,\n",
       "             84876, 174430, 127398,    181, 158899, 170216,   1406, 129622,\n",
       "            199042, 121921, 265736, 254640, 271320,   9209, 157354,     11,\n",
       "            274960, 223040, 182028,  10547, 262712, 192291,  70919, 188834,\n",
       "             39856, 169426, 221107, 147949,   9220, 269207, 233867, 236457,\n",
       "            233078, 257499],\n",
       "           dtype='int64')"
      ]
     },
     "execution_count": 341,
     "metadata": {},
     "output_type": "execute_result"
    }
   ],
   "source": [
    "frequently_played = value_counts[value_counts['count']>2].index\n",
    "frequently_played"
   ]
  },
  {
   "cell_type": "code",
   "execution_count": 343,
   "metadata": {},
   "outputs": [
    {
     "data": {
      "text/html": [
       "<div>\n",
       "<style scoped>\n",
       "    .dataframe tbody tr th:only-of-type {\n",
       "        vertical-align: middle;\n",
       "    }\n",
       "\n",
       "    .dataframe tbody tr th {\n",
       "        vertical-align: top;\n",
       "    }\n",
       "\n",
       "    .dataframe thead th {\n",
       "        text-align: right;\n",
       "    }\n",
       "</style>\n",
       "<table border=\"1\" class=\"dataframe\">\n",
       "  <thead>\n",
       "    <tr style=\"text-align: right;\">\n",
       "      <th></th>\n",
       "      <th>ratings</th>\n",
       "      <th>user_id</th>\n",
       "    </tr>\n",
       "    <tr>\n",
       "      <th>boardgame_id</th>\n",
       "      <th></th>\n",
       "      <th></th>\n",
       "    </tr>\n",
       "  </thead>\n",
       "  <tbody>\n",
       "    <tr>\n",
       "      <th>191189</th>\n",
       "      <td>8.800000</td>\n",
       "      <td>64898.400000</td>\n",
       "    </tr>\n",
       "    <tr>\n",
       "      <th>170216</th>\n",
       "      <td>8.625000</td>\n",
       "      <td>85407.250000</td>\n",
       "    </tr>\n",
       "    <tr>\n",
       "      <th>201808</th>\n",
       "      <td>8.571429</td>\n",
       "      <td>86049.714286</td>\n",
       "    </tr>\n",
       "    <tr>\n",
       "      <th>284083</th>\n",
       "      <td>8.500000</td>\n",
       "      <td>61821.500000</td>\n",
       "    </tr>\n",
       "    <tr>\n",
       "      <th>257499</th>\n",
       "      <td>8.466667</td>\n",
       "      <td>121802.666667</td>\n",
       "    </tr>\n",
       "  </tbody>\n",
       "</table>\n",
       "</div>"
      ],
      "text/plain": [
       "               ratings        user_id\n",
       "boardgame_id                         \n",
       "191189        8.800000   64898.400000\n",
       "170216        8.625000   85407.250000\n",
       "201808        8.571429   86049.714286\n",
       "284083        8.500000   61821.500000\n",
       "257499        8.466667  121802.666667"
      ]
     },
     "execution_count": 343,
     "metadata": {},
     "output_type": "execute_result"
    }
   ],
   "source": [
    "frequently_played_filter = (neighbor_ratings['boardgame_id'].isin(frequently_played))\n",
    "neighbor_taste = neighbor_ratings[frequently_played_filter].groupby('boardgame_id').mean().sort_values('ratings', ascending=False)\n",
    "neighbor_taste.head()"
   ]
  },
  {
   "cell_type": "code",
   "execution_count": 345,
   "metadata": {},
   "outputs": [
    {
     "data": {
      "text/plain": [
       "[\"Aeon's End\",\n",
       " 'Blood Rage',\n",
       " 'Clank!: A Deck-Building Adventure',\n",
       " 'The Crew: The Quest for Planet Nine',\n",
       " 'Arkham Horror (Third Edition)',\n",
       " 'Gloomhaven',\n",
       " 'Great Western Trail',\n",
       " 'Robinson Crusoe: Adventures on the Cursed Island',\n",
       " 'Azul',\n",
       " 'The Castles of Burgundy']"
      ]
     },
     "execution_count": 345,
     "metadata": {},
     "output_type": "execute_result"
    }
   ],
   "source": [
    "recommendations = boardgames.loc[neighbor_taste.index]['name'].tolist()\n",
    "recommendations[:10]"
   ]
  },
  {
   "cell_type": "code",
   "execution_count": 356,
   "metadata": {},
   "outputs": [],
   "source": [
    "def neighbor_recommender(user_name):\n",
    "    '''\n",
    "    returns a list of boardgame recommendations\n",
    "    '''\n",
    "    user_ratings = create_user_ratings(user_name)\n",
    "    user_vector = create_user_vector(user_name)\n",
    "    #create neigbors of user\n",
    "    distances, neighbor_ids = model.kneighbors([user_vector], n_neighbors=20)\n",
    "    neighbor_filter = (ratings['user_id'].isin(neighbor_ids[0][1:]))\n",
    "    user_played_filter = (~ratings['boardgame_id'].isin(user_ratings['boardgame_id']))\n",
    "    #create df only with neighboars and unplayed boardgames\n",
    "    neighbor_ratings = ratings[neighbor_filter&user_played_filter]\n",
    "    #filter for boardgames which have been played by more than 2 neighbors, groupby boardgames and order by the mean of ratings\n",
    "    value_counts = pd.DataFrame(neighbor_ratings['boardgame_id'].value_counts())\n",
    "    value_counts.columns = ['count']\n",
    "    frequently_played = value_counts[value_counts['count']>5].index\n",
    "    frequently_played_filter = (neighbor_ratings['boardgame_id'].isin(frequently_played))\n",
    "    neighbor_taste = neighbor_ratings[frequently_played_filter].groupby('boardgame_id').mean().sort_values('ratings', ascending=False)\n",
    "    recommend_ids = neighbor_taste.index\n",
    "    return boardgames.loc[recommend_ids]['name'].tolist()[:10]"
   ]
  },
  {
   "cell_type": "code",
   "execution_count": 357,
   "metadata": {},
   "outputs": [
    {
     "data": {
      "text/plain": [
       "['Clank!: A Deck-Building Adventure',\n",
       " 'The Crew: The Quest for Planet Nine',\n",
       " 'Great Western Trail',\n",
       " 'Azul',\n",
       " 'Carcassonne',\n",
       " 'Arkham Horror: The Card Game',\n",
       " 'Viticulture Essential Edition',\n",
       " 'Ticket to Ride: Europe',\n",
       " \"That's Pretty Clever!\",\n",
       " 'Patchwork']"
      ]
     },
     "execution_count": 357,
     "metadata": {},
     "output_type": "execute_result"
    }
   ],
   "source": [
    "neighbor_recommender('Ser0')"
   ]
  },
  {
   "cell_type": "markdown",
   "metadata": {},
   "source": [
    "## Find Top Categories, Mechanics etc."
   ]
  },
  {
   "cell_type": "code",
   "execution_count": 348,
   "metadata": {},
   "outputs": [
    {
     "data": {
      "text/html": [
       "<div>\n",
       "<style scoped>\n",
       "    .dataframe tbody tr th:only-of-type {\n",
       "        vertical-align: middle;\n",
       "    }\n",
       "\n",
       "    .dataframe tbody tr th {\n",
       "        vertical-align: top;\n",
       "    }\n",
       "\n",
       "    .dataframe thead th {\n",
       "        text-align: right;\n",
       "    }\n",
       "</style>\n",
       "<table border=\"1\" class=\"dataframe\">\n",
       "  <thead>\n",
       "    <tr style=\"text-align: right;\">\n",
       "      <th></th>\n",
       "      <th>Unnamed: 0</th>\n",
       "      <th>rank</th>\n",
       "      <th>name</th>\n",
       "      <th>links</th>\n",
       "      <th>num_voters</th>\n",
       "      <th>categories</th>\n",
       "      <th>mechanics</th>\n",
       "      <th>family</th>\n",
       "      <th>expansions</th>\n",
       "      <th>integrations</th>\n",
       "      <th>designers</th>\n",
       "      <th>publishers</th>\n",
       "    </tr>\n",
       "    <tr>\n",
       "      <th>id</th>\n",
       "      <th></th>\n",
       "      <th></th>\n",
       "      <th></th>\n",
       "      <th></th>\n",
       "      <th></th>\n",
       "      <th></th>\n",
       "      <th></th>\n",
       "      <th></th>\n",
       "      <th></th>\n",
       "      <th></th>\n",
       "      <th></th>\n",
       "      <th></th>\n",
       "    </tr>\n",
       "  </thead>\n",
       "  <tbody>\n",
       "    <tr>\n",
       "      <th>30549</th>\n",
       "      <td>0</td>\n",
       "      <td>104.0</td>\n",
       "      <td>Pandemic</td>\n",
       "      <td>/boardgame/30549/pandemic</td>\n",
       "      <td>104891</td>\n",
       "      <td>Medical</td>\n",
       "      <td>Action Points, Cooperative Game, Hand Manageme...</td>\n",
       "      <td>Components: Map (Global Scale), Components: Mu...</td>\n",
       "      <td>Pandemic: Gen Con 2016 Promos – Z-Force Team M...</td>\n",
       "      <td>NaN</td>\n",
       "      <td>Matt Leacock</td>\n",
       "      <td>Z-Man Games, Inc., (Unknown), Albi, Asmodee, A...</td>\n",
       "    </tr>\n",
       "    <tr>\n",
       "      <th>822</th>\n",
       "      <td>1</td>\n",
       "      <td>184.0</td>\n",
       "      <td>Carcassonne</td>\n",
       "      <td>/boardgame/822/carcassonne</td>\n",
       "      <td>104530</td>\n",
       "      <td>City Building, Medieval, Territory Building</td>\n",
       "      <td>Area Majority / Influence, Map Addition, Tile ...</td>\n",
       "      <td>Cities: Carcassonne (France), Components: Meep...</td>\n",
       "      <td>20 Jahre Darmstadt Spielt, Apothecaries (fan e...</td>\n",
       "      <td>Carcassonne: Wheel of Fortune</td>\n",
       "      <td>Klaus-Jürgen Wrede</td>\n",
       "      <td>Hans im Glück, 999 Games, Albi, Bard Centrum G...</td>\n",
       "    </tr>\n",
       "    <tr>\n",
       "      <th>13</th>\n",
       "      <td>2</td>\n",
       "      <td>408.0</td>\n",
       "      <td>Catan</td>\n",
       "      <td>/boardgame/13/catan</td>\n",
       "      <td>103960</td>\n",
       "      <td>Economic, Negotiation</td>\n",
       "      <td>Dice Rolling, Hexagon Grid, Income, Modular Bo...</td>\n",
       "      <td>Animals: Sheep, Components: Hexagonal Tiles, C...</td>\n",
       "      <td>20 Jahre Darmstadt Spielt, Brettspiel Adventsk...</td>\n",
       "      <td>NaN</td>\n",
       "      <td>Klaus Teuber</td>\n",
       "      <td>KOSMOS, 999 Games, Albi, Astrel Games, Bergsal...</td>\n",
       "    </tr>\n",
       "    <tr>\n",
       "      <th>68448</th>\n",
       "      <td>3</td>\n",
       "      <td>71.0</td>\n",
       "      <td>7 Wonders</td>\n",
       "      <td>/boardgame/68448/7-wonders</td>\n",
       "      <td>86475</td>\n",
       "      <td>Ancient, Card Game, City Building, Civilizatio...</td>\n",
       "      <td>Drafting, Hand Management, Set Collection, Sim...</td>\n",
       "      <td>Digital Implementations: Board Game Arena, Gam...</td>\n",
       "      <td>7 Wonders: Armada, 7 Wonders: Babel, 7 Wonders...</td>\n",
       "      <td>NaN</td>\n",
       "      <td>Antoine Bauza</td>\n",
       "      <td>Repos Production, ADC Blackfire Entertainment,...</td>\n",
       "    </tr>\n",
       "    <tr>\n",
       "      <th>36218</th>\n",
       "      <td>4</td>\n",
       "      <td>101.0</td>\n",
       "      <td>Dominion</td>\n",
       "      <td>/boardgame/36218/dominion</td>\n",
       "      <td>79469</td>\n",
       "      <td>Card Game, Medieval</td>\n",
       "      <td>Deck, Bag, and Pool Building, Delayed Purchase...</td>\n",
       "      <td>Crowdfunding: Wspieram, Game: Dominion, Misc: ...</td>\n",
       "      <td>Ancient Times (fan expansion for Dominion), An...</td>\n",
       "      <td>Dominion: Intrigue</td>\n",
       "      <td>Donald X. Vaccarino</td>\n",
       "      <td>Rio Grande Games, 999 Games, Albi, Bard Centru...</td>\n",
       "    </tr>\n",
       "  </tbody>\n",
       "</table>\n",
       "</div>"
      ],
      "text/plain": [
       "       Unnamed: 0   rank         name                       links  num_voters  \\\n",
       "id                                                                              \n",
       "30549           0  104.0     Pandemic   /boardgame/30549/pandemic      104891   \n",
       "822             1  184.0  Carcassonne  /boardgame/822/carcassonne      104530   \n",
       "13              2  408.0        Catan         /boardgame/13/catan      103960   \n",
       "68448           3   71.0    7 Wonders  /boardgame/68448/7-wonders       86475   \n",
       "36218           4  101.0     Dominion   /boardgame/36218/dominion       79469   \n",
       "\n",
       "                                              categories  \\\n",
       "id                                                         \n",
       "30549                                            Medical   \n",
       "822          City Building, Medieval, Territory Building   \n",
       "13                                 Economic, Negotiation   \n",
       "68448  Ancient, Card Game, City Building, Civilizatio...   \n",
       "36218                                Card Game, Medieval   \n",
       "\n",
       "                                               mechanics  \\\n",
       "id                                                         \n",
       "30549  Action Points, Cooperative Game, Hand Manageme...   \n",
       "822    Area Majority / Influence, Map Addition, Tile ...   \n",
       "13     Dice Rolling, Hexagon Grid, Income, Modular Bo...   \n",
       "68448  Drafting, Hand Management, Set Collection, Sim...   \n",
       "36218  Deck, Bag, and Pool Building, Delayed Purchase...   \n",
       "\n",
       "                                                  family  \\\n",
       "id                                                         \n",
       "30549  Components: Map (Global Scale), Components: Mu...   \n",
       "822    Cities: Carcassonne (France), Components: Meep...   \n",
       "13     Animals: Sheep, Components: Hexagonal Tiles, C...   \n",
       "68448  Digital Implementations: Board Game Arena, Gam...   \n",
       "36218  Crowdfunding: Wspieram, Game: Dominion, Misc: ...   \n",
       "\n",
       "                                              expansions  \\\n",
       "id                                                         \n",
       "30549  Pandemic: Gen Con 2016 Promos – Z-Force Team M...   \n",
       "822    20 Jahre Darmstadt Spielt, Apothecaries (fan e...   \n",
       "13     20 Jahre Darmstadt Spielt, Brettspiel Adventsk...   \n",
       "68448  7 Wonders: Armada, 7 Wonders: Babel, 7 Wonders...   \n",
       "36218  Ancient Times (fan expansion for Dominion), An...   \n",
       "\n",
       "                        integrations            designers  \\\n",
       "id                                                          \n",
       "30549                            NaN         Matt Leacock   \n",
       "822    Carcassonne: Wheel of Fortune   Klaus-Jürgen Wrede   \n",
       "13                               NaN         Klaus Teuber   \n",
       "68448                            NaN        Antoine Bauza   \n",
       "36218             Dominion: Intrigue  Donald X. Vaccarino   \n",
       "\n",
       "                                              publishers  \n",
       "id                                                        \n",
       "30549  Z-Man Games, Inc., (Unknown), Albi, Asmodee, A...  \n",
       "822    Hans im Glück, 999 Games, Albi, Bard Centrum G...  \n",
       "13     KOSMOS, 999 Games, Albi, Astrel Games, Bergsal...  \n",
       "68448  Repos Production, ADC Blackfire Entertainment,...  \n",
       "36218  Rio Grande Games, 999 Games, Albi, Bard Centru...  "
      ]
     },
     "execution_count": 348,
     "metadata": {},
     "output_type": "execute_result"
    }
   ],
   "source": [
    "boardgames.head()"
   ]
  },
  {
   "cell_type": "code",
   "execution_count": 156,
   "metadata": {},
   "outputs": [],
   "source": [
    "def values_to_list(df, column_name):\n",
    "    categories = []\n",
    "    for i in df[df[column_name].notna()].iterrows():\n",
    "        categories = categories + i[1][column_name].split(', ')\n",
    "    categories = list(dict.fromkeys(categories))\n",
    "    categories.sort()\n",
    "    return categories\n",
    "        "
   ]
  },
  {
   "cell_type": "code",
   "execution_count": 352,
   "metadata": {},
   "outputs": [],
   "source": [
    "def ohe_user_boardgames(user_name, column, weight=False):\n",
    "    '''\n",
    "    returns a one-hot-encoded matrix of parameters in column of games played by user\n",
    "    if weight = True, the encoding gets weighted by the rating\n",
    "    '''\n",
    "    games_ohe={}\n",
    "    user_id = users[users['user_name']==user_name]['user_id'].tolist()[0]\n",
    "    user_ratings = ratings[ratings['user_id']==user_id].set_index('boardgame_id')\n",
    "    user_boardgames = boardgames.loc[user_ratings.index]\n",
    "    user_boardgames = user_boardgames[user_boardgames[column].notna()]\n",
    "    user_categories = values_to_list(user_boardgames, column)    \n",
    "    for i in user_boardgames.iterrows():\n",
    "        game_vector = [0]*len(user_categories)\n",
    "        for c in i[1][column].split(', '):\n",
    "            index = user_categories.index(c)\n",
    "            if weight == True:\n",
    "                game_vector[index]=1 * user_ratings.loc[i[0]]['ratings']\n",
    "            else: \n",
    "                game_vector[index]=1\n",
    "        games_ohe[i[0]] = game_vector\n",
    "    df = pd.DataFrame(games_ohe)\n",
    "    df = df.transpose()\n",
    "    df.columns = user_categories\n",
    "    if 'Deck' in user_categories:\n",
    "        df['Deck, Bag and Pool Building'] = df['Deck']\n",
    "        df.drop(columns=['Deck', 'Bag', 'and Pool Building'], inplace=True)\n",
    "    if 'I Cut' in user_categories:\n",
    "        df['I Cut, You Choose'] = df['I Cut']\n",
    "        df.drop(columns=['I Cut', 'You Choose'], inplace=True)\n",
    "    return df"
   ]
  },
  {
   "cell_type": "code",
   "execution_count": 355,
   "metadata": {},
   "outputs": [
    {
     "data": {
      "text/plain": [
       "Hand Management           49\n",
       "Dice Rolling              31\n",
       "Variable Player Powers    29\n",
       "Card Drafting             27\n",
       "Solo / Solitaire Game     25\n",
       "                          ..\n",
       "Flicking                   1\n",
       "Predictive Bid             1\n",
       "Static Capture             1\n",
       "Sudden Death Ending        1\n",
       "Finale Ending              1\n",
       "Length: 120, dtype: int64"
      ]
     },
     "execution_count": 355,
     "metadata": {},
     "output_type": "execute_result"
    }
   ],
   "source": [
    "ohe_user_boardgames('Ser0', 'mechanics').sum().sort_values(ascending=False)"
   ]
  },
  {
   "cell_type": "markdown",
   "metadata": {},
   "source": [
    "# NMF Model"
   ]
  },
  {
   "cell_type": "code",
   "execution_count": 253,
   "metadata": {},
   "outputs": [],
   "source": [
    "from sklearn.decomposition import NMF"
   ]
  },
  {
   "cell_type": "code",
   "execution_count": 254,
   "metadata": {},
   "outputs": [
    {
     "data": {
      "text/plain": [
       "(20484318, 3)"
      ]
     },
     "execution_count": 254,
     "metadata": {},
     "output_type": "execute_result"
    }
   ],
   "source": [
    "ratings.shape"
   ]
  },
  {
   "cell_type": "code",
   "execution_count": 255,
   "metadata": {},
   "outputs": [
    {
     "data": {
      "text/plain": [
       "(265863, 340910)"
      ]
     },
     "execution_count": 255,
     "metadata": {},
     "output_type": "execute_result"
    }
   ],
   "source": [
    "user_item.shape"
   ]
  },
  {
   "cell_type": "code",
   "execution_count": 256,
   "metadata": {},
   "outputs": [
    {
     "data": {
      "text/plain": [
       "<265863x340910 sparse matrix of type '<class 'numpy.float64'>'\n",
       "\twith 20321657 stored elements in Compressed Sparse Row format>"
      ]
     },
     "execution_count": 256,
     "metadata": {},
     "output_type": "execute_result"
    }
   ],
   "source": [
    "user_item"
   ]
  },
  {
   "cell_type": "code",
   "execution_count": 257,
   "metadata": {},
   "outputs": [],
   "source": [
    "nmf = NMF(n_components=50, max_iter=600, init='nndsvd', alpha=0.01)"
   ]
  },
  {
   "cell_type": "code",
   "execution_count": 96,
   "metadata": {},
   "outputs": [
    {
     "data": {
      "text/plain": [
       "NMF(alpha=0.01, init='nndsvd', max_iter=600, n_components=50)"
      ]
     },
     "execution_count": 96,
     "metadata": {},
     "output_type": "execute_result"
    }
   ],
   "source": [
    "#nmf.fit(user_item)"
   ]
  },
  {
   "cell_type": "code",
   "execution_count": 248,
   "metadata": {},
   "outputs": [],
   "source": [
    "#write model\n",
    "#with open('../models/nmf_50.pickle', 'wb') as file:\n",
    "#    pickle.dump(nmf, file)"
   ]
  },
  {
   "cell_type": "code",
   "execution_count": 261,
   "metadata": {},
   "outputs": [],
   "source": [
    "#read model\n",
    "with open('../models/nmf_50.pickle', 'rb') as file:\n",
    "    nmf = pickle.load(file)"
   ]
  },
  {
   "cell_type": "code",
   "execution_count": 262,
   "metadata": {},
   "outputs": [
    {
     "data": {
      "text/plain": [
       "(340910,)"
      ]
     },
     "execution_count": 262,
     "metadata": {},
     "output_type": "execute_result"
    }
   ],
   "source": [
    "vector.shape"
   ]
  },
  {
   "cell_type": "code",
   "execution_count": 263,
   "metadata": {},
   "outputs": [
    {
     "data": {
      "text/plain": [
       "28435.618386504528"
      ]
     },
     "execution_count": 263,
     "metadata": {},
     "output_type": "execute_result"
    }
   ],
   "source": [
    "nmf.reconstruction_err_"
   ]
  },
  {
   "cell_type": "code",
   "execution_count": 264,
   "metadata": {},
   "outputs": [],
   "source": [
    "Q = nmf.components_"
   ]
  },
  {
   "cell_type": "code",
   "execution_count": 265,
   "metadata": {},
   "outputs": [],
   "source": [
    "P = nmf.transform([vector])"
   ]
  },
  {
   "cell_type": "code",
   "execution_count": 266,
   "metadata": {},
   "outputs": [
    {
     "data": {
      "text/plain": [
       "((50, 340910), (1, 50))"
      ]
     },
     "execution_count": 266,
     "metadata": {},
     "output_type": "execute_result"
    }
   ],
   "source": [
    "Q.shape, P.shape"
   ]
  },
  {
   "cell_type": "code",
   "execution_count": 267,
   "metadata": {},
   "outputs": [
    {
     "data": {
      "text/plain": [
       "array([[0.        , 0.03044573, 0.01210105, ..., 0.        , 0.        ,\n",
       "        0.00164359]])"
      ]
     },
     "execution_count": 267,
     "metadata": {},
     "output_type": "execute_result"
    }
   ],
   "source": [
    "predictions = np.dot(P, Q)\n",
    "predictions"
   ]
  },
  {
   "cell_type": "code",
   "execution_count": 268,
   "metadata": {},
   "outputs": [
    {
     "data": {
      "text/plain": [
       "(1, 340910)"
      ]
     },
     "execution_count": 268,
     "metadata": {},
     "output_type": "execute_result"
    }
   ],
   "source": [
    "predictions.shape"
   ]
  },
  {
   "cell_type": "code",
   "execution_count": 269,
   "metadata": {},
   "outputs": [],
   "source": [
    "pseudo_ids = list(range(0,340910))"
   ]
  },
  {
   "cell_type": "code",
   "execution_count": 270,
   "metadata": {},
   "outputs": [],
   "source": [
    "df = pd.DataFrame(predictions, columns=pseudo_ids)"
   ]
  },
  {
   "cell_type": "code",
   "execution_count": 271,
   "metadata": {},
   "outputs": [
    {
     "data": {
      "text/html": [
       "<div>\n",
       "<style scoped>\n",
       "    .dataframe tbody tr th:only-of-type {\n",
       "        vertical-align: middle;\n",
       "    }\n",
       "\n",
       "    .dataframe tbody tr th {\n",
       "        vertical-align: top;\n",
       "    }\n",
       "\n",
       "    .dataframe thead th {\n",
       "        text-align: right;\n",
       "    }\n",
       "</style>\n",
       "<table border=\"1\" class=\"dataframe\">\n",
       "  <thead>\n",
       "    <tr style=\"text-align: right;\">\n",
       "      <th></th>\n",
       "      <th>pseudo_id</th>\n",
       "      <th>pred_rating</th>\n",
       "    </tr>\n",
       "  </thead>\n",
       "  <tbody>\n",
       "    <tr>\n",
       "      <th>0</th>\n",
       "      <td>266192</td>\n",
       "      <td>11.776423</td>\n",
       "    </tr>\n",
       "    <tr>\n",
       "      <th>1</th>\n",
       "      <td>167791</td>\n",
       "      <td>8.348095</td>\n",
       "    </tr>\n",
       "    <tr>\n",
       "      <th>2</th>\n",
       "      <td>68448</td>\n",
       "      <td>7.536493</td>\n",
       "    </tr>\n",
       "    <tr>\n",
       "      <th>3</th>\n",
       "      <td>178900</td>\n",
       "      <td>7.263934</td>\n",
       "    </tr>\n",
       "    <tr>\n",
       "      <th>4</th>\n",
       "      <td>173346</td>\n",
       "      <td>6.830049</td>\n",
       "    </tr>\n",
       "  </tbody>\n",
       "</table>\n",
       "</div>"
      ],
      "text/plain": [
       "   pseudo_id  pred_rating\n",
       "0     266192    11.776423\n",
       "1     167791     8.348095\n",
       "2      68448     7.536493\n",
       "3     178900     7.263934\n",
       "4     173346     6.830049"
      ]
     },
     "execution_count": 271,
     "metadata": {},
     "output_type": "execute_result"
    }
   ],
   "source": [
    "recommendations_all = df.T.sort_values(0, ascending=False)\n",
    "recommendations_all = recommendations_all.reset_index()\n",
    "recommendations_all.columns = ['pseudo_id', 'pred_rating']\n",
    "recommendations_all.head()"
   ]
  },
  {
   "cell_type": "code",
   "execution_count": 272,
   "metadata": {},
   "outputs": [
    {
     "data": {
      "text/html": [
       "<div>\n",
       "<style scoped>\n",
       "    .dataframe tbody tr th:only-of-type {\n",
       "        vertical-align: middle;\n",
       "    }\n",
       "\n",
       "    .dataframe tbody tr th {\n",
       "        vertical-align: top;\n",
       "    }\n",
       "\n",
       "    .dataframe thead th {\n",
       "        text-align: right;\n",
       "    }\n",
       "</style>\n",
       "<table border=\"1\" class=\"dataframe\">\n",
       "  <thead>\n",
       "    <tr style=\"text-align: right;\">\n",
       "      <th></th>\n",
       "      <th>Unnamed: 0</th>\n",
       "      <th>id</th>\n",
       "      <th>rank</th>\n",
       "      <th>name</th>\n",
       "      <th>links</th>\n",
       "      <th>num_voters</th>\n",
       "      <th>categories</th>\n",
       "      <th>mechanics</th>\n",
       "      <th>family</th>\n",
       "      <th>expansions</th>\n",
       "      <th>integrations</th>\n",
       "      <th>designers</th>\n",
       "      <th>publishers</th>\n",
       "    </tr>\n",
       "  </thead>\n",
       "  <tbody>\n",
       "    <tr>\n",
       "      <th>0</th>\n",
       "      <td>0</td>\n",
       "      <td>30549</td>\n",
       "      <td>104.0</td>\n",
       "      <td>Pandemic</td>\n",
       "      <td>/boardgame/30549/pandemic</td>\n",
       "      <td>104891</td>\n",
       "      <td>Medical</td>\n",
       "      <td>Action Points, Cooperative Game, Hand Manageme...</td>\n",
       "      <td>Components: Map (Global Scale), Components: Mu...</td>\n",
       "      <td>Pandemic: Gen Con 2016 Promos – Z-Force Team M...</td>\n",
       "      <td>NaN</td>\n",
       "      <td>Matt Leacock</td>\n",
       "      <td>Z-Man Games, Inc., (Unknown), Albi, Asmodee, A...</td>\n",
       "    </tr>\n",
       "    <tr>\n",
       "      <th>1</th>\n",
       "      <td>1</td>\n",
       "      <td>822</td>\n",
       "      <td>184.0</td>\n",
       "      <td>Carcassonne</td>\n",
       "      <td>/boardgame/822/carcassonne</td>\n",
       "      <td>104530</td>\n",
       "      <td>City Building, Medieval, Territory Building</td>\n",
       "      <td>Area Majority / Influence, Map Addition, Tile ...</td>\n",
       "      <td>Cities: Carcassonne (France), Components: Meep...</td>\n",
       "      <td>20 Jahre Darmstadt Spielt, Apothecaries (fan e...</td>\n",
       "      <td>Carcassonne: Wheel of Fortune</td>\n",
       "      <td>Klaus-Jürgen Wrede</td>\n",
       "      <td>Hans im Glück, 999 Games, Albi, Bard Centrum G...</td>\n",
       "    </tr>\n",
       "    <tr>\n",
       "      <th>2</th>\n",
       "      <td>2</td>\n",
       "      <td>13</td>\n",
       "      <td>408.0</td>\n",
       "      <td>Catan</td>\n",
       "      <td>/boardgame/13/catan</td>\n",
       "      <td>103960</td>\n",
       "      <td>Economic, Negotiation</td>\n",
       "      <td>Dice Rolling, Hexagon Grid, Income, Modular Bo...</td>\n",
       "      <td>Animals: Sheep, Components: Hexagonal Tiles, C...</td>\n",
       "      <td>20 Jahre Darmstadt Spielt, Brettspiel Adventsk...</td>\n",
       "      <td>NaN</td>\n",
       "      <td>Klaus Teuber</td>\n",
       "      <td>KOSMOS, 999 Games, Albi, Astrel Games, Bergsal...</td>\n",
       "    </tr>\n",
       "    <tr>\n",
       "      <th>3</th>\n",
       "      <td>3</td>\n",
       "      <td>68448</td>\n",
       "      <td>71.0</td>\n",
       "      <td>7 Wonders</td>\n",
       "      <td>/boardgame/68448/7-wonders</td>\n",
       "      <td>86475</td>\n",
       "      <td>Ancient, Card Game, City Building, Civilizatio...</td>\n",
       "      <td>Drafting, Hand Management, Set Collection, Sim...</td>\n",
       "      <td>Digital Implementations: Board Game Arena, Gam...</td>\n",
       "      <td>7 Wonders: Armada, 7 Wonders: Babel, 7 Wonders...</td>\n",
       "      <td>NaN</td>\n",
       "      <td>Antoine Bauza</td>\n",
       "      <td>Repos Production, ADC Blackfire Entertainment,...</td>\n",
       "    </tr>\n",
       "    <tr>\n",
       "      <th>4</th>\n",
       "      <td>4</td>\n",
       "      <td>36218</td>\n",
       "      <td>101.0</td>\n",
       "      <td>Dominion</td>\n",
       "      <td>/boardgame/36218/dominion</td>\n",
       "      <td>79469</td>\n",
       "      <td>Card Game, Medieval</td>\n",
       "      <td>Deck, Bag, and Pool Building, Delayed Purchase...</td>\n",
       "      <td>Crowdfunding: Wspieram, Game: Dominion, Misc: ...</td>\n",
       "      <td>Ancient Times (fan expansion for Dominion), An...</td>\n",
       "      <td>Dominion: Intrigue</td>\n",
       "      <td>Donald X. Vaccarino</td>\n",
       "      <td>Rio Grande Games, 999 Games, Albi, Bard Centru...</td>\n",
       "    </tr>\n",
       "  </tbody>\n",
       "</table>\n",
       "</div>"
      ],
      "text/plain": [
       "   Unnamed: 0     id   rank         name                       links  \\\n",
       "0           0  30549  104.0     Pandemic   /boardgame/30549/pandemic   \n",
       "1           1    822  184.0  Carcassonne  /boardgame/822/carcassonne   \n",
       "2           2     13  408.0        Catan         /boardgame/13/catan   \n",
       "3           3  68448   71.0    7 Wonders  /boardgame/68448/7-wonders   \n",
       "4           4  36218  101.0     Dominion   /boardgame/36218/dominion   \n",
       "\n",
       "   num_voters                                         categories  \\\n",
       "0      104891                                            Medical   \n",
       "1      104530        City Building, Medieval, Territory Building   \n",
       "2      103960                              Economic, Negotiation   \n",
       "3       86475  Ancient, Card Game, City Building, Civilizatio...   \n",
       "4       79469                                Card Game, Medieval   \n",
       "\n",
       "                                           mechanics  \\\n",
       "0  Action Points, Cooperative Game, Hand Manageme...   \n",
       "1  Area Majority / Influence, Map Addition, Tile ...   \n",
       "2  Dice Rolling, Hexagon Grid, Income, Modular Bo...   \n",
       "3  Drafting, Hand Management, Set Collection, Sim...   \n",
       "4  Deck, Bag, and Pool Building, Delayed Purchase...   \n",
       "\n",
       "                                              family  \\\n",
       "0  Components: Map (Global Scale), Components: Mu...   \n",
       "1  Cities: Carcassonne (France), Components: Meep...   \n",
       "2  Animals: Sheep, Components: Hexagonal Tiles, C...   \n",
       "3  Digital Implementations: Board Game Arena, Gam...   \n",
       "4  Crowdfunding: Wspieram, Game: Dominion, Misc: ...   \n",
       "\n",
       "                                          expansions  \\\n",
       "0  Pandemic: Gen Con 2016 Promos – Z-Force Team M...   \n",
       "1  20 Jahre Darmstadt Spielt, Apothecaries (fan e...   \n",
       "2  20 Jahre Darmstadt Spielt, Brettspiel Adventsk...   \n",
       "3  7 Wonders: Armada, 7 Wonders: Babel, 7 Wonders...   \n",
       "4  Ancient Times (fan expansion for Dominion), An...   \n",
       "\n",
       "                    integrations            designers  \\\n",
       "0                            NaN         Matt Leacock   \n",
       "1  Carcassonne: Wheel of Fortune   Klaus-Jürgen Wrede   \n",
       "2                            NaN         Klaus Teuber   \n",
       "3                            NaN        Antoine Bauza   \n",
       "4             Dominion: Intrigue  Donald X. Vaccarino   \n",
       "\n",
       "                                          publishers  \n",
       "0  Z-Man Games, Inc., (Unknown), Albi, Asmodee, A...  \n",
       "1  Hans im Glück, 999 Games, Albi, Bard Centrum G...  \n",
       "2  KOSMOS, 999 Games, Albi, Astrel Games, Bergsal...  \n",
       "3  Repos Production, ADC Blackfire Entertainment,...  \n",
       "4  Rio Grande Games, 999 Games, Albi, Bard Centru...  "
      ]
     },
     "execution_count": 272,
     "metadata": {},
     "output_type": "execute_result"
    }
   ],
   "source": [
    "boardgames = pd.read_csv('../data/boardgames_extend.csv')\n",
    "boardgames.head()"
   ]
  },
  {
   "cell_type": "code",
   "execution_count": 273,
   "metadata": {},
   "outputs": [
    {
     "data": {
      "text/html": [
       "<div>\n",
       "<style scoped>\n",
       "    .dataframe tbody tr th:only-of-type {\n",
       "        vertical-align: middle;\n",
       "    }\n",
       "\n",
       "    .dataframe tbody tr th {\n",
       "        vertical-align: top;\n",
       "    }\n",
       "\n",
       "    .dataframe thead th {\n",
       "        text-align: right;\n",
       "    }\n",
       "</style>\n",
       "<table border=\"1\" class=\"dataframe\">\n",
       "  <thead>\n",
       "    <tr style=\"text-align: right;\">\n",
       "      <th></th>\n",
       "      <th>id</th>\n",
       "      <th>name</th>\n",
       "    </tr>\n",
       "  </thead>\n",
       "  <tbody>\n",
       "    <tr>\n",
       "      <th>0</th>\n",
       "      <td>30549</td>\n",
       "      <td>Pandemic</td>\n",
       "    </tr>\n",
       "    <tr>\n",
       "      <th>1</th>\n",
       "      <td>822</td>\n",
       "      <td>Carcassonne</td>\n",
       "    </tr>\n",
       "    <tr>\n",
       "      <th>2</th>\n",
       "      <td>13</td>\n",
       "      <td>Catan</td>\n",
       "    </tr>\n",
       "    <tr>\n",
       "      <th>3</th>\n",
       "      <td>68448</td>\n",
       "      <td>7 Wonders</td>\n",
       "    </tr>\n",
       "    <tr>\n",
       "      <th>4</th>\n",
       "      <td>36218</td>\n",
       "      <td>Dominion</td>\n",
       "    </tr>\n",
       "  </tbody>\n",
       "</table>\n",
       "</div>"
      ],
      "text/plain": [
       "      id         name\n",
       "0  30549     Pandemic\n",
       "1    822  Carcassonne\n",
       "2     13        Catan\n",
       "3  68448    7 Wonders\n",
       "4  36218     Dominion"
      ]
     },
     "execution_count": 273,
     "metadata": {},
     "output_type": "execute_result"
    }
   ],
   "source": [
    "boardgames[['id','name']].head()"
   ]
  },
  {
   "cell_type": "code",
   "execution_count": 274,
   "metadata": {},
   "outputs": [
    {
     "data": {
      "text/html": [
       "<div>\n",
       "<style scoped>\n",
       "    .dataframe tbody tr th:only-of-type {\n",
       "        vertical-align: middle;\n",
       "    }\n",
       "\n",
       "    .dataframe tbody tr th {\n",
       "        vertical-align: top;\n",
       "    }\n",
       "\n",
       "    .dataframe thead th {\n",
       "        text-align: right;\n",
       "    }\n",
       "</style>\n",
       "<table border=\"1\" class=\"dataframe\">\n",
       "  <thead>\n",
       "    <tr style=\"text-align: right;\">\n",
       "      <th></th>\n",
       "      <th>name</th>\n",
       "      <th>pseudo_id</th>\n",
       "      <th>pred_rating</th>\n",
       "    </tr>\n",
       "    <tr>\n",
       "      <th>id</th>\n",
       "      <th></th>\n",
       "      <th></th>\n",
       "      <th></th>\n",
       "    </tr>\n",
       "  </thead>\n",
       "  <tbody>\n",
       "    <tr>\n",
       "      <th>30549</th>\n",
       "      <td>Pandemic</td>\n",
       "      <td>30549</td>\n",
       "      <td>4.749527</td>\n",
       "    </tr>\n",
       "    <tr>\n",
       "      <th>822</th>\n",
       "      <td>Carcassonne</td>\n",
       "      <td>822</td>\n",
       "      <td>0.273716</td>\n",
       "    </tr>\n",
       "    <tr>\n",
       "      <th>13</th>\n",
       "      <td>Catan</td>\n",
       "      <td>13</td>\n",
       "      <td>0.024271</td>\n",
       "    </tr>\n",
       "    <tr>\n",
       "      <th>68448</th>\n",
       "      <td>7 Wonders</td>\n",
       "      <td>68448</td>\n",
       "      <td>7.536493</td>\n",
       "    </tr>\n",
       "    <tr>\n",
       "      <th>36218</th>\n",
       "      <td>Dominion</td>\n",
       "      <td>36218</td>\n",
       "      <td>5.316494</td>\n",
       "    </tr>\n",
       "  </tbody>\n",
       "</table>\n",
       "</div>"
      ],
      "text/plain": [
       "              name  pseudo_id  pred_rating\n",
       "id                                        \n",
       "30549     Pandemic      30549     4.749527\n",
       "822    Carcassonne        822     0.273716\n",
       "13           Catan         13     0.024271\n",
       "68448    7 Wonders      68448     7.536493\n",
       "36218     Dominion      36218     5.316494"
      ]
     },
     "execution_count": 274,
     "metadata": {},
     "output_type": "execute_result"
    }
   ],
   "source": [
    "prediction_df = pd.merge(boardgames[['id','name']], recommendations_all, left_on='id', right_on='pseudo_id', how='left')\n",
    "prediction_df = prediction_df.set_index('id')\n",
    "prediction_df.head()"
   ]
  },
  {
   "cell_type": "code",
   "execution_count": 275,
   "metadata": {},
   "outputs": [
    {
     "data": {
      "text/html": [
       "<div>\n",
       "<style scoped>\n",
       "    .dataframe tbody tr th:only-of-type {\n",
       "        vertical-align: middle;\n",
       "    }\n",
       "\n",
       "    .dataframe tbody tr th {\n",
       "        vertical-align: top;\n",
       "    }\n",
       "\n",
       "    .dataframe thead th {\n",
       "        text-align: right;\n",
       "    }\n",
       "</style>\n",
       "<table border=\"1\" class=\"dataframe\">\n",
       "  <thead>\n",
       "    <tr style=\"text-align: right;\">\n",
       "      <th></th>\n",
       "      <th>name</th>\n",
       "      <th>pseudo_id</th>\n",
       "      <th>pred_rating</th>\n",
       "    </tr>\n",
       "    <tr>\n",
       "      <th>id</th>\n",
       "      <th></th>\n",
       "      <th></th>\n",
       "      <th></th>\n",
       "    </tr>\n",
       "  </thead>\n",
       "  <tbody>\n",
       "    <tr>\n",
       "      <th>40834</th>\n",
       "      <td>Dominion: Intrigue</td>\n",
       "      <td>40834</td>\n",
       "      <td>4.542982</td>\n",
       "    </tr>\n",
       "    <tr>\n",
       "      <th>183394</th>\n",
       "      <td>Viticulture Essential Edition</td>\n",
       "      <td>183394</td>\n",
       "      <td>3.879003</td>\n",
       "    </tr>\n",
       "    <tr>\n",
       "      <th>284083</th>\n",
       "      <td>The Crew: The Quest for Planet Nine</td>\n",
       "      <td>284083</td>\n",
       "      <td>3.150883</td>\n",
       "    </tr>\n",
       "    <tr>\n",
       "      <th>163412</th>\n",
       "      <td>Patchwork</td>\n",
       "      <td>163412</td>\n",
       "      <td>2.957857</td>\n",
       "    </tr>\n",
       "    <tr>\n",
       "      <th>236457</th>\n",
       "      <td>Architects of the West Kingdom</td>\n",
       "      <td>236457</td>\n",
       "      <td>2.788553</td>\n",
       "    </tr>\n",
       "    <tr>\n",
       "      <th>201808</th>\n",
       "      <td>Clank!: A Deck-Building Adventure</td>\n",
       "      <td>201808</td>\n",
       "      <td>2.371002</td>\n",
       "    </tr>\n",
       "    <tr>\n",
       "      <th>286096</th>\n",
       "      <td>Tapestry</td>\n",
       "      <td>286096</td>\n",
       "      <td>2.227416</td>\n",
       "    </tr>\n",
       "    <tr>\n",
       "      <th>205637</th>\n",
       "      <td>Arkham Horror: The Card Game</td>\n",
       "      <td>205637</td>\n",
       "      <td>2.222949</td>\n",
       "    </tr>\n",
       "    <tr>\n",
       "      <th>290448</th>\n",
       "      <td>Wingspan: European Expansion</td>\n",
       "      <td>290448</td>\n",
       "      <td>2.158668</td>\n",
       "    </tr>\n",
       "    <tr>\n",
       "      <th>233867</th>\n",
       "      <td>Welcome To...</td>\n",
       "      <td>233867</td>\n",
       "      <td>2.131542</td>\n",
       "    </tr>\n",
       "    <tr>\n",
       "      <th>230802</th>\n",
       "      <td>Azul</td>\n",
       "      <td>230802</td>\n",
       "      <td>2.061487</td>\n",
       "    </tr>\n",
       "    <tr>\n",
       "      <th>104557</th>\n",
       "      <td>Dominion: Hinterlands</td>\n",
       "      <td>104557</td>\n",
       "      <td>2.059467</td>\n",
       "    </tr>\n",
       "    <tr>\n",
       "      <th>193738</th>\n",
       "      <td>Great Western Trail</td>\n",
       "      <td>193738</td>\n",
       "      <td>2.038044</td>\n",
       "    </tr>\n",
       "    <tr>\n",
       "      <th>146508</th>\n",
       "      <td>T.I.M.E Stories</td>\n",
       "      <td>146508</td>\n",
       "      <td>2.001854</td>\n",
       "    </tr>\n",
       "    <tr>\n",
       "      <th>244522</th>\n",
       "      <td>That's Pretty Clever!</td>\n",
       "      <td>244522</td>\n",
       "      <td>1.984754</td>\n",
       "    </tr>\n",
       "    <tr>\n",
       "      <th>34635</th>\n",
       "      <td>Stone Age</td>\n",
       "      <td>34635</td>\n",
       "      <td>1.983154</td>\n",
       "    </tr>\n",
       "    <tr>\n",
       "      <th>158899</th>\n",
       "      <td>Colt Express</td>\n",
       "      <td>158899</td>\n",
       "      <td>1.976239</td>\n",
       "    </tr>\n",
       "    <tr>\n",
       "      <th>266524</th>\n",
       "      <td>PARKS</td>\n",
       "      <td>266524</td>\n",
       "      <td>1.960203</td>\n",
       "    </tr>\n",
       "    <tr>\n",
       "      <th>121921</th>\n",
       "      <td>Robinson Crusoe: Adventures on the Cursed Island</td>\n",
       "      <td>121921</td>\n",
       "      <td>1.908181</td>\n",
       "    </tr>\n",
       "    <tr>\n",
       "      <th>125403</th>\n",
       "      <td>Dominion: Dark Ages</td>\n",
       "      <td>125403</td>\n",
       "      <td>1.887450</td>\n",
       "    </tr>\n",
       "  </tbody>\n",
       "</table>\n",
       "</div>"
      ],
      "text/plain": [
       "                                                    name  pseudo_id  \\\n",
       "id                                                                    \n",
       "40834                                 Dominion: Intrigue      40834   \n",
       "183394                     Viticulture Essential Edition     183394   \n",
       "284083               The Crew: The Quest for Planet Nine     284083   \n",
       "163412                                         Patchwork     163412   \n",
       "236457                    Architects of the West Kingdom     236457   \n",
       "201808                 Clank!: A Deck-Building Adventure     201808   \n",
       "286096                                          Tapestry     286096   \n",
       "205637                      Arkham Horror: The Card Game     205637   \n",
       "290448                      Wingspan: European Expansion     290448   \n",
       "233867                                     Welcome To...     233867   \n",
       "230802                                              Azul     230802   \n",
       "104557                             Dominion: Hinterlands     104557   \n",
       "193738                               Great Western Trail     193738   \n",
       "146508                                   T.I.M.E Stories     146508   \n",
       "244522                             That's Pretty Clever!     244522   \n",
       "34635                                          Stone Age      34635   \n",
       "158899                                      Colt Express     158899   \n",
       "266524                                             PARKS     266524   \n",
       "121921  Robinson Crusoe: Adventures on the Cursed Island     121921   \n",
       "125403                               Dominion: Dark Ages     125403   \n",
       "\n",
       "        pred_rating  \n",
       "id                   \n",
       "40834      4.542982  \n",
       "183394     3.879003  \n",
       "284083     3.150883  \n",
       "163412     2.957857  \n",
       "236457     2.788553  \n",
       "201808     2.371002  \n",
       "286096     2.227416  \n",
       "205637     2.222949  \n",
       "290448     2.158668  \n",
       "233867     2.131542  \n",
       "230802     2.061487  \n",
       "104557     2.059467  \n",
       "193738     2.038044  \n",
       "146508     2.001854  \n",
       "244522     1.984754  \n",
       "34635      1.983154  \n",
       "158899     1.976239  \n",
       "266524     1.960203  \n",
       "121921     1.908181  \n",
       "125403     1.887450  "
      ]
     },
     "execution_count": 275,
     "metadata": {},
     "output_type": "execute_result"
    }
   ],
   "source": [
    "played_filter = ~prediction_df.index.isin(user_boardgames)\n",
    "prediction_df.loc[played_filter].sort_values('pred_rating', ascending=False).head(20)\n",
    "                                          "
   ]
  },
  {
   "cell_type": "markdown",
   "metadata": {},
   "source": [
    "## Combined kNN and NMF"
   ]
  },
  {
   "cell_type": "code",
   "execution_count": 151,
   "metadata": {},
   "outputs": [],
   "source": [
    "P = nmf.transform(user_item)"
   ]
  },
  {
   "cell_type": "code",
   "execution_count": 239,
   "metadata": {},
   "outputs": [
    {
     "data": {
      "text/plain": [
       "<function BufferedWriter.close>"
      ]
     },
     "execution_count": 239,
     "metadata": {},
     "output_type": "execute_result"
    }
   ],
   "source": [
    "# open a binary file in write mode\n",
    "file = open('../models/P_50', 'wb')\n",
    "# save array to the file\n",
    "np.save(file, P)\n",
    "# close the file\n",
    "file.close"
   ]
  },
  {
   "cell_type": "code",
   "execution_count": 167,
   "metadata": {},
   "outputs": [
    {
     "data": {
      "text/plain": [
       "(265863, 50)"
      ]
     },
     "execution_count": 167,
     "metadata": {},
     "output_type": "execute_result"
    }
   ],
   "source": [
    "P.shape"
   ]
  },
  {
   "cell_type": "code",
   "execution_count": 152,
   "metadata": {},
   "outputs": [
    {
     "data": {
      "text/plain": [
       "NearestNeighbors(metric='cosine')"
      ]
     },
     "execution_count": 152,
     "metadata": {},
     "output_type": "execute_result"
    }
   ],
   "source": [
    "knn = NearestNeighbors(metric='cosine')\n",
    "knn.fit(P)"
   ]
  },
  {
   "cell_type": "code",
   "execution_count": 117,
   "metadata": {},
   "outputs": [],
   "source": [
    "Q = nmf.components_"
   ]
  },
  {
   "cell_type": "code",
   "execution_count": 156,
   "metadata": {},
   "outputs": [
    {
     "data": {
      "text/plain": [
       "(1, 50)"
      ]
     },
     "execution_count": 156,
     "metadata": {},
     "output_type": "execute_result"
    }
   ],
   "source": [
    "vector_transformed = nmf.transform([vector])\n",
    "vector_transformed.shape"
   ]
  },
  {
   "cell_type": "code",
   "execution_count": 157,
   "metadata": {},
   "outputs": [
    {
     "data": {
      "text/plain": [
       "(50,)"
      ]
     },
     "execution_count": 157,
     "metadata": {},
     "output_type": "execute_result"
    }
   ],
   "source": [
    "vector_transformed = vector_transformed.T.reshape(50,)\n",
    "vector_transformed.shape"
   ]
  },
  {
   "cell_type": "code",
   "execution_count": 160,
   "metadata": {},
   "outputs": [],
   "source": [
    "distances, neighbor_ids = knn.kneighbors([vector_transformed], n_neighbors=20)"
   ]
  },
  {
   "cell_type": "code",
   "execution_count": 161,
   "metadata": {},
   "outputs": [
    {
     "data": {
      "text/plain": [
       "(array([[ 40701,  59834,  68546,  71553,  16639,  99654, 117602,  99865,\n",
       "          64819,  95042,  42546,  73352,  71047, 179114,  19229,  14996,\n",
       "          69353,  70900, 134807,  68639]]),\n",
       " array([[7.78617171e-11, 1.73424816e-01, 1.83562204e-01, 1.87554107e-01,\n",
       "         1.88046754e-01, 1.95083727e-01, 1.95854162e-01, 1.98296969e-01,\n",
       "         1.98848289e-01, 2.00000381e-01, 2.00449736e-01, 2.05966436e-01,\n",
       "         2.05995836e-01, 2.06924451e-01, 2.08597866e-01, 2.09947744e-01,\n",
       "         2.10096306e-01, 2.11213426e-01, 2.11715319e-01, 2.14067426e-01]]))"
      ]
     },
     "execution_count": 161,
     "metadata": {},
     "output_type": "execute_result"
    }
   ],
   "source": [
    "neighbor_ids, distances"
   ]
  },
  {
   "cell_type": "code",
   "execution_count": 251,
   "metadata": {},
   "outputs": [],
   "source": [
    "test = [188920, 199792, 245654, 167355, 277700, 306882, 246228, 224517, 205059, 63268, 217372, 200632, 167791, 284108, 244521, 242639, 272533, 232219, 135213, 73664, 266192, 120677, 181304, 311193, 218603, 68448, 194594, 173346, 180974, 247763, 318084, 250458, 264220, 291859, 283155, 318977, 244608, 230914, 40692, 178900, 237251, 91536, 263918, 45315, 192661, 162886, 1465, 2655, 283294, 251247, 206915, 204583, 214293, 264055, 207830, 299169, 235375, 155203, 169786, 48979, 193214, 216465, 284435, 299946, 303733, 172225, 202477, 21790, 314530, 258104, 128, 160477, 295486, 202977, 51811, 147020, 287938, 277927, 36218, 31260, 320, 237182, 147151, 239188, 66690, 4095, 217085, 227072, 31920, 121073, 274533, 10686, 282171, 262208, 260757, 6657, 181161, 39801, 305985, 305986, 3119, 232417, 300129, 288010, 63052, 18057, 42636, 165984, 50381, 66098, 185374, 98778, 209778, 206931, 90850, 256438, 173090, 143884, 30549, 181523, 303734, 15987, 305984, 1748, 204466, 122522, 50912]"
   ]
  },
  {
   "cell_type": "code",
   "execution_count": 252,
   "metadata": {},
   "outputs": [
    {
     "data": {
      "text/html": [
       "<div>\n",
       "<style scoped>\n",
       "    .dataframe tbody tr th:only-of-type {\n",
       "        vertical-align: middle;\n",
       "    }\n",
       "\n",
       "    .dataframe tbody tr th {\n",
       "        vertical-align: top;\n",
       "    }\n",
       "\n",
       "    .dataframe thead th {\n",
       "        text-align: right;\n",
       "    }\n",
       "</style>\n",
       "<table border=\"1\" class=\"dataframe\">\n",
       "  <thead>\n",
       "    <tr style=\"text-align: right;\">\n",
       "      <th></th>\n",
       "      <th>boardgame_id</th>\n",
       "      <th>ratings</th>\n",
       "      <th>user_id</th>\n",
       "    </tr>\n",
       "  </thead>\n",
       "  <tbody>\n",
       "    <tr>\n",
       "      <th>13495904</th>\n",
       "      <td>30549</td>\n",
       "      <td>5.0</td>\n",
       "      <td>40701</td>\n",
       "    </tr>\n",
       "    <tr>\n",
       "      <th>13495905</th>\n",
       "      <td>68448</td>\n",
       "      <td>8.0</td>\n",
       "      <td>40701</td>\n",
       "    </tr>\n",
       "    <tr>\n",
       "      <th>13495906</th>\n",
       "      <td>36218</td>\n",
       "      <td>6.0</td>\n",
       "      <td>40701</td>\n",
       "    </tr>\n",
       "    <tr>\n",
       "      <th>13495907</th>\n",
       "      <td>178900</td>\n",
       "      <td>7.0</td>\n",
       "      <td>40701</td>\n",
       "    </tr>\n",
       "    <tr>\n",
       "      <th>13495908</th>\n",
       "      <td>167791</td>\n",
       "      <td>9.0</td>\n",
       "      <td>40701</td>\n",
       "    </tr>\n",
       "    <tr>\n",
       "      <th>...</th>\n",
       "      <td>...</td>\n",
       "      <td>...</td>\n",
       "      <td>...</td>\n",
       "    </tr>\n",
       "    <tr>\n",
       "      <th>13496026</th>\n",
       "      <td>303734</td>\n",
       "      <td>5.0</td>\n",
       "      <td>40701</td>\n",
       "    </tr>\n",
       "    <tr>\n",
       "      <th>13496027</th>\n",
       "      <td>42636</td>\n",
       "      <td>6.0</td>\n",
       "      <td>40701</td>\n",
       "    </tr>\n",
       "    <tr>\n",
       "      <th>13496028</th>\n",
       "      <td>165984</td>\n",
       "      <td>6.0</td>\n",
       "      <td>40701</td>\n",
       "    </tr>\n",
       "    <tr>\n",
       "      <th>13496029</th>\n",
       "      <td>135213</td>\n",
       "      <td>9.0</td>\n",
       "      <td>40701</td>\n",
       "    </tr>\n",
       "    <tr>\n",
       "      <th>13496030</th>\n",
       "      <td>155203</td>\n",
       "      <td>7.0</td>\n",
       "      <td>40701</td>\n",
       "    </tr>\n",
       "  </tbody>\n",
       "</table>\n",
       "<p>127 rows × 3 columns</p>\n",
       "</div>"
      ],
      "text/plain": [
       "          boardgame_id  ratings  user_id\n",
       "13495904         30549      5.0    40701\n",
       "13495905         68448      8.0    40701\n",
       "13495906         36218      6.0    40701\n",
       "13495907        178900      7.0    40701\n",
       "13495908        167791      9.0    40701\n",
       "...                ...      ...      ...\n",
       "13496026        303734      5.0    40701\n",
       "13496027         42636      6.0    40701\n",
       "13496028        165984      6.0    40701\n",
       "13496029        135213      9.0    40701\n",
       "13496030        155203      7.0    40701\n",
       "\n",
       "[127 rows x 3 columns]"
      ]
     },
     "execution_count": 252,
     "metadata": {},
     "output_type": "execute_result"
    }
   ],
   "source": [
    "user_ratings = create_user_ratings('Ser0')\n",
    "user_ratings[user_ratings['boardgame_id'].isin(test)]"
   ]
  },
  {
   "cell_type": "code",
   "execution_count": 229,
   "metadata": {},
   "outputs": [
    {
     "data": {
      "text/plain": [
       "13495904     30549\n",
       "13495905     68448\n",
       "13495906     36218\n",
       "13495907    178900\n",
       "13495908    167791\n",
       "             ...  \n",
       "13496026    303734\n",
       "13496027     42636\n",
       "13496028    165984\n",
       "13496029    135213\n",
       "13496030    155203\n",
       "Name: boardgame_id, Length: 127, dtype: int64"
      ]
     },
     "execution_count": 229,
     "metadata": {},
     "output_type": "execute_result"
    }
   ],
   "source": [
    "played_by_user = user_ratings['boardgame_id']\n",
    "played_by_user"
   ]
  },
  {
   "cell_type": "code",
   "execution_count": 231,
   "metadata": {},
   "outputs": [
    {
     "data": {
      "text/html": [
       "<div>\n",
       "<style scoped>\n",
       "    .dataframe tbody tr th:only-of-type {\n",
       "        vertical-align: middle;\n",
       "    }\n",
       "\n",
       "    .dataframe tbody tr th {\n",
       "        vertical-align: top;\n",
       "    }\n",
       "\n",
       "    .dataframe thead th {\n",
       "        text-align: right;\n",
       "    }\n",
       "</style>\n",
       "<table border=\"1\" class=\"dataframe\">\n",
       "  <thead>\n",
       "    <tr style=\"text-align: right;\">\n",
       "      <th></th>\n",
       "      <th>boardgame_id</th>\n",
       "      <th>ratings</th>\n",
       "      <th>user_id</th>\n",
       "    </tr>\n",
       "  </thead>\n",
       "  <tbody>\n",
       "    <tr>\n",
       "      <th>610879</th>\n",
       "      <td>9209</td>\n",
       "      <td>7.0</td>\n",
       "      <td>68639</td>\n",
       "    </tr>\n",
       "    <tr>\n",
       "      <th>610883</th>\n",
       "      <td>148228</td>\n",
       "      <td>8.5</td>\n",
       "      <td>68639</td>\n",
       "    </tr>\n",
       "    <tr>\n",
       "      <th>610885</th>\n",
       "      <td>39856</td>\n",
       "      <td>6.0</td>\n",
       "      <td>68639</td>\n",
       "    </tr>\n",
       "    <tr>\n",
       "      <th>610887</th>\n",
       "      <td>34635</td>\n",
       "      <td>7.0</td>\n",
       "      <td>68639</td>\n",
       "    </tr>\n",
       "    <tr>\n",
       "      <th>610888</th>\n",
       "      <td>161936</td>\n",
       "      <td>10.0</td>\n",
       "      <td>68639</td>\n",
       "    </tr>\n",
       "  </tbody>\n",
       "</table>\n",
       "</div>"
      ],
      "text/plain": [
       "        boardgame_id  ratings  user_id\n",
       "610879          9209      7.0    68639\n",
       "610883        148228      8.5    68639\n",
       "610885         39856      6.0    68639\n",
       "610887         34635      7.0    68639\n",
       "610888        161936     10.0    68639"
      ]
     },
     "execution_count": 231,
     "metadata": {},
     "output_type": "execute_result"
    }
   ],
   "source": [
    "neighbor_ratings = ratings[ratings['user_id'].isin(neighbor_ids[0][1:])]\n",
    "neighbor_ratings = neighbor_ratings[~neighbor_ratings['boardgame_id'].isin(played_by_user)]\n",
    "neighbor_ratings.head()"
   ]
  },
  {
   "cell_type": "code",
   "execution_count": 232,
   "metadata": {},
   "outputs": [
    {
     "data": {
      "text/html": [
       "<div>\n",
       "<style scoped>\n",
       "    .dataframe tbody tr th:only-of-type {\n",
       "        vertical-align: middle;\n",
       "    }\n",
       "\n",
       "    .dataframe tbody tr th {\n",
       "        vertical-align: top;\n",
       "    }\n",
       "\n",
       "    .dataframe thead th {\n",
       "        text-align: right;\n",
       "    }\n",
       "</style>\n",
       "<table border=\"1\" class=\"dataframe\">\n",
       "  <thead>\n",
       "    <tr style=\"text-align: right;\">\n",
       "      <th></th>\n",
       "      <th>count</th>\n",
       "    </tr>\n",
       "  </thead>\n",
       "  <tbody>\n",
       "    <tr>\n",
       "      <th>183394</th>\n",
       "      <td>12</td>\n",
       "    </tr>\n",
       "    <tr>\n",
       "      <th>230802</th>\n",
       "      <td>11</td>\n",
       "    </tr>\n",
       "    <tr>\n",
       "      <th>40834</th>\n",
       "      <td>10</td>\n",
       "    </tr>\n",
       "    <tr>\n",
       "      <th>822</th>\n",
       "      <td>9</td>\n",
       "    </tr>\n",
       "    <tr>\n",
       "      <th>290448</th>\n",
       "      <td>9</td>\n",
       "    </tr>\n",
       "  </tbody>\n",
       "</table>\n",
       "</div>"
      ],
      "text/plain": [
       "        count\n",
       "183394     12\n",
       "230802     11\n",
       "40834      10\n",
       "822         9\n",
       "290448      9"
      ]
     },
     "execution_count": 232,
     "metadata": {},
     "output_type": "execute_result"
    }
   ],
   "source": [
    "value_counts = pd.DataFrame(neighbor_ratings['boardgame_id'].value_counts())\n",
    "value_counts.columns = ['count']\n",
    "value_counts.head()"
   ]
  },
  {
   "cell_type": "code",
   "execution_count": 233,
   "metadata": {},
   "outputs": [],
   "source": [
    "frequently_played = value_counts[value_counts['count']>=5].index"
   ]
  },
  {
   "cell_type": "code",
   "execution_count": 234,
   "metadata": {},
   "outputs": [
    {
     "data": {
      "text/plain": [
       "Int64Index([247030, 202174, 193738, 170216, 262712, 281259, 236457, 164928,\n",
       "            121921, 183394, 125403, 254640, 290448, 170042, 233867],\n",
       "           dtype='int64', name='boardgame_id')"
      ]
     },
     "execution_count": 234,
     "metadata": {},
     "output_type": "execute_result"
    }
   ],
   "source": [
    "recommendations = neighbor_ratings[neighbor_ratings['boardgame_id'].isin(frequently_played)].groupby('boardgame_id').mean().sort_values('ratings', ascending=False).head(15).index\n",
    "recommendations"
   ]
  },
  {
   "cell_type": "markdown",
   "metadata": {},
   "source": [
    "## Popularity Recommender"
   ]
  },
  {
   "cell_type": "code",
   "execution_count": 361,
   "metadata": {},
   "outputs": [],
   "source": [
    "boardgames_nu = ['Everdell', 'Railroad Ink', 'Cabo']"
   ]
  },
  {
   "cell_type": "code",
   "execution_count": 368,
   "metadata": {},
   "outputs": [],
   "source": [
    "def lookup_boardgamename(search_query, titles):\n",
    "    \"\"\"\n",
    "    given a search query, uses fuzzy string matching to search for similar\n",
    "    strings in a pandas series of movie titles\n",
    "\n",
    "    returns a list of search results. Each result is a tuple that contains\n",
    "    the title, the matching score and the movieId.\n",
    "    \"\"\"\n",
    "    matches = process.extractOne(search_query, titles)\n",
    "    # [(title, score, movieId), ...]\n",
    "    return matches"
   ]
  },
  {
   "cell_type": "code",
   "execution_count": 372,
   "metadata": {},
   "outputs": [],
   "source": [
    "looked_up_names = []\n",
    "for bg in boardgames_nu:\n",
    "    match = lookup_boardgamename(bg, boardgames['name'])\n",
    "    looked_up_names.append(match[0])"
   ]
  },
  {
   "cell_type": "code",
   "execution_count": 373,
   "metadata": {},
   "outputs": [
    {
     "data": {
      "text/plain": [
       "['Everdell', 'Ra', 'Cabo']"
      ]
     },
     "execution_count": 373,
     "metadata": {},
     "output_type": "execute_result"
    }
   ],
   "source": [
    "looked_up_names"
   ]
  },
  {
   "cell_type": "code",
   "execution_count": null,
   "metadata": {},
   "outputs": [],
   "source": []
  }
 ],
 "metadata": {
  "kernelspec": {
   "display_name": "Python 3",
   "language": "python",
   "name": "python3"
  },
  "language_info": {
   "codemirror_mode": {
    "name": "ipython",
    "version": 3
   },
   "file_extension": ".py",
   "mimetype": "text/x-python",
   "name": "python",
   "nbconvert_exporter": "python",
   "pygments_lexer": "ipython3",
   "version": "3.8.5"
  }
 },
 "nbformat": 4,
 "nbformat_minor": 4
}
