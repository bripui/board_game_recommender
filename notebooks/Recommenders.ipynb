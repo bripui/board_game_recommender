{
 "cells": [
  {
   "cell_type": "code",
   "execution_count": 1,
   "metadata": {},
   "outputs": [],
   "source": [
    "import pandas as pd\n",
    "import numpy as np\n",
    "import pickle\n",
    "from sklearn.neighbors import NearestNeighbors\n",
    "from scipy.sparse import csr_matrix"
   ]
  },
  {
   "cell_type": "code",
   "execution_count": 2,
   "metadata": {},
   "outputs": [],
   "source": [
    "ratings = pd.read_csv('../data/ratings_cleaned.csv')"
   ]
  },
  {
   "cell_type": "code",
   "execution_count": 3,
   "metadata": {},
   "outputs": [
    {
     "data": {
      "text/html": [
       "<div>\n",
       "<style scoped>\n",
       "    .dataframe tbody tr th:only-of-type {\n",
       "        vertical-align: middle;\n",
       "    }\n",
       "\n",
       "    .dataframe tbody tr th {\n",
       "        vertical-align: top;\n",
       "    }\n",
       "\n",
       "    .dataframe thead th {\n",
       "        text-align: right;\n",
       "    }\n",
       "</style>\n",
       "<table border=\"1\" class=\"dataframe\">\n",
       "  <thead>\n",
       "    <tr style=\"text-align: right;\">\n",
       "      <th></th>\n",
       "      <th>boardgame_id</th>\n",
       "      <th>ratings</th>\n",
       "      <th>user_id</th>\n",
       "    </tr>\n",
       "  </thead>\n",
       "  <tbody>\n",
       "    <tr>\n",
       "      <th>0</th>\n",
       "      <td>30549</td>\n",
       "      <td>10.0</td>\n",
       "      <td>214</td>\n",
       "    </tr>\n",
       "    <tr>\n",
       "      <th>1</th>\n",
       "      <td>822</td>\n",
       "      <td>10.0</td>\n",
       "      <td>214</td>\n",
       "    </tr>\n",
       "    <tr>\n",
       "      <th>2</th>\n",
       "      <td>13</td>\n",
       "      <td>10.0</td>\n",
       "      <td>214</td>\n",
       "    </tr>\n",
       "    <tr>\n",
       "      <th>3</th>\n",
       "      <td>68448</td>\n",
       "      <td>10.0</td>\n",
       "      <td>214</td>\n",
       "    </tr>\n",
       "    <tr>\n",
       "      <th>4</th>\n",
       "      <td>36218</td>\n",
       "      <td>10.0</td>\n",
       "      <td>214</td>\n",
       "    </tr>\n",
       "  </tbody>\n",
       "</table>\n",
       "</div>"
      ],
      "text/plain": [
       "   boardgame_id  ratings  user_id\n",
       "0         30549     10.0      214\n",
       "1           822     10.0      214\n",
       "2            13     10.0      214\n",
       "3         68448     10.0      214\n",
       "4         36218     10.0      214"
      ]
     },
     "execution_count": 3,
     "metadata": {},
     "output_type": "execute_result"
    }
   ],
   "source": [
    "ratings.head()"
   ]
  },
  {
   "cell_type": "markdown",
   "metadata": {},
   "source": [
    "## Create sparse User-Item-Matrix"
   ]
  },
  {
   "cell_type": "code",
   "execution_count": 4,
   "metadata": {},
   "outputs": [],
   "source": [
    "user_item = csr_matrix((ratings['ratings'], (ratings['user_id'], ratings['boardgame_id'])))"
   ]
  },
  {
   "cell_type": "code",
   "execution_count": 5,
   "metadata": {},
   "outputs": [
    {
     "data": {
      "text/plain": [
       "(265863, 340910)"
      ]
     },
     "execution_count": 5,
     "metadata": {},
     "output_type": "execute_result"
    }
   ],
   "source": [
    "#shape = (number of users, max boardgame_id)\n",
    "user_item.shape"
   ]
  },
  {
   "cell_type": "markdown",
   "metadata": {},
   "source": [
    "## Create Model"
   ]
  },
  {
   "cell_type": "code",
   "execution_count": 6,
   "metadata": {},
   "outputs": [],
   "source": [
    "model = NearestNeighbors(metric='cosine')"
   ]
  },
  {
   "cell_type": "code",
   "execution_count": 7,
   "metadata": {},
   "outputs": [
    {
     "data": {
      "text/plain": [
       "NearestNeighbors(metric='cosine')"
      ]
     },
     "execution_count": 7,
     "metadata": {},
     "output_type": "execute_result"
    }
   ],
   "source": [
    "model.fit(user_item)"
   ]
  },
  {
   "cell_type": "code",
   "execution_count": 8,
   "metadata": {},
   "outputs": [],
   "source": [
    "with open('../models/knn_model_cosine.pickle', 'wb') as file:\n",
    "    pickle.dump(model, file)"
   ]
  },
  {
   "cell_type": "markdown",
   "metadata": {},
   "source": [
    "## Create User Vectors"
   ]
  },
  {
   "cell_type": "markdown",
   "metadata": {},
   "source": [
    "### a. of an existing user"
   ]
  },
  {
   "cell_type": "code",
   "execution_count": 9,
   "metadata": {},
   "outputs": [
    {
     "data": {
      "text/html": [
       "<div>\n",
       "<style scoped>\n",
       "    .dataframe tbody tr th:only-of-type {\n",
       "        vertical-align: middle;\n",
       "    }\n",
       "\n",
       "    .dataframe tbody tr th {\n",
       "        vertical-align: top;\n",
       "    }\n",
       "\n",
       "    .dataframe thead th {\n",
       "        text-align: right;\n",
       "    }\n",
       "</style>\n",
       "<table border=\"1\" class=\"dataframe\">\n",
       "  <thead>\n",
       "    <tr style=\"text-align: right;\">\n",
       "      <th></th>\n",
       "      <th>user_name</th>\n",
       "      <th>num_ratings</th>\n",
       "      <th>user_id</th>\n",
       "    </tr>\n",
       "  </thead>\n",
       "  <tbody>\n",
       "    <tr>\n",
       "      <th>0</th>\n",
       "      <td>Walt Mulder</td>\n",
       "      <td>8675</td>\n",
       "      <td>0</td>\n",
       "    </tr>\n",
       "    <tr>\n",
       "      <th>1</th>\n",
       "      <td>Doel</td>\n",
       "      <td>8599</td>\n",
       "      <td>1</td>\n",
       "    </tr>\n",
       "    <tr>\n",
       "      <th>2</th>\n",
       "      <td>TomVasel</td>\n",
       "      <td>7052</td>\n",
       "      <td>2</td>\n",
       "    </tr>\n",
       "    <tr>\n",
       "      <th>3</th>\n",
       "      <td>warta</td>\n",
       "      <td>6902</td>\n",
       "      <td>3</td>\n",
       "    </tr>\n",
       "    <tr>\n",
       "      <th>4</th>\n",
       "      <td>jmdsplotter</td>\n",
       "      <td>6210</td>\n",
       "      <td>4</td>\n",
       "    </tr>\n",
       "    <tr>\n",
       "      <th>5</th>\n",
       "      <td>leffe dubbel</td>\n",
       "      <td>6131</td>\n",
       "      <td>5</td>\n",
       "    </tr>\n",
       "    <tr>\n",
       "      <th>6</th>\n",
       "      <td>Nap16</td>\n",
       "      <td>6097</td>\n",
       "      <td>6</td>\n",
       "    </tr>\n",
       "    <tr>\n",
       "      <th>7</th>\n",
       "      <td>Hessu68</td>\n",
       "      <td>5689</td>\n",
       "      <td>7</td>\n",
       "    </tr>\n",
       "    <tr>\n",
       "      <th>8</th>\n",
       "      <td>loopoocat</td>\n",
       "      <td>5663</td>\n",
       "      <td>8</td>\n",
       "    </tr>\n",
       "    <tr>\n",
       "      <th>9</th>\n",
       "      <td>oldgoat3769967</td>\n",
       "      <td>5299</td>\n",
       "      <td>9</td>\n",
       "    </tr>\n",
       "    <tr>\n",
       "      <th>10</th>\n",
       "      <td>RichardIngram</td>\n",
       "      <td>5266</td>\n",
       "      <td>10</td>\n",
       "    </tr>\n",
       "    <tr>\n",
       "      <th>11</th>\n",
       "      <td>PzVIE</td>\n",
       "      <td>5114</td>\n",
       "      <td>11</td>\n",
       "    </tr>\n",
       "    <tr>\n",
       "      <th>12</th>\n",
       "      <td>OGRussHood</td>\n",
       "      <td>4874</td>\n",
       "      <td>12</td>\n",
       "    </tr>\n",
       "    <tr>\n",
       "      <th>13</th>\n",
       "      <td>RonCarlson01</td>\n",
       "      <td>4867</td>\n",
       "      <td>13</td>\n",
       "    </tr>\n",
       "    <tr>\n",
       "      <th>14</th>\n",
       "      <td>fake</td>\n",
       "      <td>4864</td>\n",
       "      <td>14</td>\n",
       "    </tr>\n",
       "    <tr>\n",
       "      <th>15</th>\n",
       "      <td>mcpranno</td>\n",
       "      <td>4387</td>\n",
       "      <td>15</td>\n",
       "    </tr>\n",
       "    <tr>\n",
       "      <th>16</th>\n",
       "      <td>Tolkana</td>\n",
       "      <td>4142</td>\n",
       "      <td>16</td>\n",
       "    </tr>\n",
       "    <tr>\n",
       "      <th>17</th>\n",
       "      <td>Pozman</td>\n",
       "      <td>4085</td>\n",
       "      <td>17</td>\n",
       "    </tr>\n",
       "    <tr>\n",
       "      <th>18</th>\n",
       "      <td>Master Thomas</td>\n",
       "      <td>4016</td>\n",
       "      <td>18</td>\n",
       "    </tr>\n",
       "    <tr>\n",
       "      <th>19</th>\n",
       "      <td>visard</td>\n",
       "      <td>3998</td>\n",
       "      <td>19</td>\n",
       "    </tr>\n",
       "  </tbody>\n",
       "</table>\n",
       "</div>"
      ],
      "text/plain": [
       "         user_name  num_ratings  user_id\n",
       "0      Walt Mulder         8675        0\n",
       "1             Doel         8599        1\n",
       "2         TomVasel         7052        2\n",
       "3            warta         6902        3\n",
       "4      jmdsplotter         6210        4\n",
       "5     leffe dubbel         6131        5\n",
       "6            Nap16         6097        6\n",
       "7          Hessu68         5689        7\n",
       "8        loopoocat         5663        8\n",
       "9   oldgoat3769967         5299        9\n",
       "10   RichardIngram         5266       10\n",
       "11           PzVIE         5114       11\n",
       "12      OGRussHood         4874       12\n",
       "13    RonCarlson01         4867       13\n",
       "14            fake         4864       14\n",
       "15        mcpranno         4387       15\n",
       "16         Tolkana         4142       16\n",
       "17          Pozman         4085       17\n",
       "18   Master Thomas         4016       18\n",
       "19          visard         3998       19"
      ]
     },
     "execution_count": 9,
     "metadata": {},
     "output_type": "execute_result"
    }
   ],
   "source": [
    "users = pd.read_csv('../data/users.csv')\n",
    "users.head(20)"
   ]
  },
  {
   "cell_type": "code",
   "execution_count": 10,
   "metadata": {},
   "outputs": [
    {
     "data": {
      "text/plain": [
       "40701"
      ]
     },
     "execution_count": 10,
     "metadata": {},
     "output_type": "execute_result"
    }
   ],
   "source": [
    "user_id = users[users['user_name']=='Ser0']['user_id'].tolist()[0]\n",
    "user_id"
   ]
  },
  {
   "cell_type": "code",
   "execution_count": 11,
   "metadata": {},
   "outputs": [
    {
     "data": {
      "text/html": [
       "<div>\n",
       "<style scoped>\n",
       "    .dataframe tbody tr th:only-of-type {\n",
       "        vertical-align: middle;\n",
       "    }\n",
       "\n",
       "    .dataframe tbody tr th {\n",
       "        vertical-align: top;\n",
       "    }\n",
       "\n",
       "    .dataframe thead th {\n",
       "        text-align: right;\n",
       "    }\n",
       "</style>\n",
       "<table border=\"1\" class=\"dataframe\">\n",
       "  <thead>\n",
       "    <tr style=\"text-align: right;\">\n",
       "      <th></th>\n",
       "      <th>boardgame_id</th>\n",
       "      <th>ratings</th>\n",
       "      <th>user_id</th>\n",
       "    </tr>\n",
       "  </thead>\n",
       "  <tbody>\n",
       "    <tr>\n",
       "      <th>13495904</th>\n",
       "      <td>30549</td>\n",
       "      <td>5.0</td>\n",
       "      <td>40701</td>\n",
       "    </tr>\n",
       "    <tr>\n",
       "      <th>13495905</th>\n",
       "      <td>68448</td>\n",
       "      <td>8.0</td>\n",
       "      <td>40701</td>\n",
       "    </tr>\n",
       "    <tr>\n",
       "      <th>13495906</th>\n",
       "      <td>36218</td>\n",
       "      <td>6.0</td>\n",
       "      <td>40701</td>\n",
       "    </tr>\n",
       "    <tr>\n",
       "      <th>13495907</th>\n",
       "      <td>178900</td>\n",
       "      <td>7.0</td>\n",
       "      <td>40701</td>\n",
       "    </tr>\n",
       "    <tr>\n",
       "      <th>13495908</th>\n",
       "      <td>167791</td>\n",
       "      <td>9.0</td>\n",
       "      <td>40701</td>\n",
       "    </tr>\n",
       "    <tr>\n",
       "      <th>...</th>\n",
       "      <td>...</td>\n",
       "      <td>...</td>\n",
       "      <td>...</td>\n",
       "    </tr>\n",
       "    <tr>\n",
       "      <th>13496026</th>\n",
       "      <td>303734</td>\n",
       "      <td>5.0</td>\n",
       "      <td>40701</td>\n",
       "    </tr>\n",
       "    <tr>\n",
       "      <th>13496027</th>\n",
       "      <td>42636</td>\n",
       "      <td>6.0</td>\n",
       "      <td>40701</td>\n",
       "    </tr>\n",
       "    <tr>\n",
       "      <th>13496028</th>\n",
       "      <td>165984</td>\n",
       "      <td>6.0</td>\n",
       "      <td>40701</td>\n",
       "    </tr>\n",
       "    <tr>\n",
       "      <th>13496029</th>\n",
       "      <td>135213</td>\n",
       "      <td>9.0</td>\n",
       "      <td>40701</td>\n",
       "    </tr>\n",
       "    <tr>\n",
       "      <th>13496030</th>\n",
       "      <td>155203</td>\n",
       "      <td>7.0</td>\n",
       "      <td>40701</td>\n",
       "    </tr>\n",
       "  </tbody>\n",
       "</table>\n",
       "<p>127 rows × 3 columns</p>\n",
       "</div>"
      ],
      "text/plain": [
       "          boardgame_id  ratings  user_id\n",
       "13495904         30549      5.0    40701\n",
       "13495905         68448      8.0    40701\n",
       "13495906         36218      6.0    40701\n",
       "13495907        178900      7.0    40701\n",
       "13495908        167791      9.0    40701\n",
       "...                ...      ...      ...\n",
       "13496026        303734      5.0    40701\n",
       "13496027         42636      6.0    40701\n",
       "13496028        165984      6.0    40701\n",
       "13496029        135213      9.0    40701\n",
       "13496030        155203      7.0    40701\n",
       "\n",
       "[127 rows x 3 columns]"
      ]
     },
     "execution_count": 11,
     "metadata": {},
     "output_type": "execute_result"
    }
   ],
   "source": [
    "user = ratings[ratings['user_id']==user_id]\n",
    "user"
   ]
  },
  {
   "cell_type": "code",
   "execution_count": 12,
   "metadata": {},
   "outputs": [],
   "source": [
    "user_boardgames = user['boardgame_id']"
   ]
  },
  {
   "cell_type": "code",
   "execution_count": 13,
   "metadata": {},
   "outputs": [],
   "source": [
    "vector_length = ratings['boardgame_id'].max()\n",
    "vector = np.repeat(0, vector_length+1)"
   ]
  },
  {
   "cell_type": "code",
   "execution_count": 14,
   "metadata": {},
   "outputs": [],
   "source": [
    "vector[user['boardgame_id']] = user['ratings']"
   ]
  },
  {
   "cell_type": "code",
   "execution_count": 15,
   "metadata": {},
   "outputs": [
    {
     "data": {
      "text/plain": [
       "(340910,)"
      ]
     },
     "execution_count": 15,
     "metadata": {},
     "output_type": "execute_result"
    }
   ],
   "source": [
    "vector.shape"
   ]
  },
  {
   "cell_type": "markdown",
   "metadata": {},
   "source": [
    "## Find Neighbors"
   ]
  },
  {
   "cell_type": "code",
   "execution_count": 16,
   "metadata": {},
   "outputs": [],
   "source": [
    "distances, neighbor_ids = model.kneighbors([vector], n_neighbors=10)"
   ]
  },
  {
   "cell_type": "code",
   "execution_count": 17,
   "metadata": {},
   "outputs": [
    {
     "data": {
      "text/plain": [
       "array([[ 40701,  88695,  73514, 221205,  74607, 163111,  78724, 127072,\n",
       "        123549, 161858]])"
      ]
     },
     "execution_count": 17,
     "metadata": {},
     "output_type": "execute_result"
    }
   ],
   "source": [
    "neighbor_ids"
   ]
  },
  {
   "cell_type": "code",
   "execution_count": 18,
   "metadata": {},
   "outputs": [
    {
     "data": {
      "text/plain": [
       "array([[0.        , 0.67720592, 0.71442184, 0.72092662, 0.72340518,\n",
       "        0.72377673, 0.72456408, 0.72643922, 0.72915679, 0.72969398]])"
      ]
     },
     "execution_count": 18,
     "metadata": {},
     "output_type": "execute_result"
    }
   ],
   "source": [
    "distances"
   ]
  },
  {
   "cell_type": "code",
   "execution_count": 19,
   "metadata": {},
   "outputs": [
    {
     "data": {
      "text/html": [
       "<div>\n",
       "<style scoped>\n",
       "    .dataframe tbody tr th:only-of-type {\n",
       "        vertical-align: middle;\n",
       "    }\n",
       "\n",
       "    .dataframe tbody tr th {\n",
       "        vertical-align: top;\n",
       "    }\n",
       "\n",
       "    .dataframe thead th {\n",
       "        text-align: right;\n",
       "    }\n",
       "</style>\n",
       "<table border=\"1\" class=\"dataframe\">\n",
       "  <thead>\n",
       "    <tr style=\"text-align: right;\">\n",
       "      <th></th>\n",
       "      <th>boardgame_id</th>\n",
       "      <th>ratings</th>\n",
       "      <th>user_id</th>\n",
       "    </tr>\n",
       "  </thead>\n",
       "  <tbody>\n",
       "    <tr>\n",
       "      <th>6004886</th>\n",
       "      <td>30549</td>\n",
       "      <td>8.0</td>\n",
       "      <td>73514</td>\n",
       "    </tr>\n",
       "    <tr>\n",
       "      <th>6004887</th>\n",
       "      <td>822</td>\n",
       "      <td>8.0</td>\n",
       "      <td>73514</td>\n",
       "    </tr>\n",
       "    <tr>\n",
       "      <th>6004888</th>\n",
       "      <td>13</td>\n",
       "      <td>6.5</td>\n",
       "      <td>73514</td>\n",
       "    </tr>\n",
       "    <tr>\n",
       "      <th>6004889</th>\n",
       "      <td>68448</td>\n",
       "      <td>6.0</td>\n",
       "      <td>73514</td>\n",
       "    </tr>\n",
       "    <tr>\n",
       "      <th>6004890</th>\n",
       "      <td>36218</td>\n",
       "      <td>7.5</td>\n",
       "      <td>73514</td>\n",
       "    </tr>\n",
       "    <tr>\n",
       "      <th>...</th>\n",
       "      <td>...</td>\n",
       "      <td>...</td>\n",
       "      <td>...</td>\n",
       "    </tr>\n",
       "    <tr>\n",
       "      <th>19160361</th>\n",
       "      <td>281259</td>\n",
       "      <td>9.0</td>\n",
       "      <td>161858</td>\n",
       "    </tr>\n",
       "    <tr>\n",
       "      <th>19160362</th>\n",
       "      <td>251247</td>\n",
       "      <td>9.0</td>\n",
       "      <td>161858</td>\n",
       "    </tr>\n",
       "    <tr>\n",
       "      <th>19160363</th>\n",
       "      <td>184267</td>\n",
       "      <td>9.0</td>\n",
       "      <td>161858</td>\n",
       "    </tr>\n",
       "    <tr>\n",
       "      <th>19160364</th>\n",
       "      <td>283155</td>\n",
       "      <td>9.0</td>\n",
       "      <td>161858</td>\n",
       "    </tr>\n",
       "    <tr>\n",
       "      <th>19160365</th>\n",
       "      <td>246900</td>\n",
       "      <td>10.0</td>\n",
       "      <td>161858</td>\n",
       "    </tr>\n",
       "  </tbody>\n",
       "</table>\n",
       "<p>387 rows × 3 columns</p>\n",
       "</div>"
      ],
      "text/plain": [
       "          boardgame_id  ratings  user_id\n",
       "6004886          30549      8.0    73514\n",
       "6004887            822      8.0    73514\n",
       "6004888             13      6.5    73514\n",
       "6004889          68448      6.0    73514\n",
       "6004890          36218      7.5    73514\n",
       "...                ...      ...      ...\n",
       "19160361        281259      9.0   161858\n",
       "19160362        251247      9.0   161858\n",
       "19160363        184267      9.0   161858\n",
       "19160364        283155      9.0   161858\n",
       "19160365        246900     10.0   161858\n",
       "\n",
       "[387 rows x 3 columns]"
      ]
     },
     "execution_count": 19,
     "metadata": {},
     "output_type": "execute_result"
    }
   ],
   "source": [
    "neighbor_filter = ratings['user_id'].isin(neighbor_ids[0][1:])\n",
    "ratings[neighbor_filter]"
   ]
  },
  {
   "cell_type": "code",
   "execution_count": 20,
   "metadata": {},
   "outputs": [
    {
     "data": {
      "text/plain": [
       "boardgame_id\n",
       "188       10.0\n",
       "463       10.0\n",
       "246900    10.0\n",
       "3076      10.0\n",
       "242277    10.0\n",
       "          ... \n",
       "320        5.0\n",
       "271264     5.0\n",
       "180263     5.0\n",
       "223779     3.0\n",
       "2921       1.0\n",
       "Name: ratings, Length: 220, dtype: float64"
      ]
     },
     "execution_count": 20,
     "metadata": {},
     "output_type": "execute_result"
    }
   ],
   "source": [
    "neighbor_taste = ratings[neighbor_filter].groupby('boardgame_id').mean()['ratings'].sort_values(ascending=False)\n",
    "neighbor_taste"
   ]
  },
  {
   "cell_type": "code",
   "execution_count": 21,
   "metadata": {},
   "outputs": [
    {
     "data": {
      "text/plain": [
       "array([ True,  True,  True,  True,  True,  True, False,  True,  True,\n",
       "        True, False,  True,  True,  True,  True,  True,  True,  True,\n",
       "       False,  True,  True,  True,  True,  True, False,  True, False,\n",
       "        True, False, False, False,  True,  True,  True, False,  True,\n",
       "        True, False,  True,  True, False, False, False, False, False,\n",
       "        True, False,  True, False,  True,  True,  True, False,  True,\n",
       "        True,  True,  True,  True,  True,  True,  True,  True,  True,\n",
       "        True,  True,  True,  True,  True,  True,  True,  True, False,\n",
       "        True,  True,  True,  True,  True,  True,  True, False, False,\n",
       "        True, False, False,  True,  True,  True,  True, False,  True,\n",
       "        True,  True,  True,  True,  True,  True,  True,  True, False,\n",
       "        True, False,  True, False,  True, False,  True, False, False,\n",
       "        True,  True,  True,  True,  True,  True,  True, False,  True,\n",
       "       False,  True, False,  True, False,  True,  True,  True, False,\n",
       "       False,  True,  True,  True, False, False,  True,  True, False,\n",
       "        True,  True,  True,  True,  True,  True, False,  True,  True,\n",
       "        True,  True,  True, False,  True,  True,  True,  True,  True,\n",
       "        True,  True,  True, False,  True,  True,  True,  True,  True,\n",
       "        True, False, False, False,  True,  True,  True,  True, False,\n",
       "        True,  True,  True, False,  True,  True,  True,  True,  True,\n",
       "        True,  True,  True,  True,  True,  True,  True,  True,  True,\n",
       "        True,  True, False,  True,  True,  True,  True,  True,  True,\n",
       "        True,  True,  True,  True,  True,  True, False,  True,  True,\n",
       "        True,  True,  True, False,  True,  True,  True,  True, False,\n",
       "        True,  True,  True,  True])"
      ]
     },
     "execution_count": 21,
     "metadata": {},
     "output_type": "execute_result"
    }
   ],
   "source": [
    "played_filter = ~neighbor_taste.index.isin(user_boardgames)\n",
    "played_filter"
   ]
  },
  {
   "cell_type": "code",
   "execution_count": 22,
   "metadata": {},
   "outputs": [
    {
     "data": {
      "text/plain": [
       "Int64Index([   188,    463, 246900,   3076, 242277, 269385, 201808, 184267,\n",
       "            126163, 232414,\n",
       "            ...\n",
       "              2719,  40398, 234877, 260300,   2223, 205896, 271264, 180263,\n",
       "            223779,   2921],\n",
       "           dtype='int64', name='boardgame_id', length=169)"
      ]
     },
     "execution_count": 22,
     "metadata": {},
     "output_type": "execute_result"
    }
   ],
   "source": [
    "neighbor_taste[played_filter].index"
   ]
  },
  {
   "cell_type": "markdown",
   "metadata": {},
   "source": [
    "## Find Top Categories, Mechanics etc."
   ]
  },
  {
   "cell_type": "code",
   "execution_count": 140,
   "metadata": {},
   "outputs": [
    {
     "data": {
      "text/plain": [
       "(45000, 5)"
      ]
     },
     "execution_count": 140,
     "metadata": {},
     "output_type": "execute_result"
    }
   ],
   "source": [
    "boardgames = pd.read_csv('../data/boardgames.csv')\n",
    "boardgames.shape"
   ]
  },
  {
   "cell_type": "code",
   "execution_count": 141,
   "metadata": {},
   "outputs": [
    {
     "data": {
      "text/html": [
       "<div>\n",
       "<style scoped>\n",
       "    .dataframe tbody tr th:only-of-type {\n",
       "        vertical-align: middle;\n",
       "    }\n",
       "\n",
       "    .dataframe tbody tr th {\n",
       "        vertical-align: top;\n",
       "    }\n",
       "\n",
       "    .dataframe thead th {\n",
       "        text-align: right;\n",
       "    }\n",
       "</style>\n",
       "<table border=\"1\" class=\"dataframe\">\n",
       "  <thead>\n",
       "    <tr style=\"text-align: right;\">\n",
       "      <th></th>\n",
       "      <th>rank</th>\n",
       "      <th>name</th>\n",
       "      <th>id</th>\n",
       "      <th>links</th>\n",
       "      <th>num_voters</th>\n",
       "    </tr>\n",
       "  </thead>\n",
       "  <tbody>\n",
       "    <tr>\n",
       "      <th>0</th>\n",
       "      <td>104.0</td>\n",
       "      <td>Pandemic</td>\n",
       "      <td>30549</td>\n",
       "      <td>/boardgame/30549/pandemic</td>\n",
       "      <td>104891</td>\n",
       "    </tr>\n",
       "    <tr>\n",
       "      <th>1</th>\n",
       "      <td>184.0</td>\n",
       "      <td>Carcassonne</td>\n",
       "      <td>822</td>\n",
       "      <td>/boardgame/822/carcassonne</td>\n",
       "      <td>104530</td>\n",
       "    </tr>\n",
       "    <tr>\n",
       "      <th>2</th>\n",
       "      <td>408.0</td>\n",
       "      <td>Catan</td>\n",
       "      <td>13</td>\n",
       "      <td>/boardgame/13/catan</td>\n",
       "      <td>103960</td>\n",
       "    </tr>\n",
       "    <tr>\n",
       "      <th>3</th>\n",
       "      <td>71.0</td>\n",
       "      <td>7 Wonders</td>\n",
       "      <td>68448</td>\n",
       "      <td>/boardgame/68448/7-wonders</td>\n",
       "      <td>86475</td>\n",
       "    </tr>\n",
       "    <tr>\n",
       "      <th>4</th>\n",
       "      <td>101.0</td>\n",
       "      <td>Dominion</td>\n",
       "      <td>36218</td>\n",
       "      <td>/boardgame/36218/dominion</td>\n",
       "      <td>79469</td>\n",
       "    </tr>\n",
       "  </tbody>\n",
       "</table>\n",
       "</div>"
      ],
      "text/plain": [
       "    rank         name     id                       links  num_voters\n",
       "0  104.0     Pandemic  30549   /boardgame/30549/pandemic      104891\n",
       "1  184.0  Carcassonne    822  /boardgame/822/carcassonne      104530\n",
       "2  408.0        Catan     13         /boardgame/13/catan      103960\n",
       "3   71.0    7 Wonders  68448  /boardgame/68448/7-wonders       86475\n",
       "4  101.0     Dominion  36218   /boardgame/36218/dominion       79469"
      ]
     },
     "execution_count": 141,
     "metadata": {},
     "output_type": "execute_result"
    }
   ],
   "source": [
    "boardgames.head()"
   ]
  },
  {
   "cell_type": "code",
   "execution_count": 23,
   "metadata": {},
   "outputs": [
    {
     "data": {
      "text/plain": [
       "(45000, 12)"
      ]
     },
     "execution_count": 23,
     "metadata": {},
     "output_type": "execute_result"
    }
   ],
   "source": [
    "boardgames_ext = pd.read_csv('../data/boardgames_extend_backup.csv')\n",
    "boardgames_ext.shape"
   ]
  },
  {
   "cell_type": "code",
   "execution_count": 24,
   "metadata": {},
   "outputs": [
    {
     "data": {
      "text/html": [
       "<div>\n",
       "<style scoped>\n",
       "    .dataframe tbody tr th:only-of-type {\n",
       "        vertical-align: middle;\n",
       "    }\n",
       "\n",
       "    .dataframe tbody tr th {\n",
       "        vertical-align: top;\n",
       "    }\n",
       "\n",
       "    .dataframe thead th {\n",
       "        text-align: right;\n",
       "    }\n",
       "</style>\n",
       "<table border=\"1\" class=\"dataframe\">\n",
       "  <thead>\n",
       "    <tr style=\"text-align: right;\">\n",
       "      <th></th>\n",
       "      <th>id</th>\n",
       "      <th>rank</th>\n",
       "      <th>name</th>\n",
       "      <th>links</th>\n",
       "      <th>num_voters</th>\n",
       "      <th>categories</th>\n",
       "      <th>mechanics</th>\n",
       "      <th>family</th>\n",
       "      <th>expansions</th>\n",
       "      <th>integrations</th>\n",
       "      <th>designers</th>\n",
       "      <th>publishers</th>\n",
       "    </tr>\n",
       "  </thead>\n",
       "  <tbody>\n",
       "    <tr>\n",
       "      <th>0</th>\n",
       "      <td>30549</td>\n",
       "      <td>104.0</td>\n",
       "      <td>Pandemic</td>\n",
       "      <td>/boardgame/30549/pandemic</td>\n",
       "      <td>104891</td>\n",
       "      <td>Medical</td>\n",
       "      <td>Action Points, Cooperative Game, Hand Manageme...</td>\n",
       "      <td>Components: Map (Global Scale), Components: Mu...</td>\n",
       "      <td>Pandemic: Gen Con 2016 Promos – Z-Force Team M...</td>\n",
       "      <td>NaN</td>\n",
       "      <td>Matt Leacock</td>\n",
       "      <td>Z-Man Games, Inc., (Unknown), Albi, Asmodee, A...</td>\n",
       "    </tr>\n",
       "    <tr>\n",
       "      <th>1</th>\n",
       "      <td>822</td>\n",
       "      <td>184.0</td>\n",
       "      <td>Carcassonne</td>\n",
       "      <td>/boardgame/822/carcassonne</td>\n",
       "      <td>104530</td>\n",
       "      <td>City Building, Medieval, Territory Building</td>\n",
       "      <td>Area Majority / Influence, Map Addition, Tile ...</td>\n",
       "      <td>Cities: Carcassonne (France), Components: Meep...</td>\n",
       "      <td>20 Jahre Darmstadt Spielt, Apothecaries (fan e...</td>\n",
       "      <td>Carcassonne: Wheel of Fortune</td>\n",
       "      <td>Klaus-Jürgen Wrede</td>\n",
       "      <td>Hans im Glück, 999 Games, Albi, Bard Centrum G...</td>\n",
       "    </tr>\n",
       "    <tr>\n",
       "      <th>2</th>\n",
       "      <td>13</td>\n",
       "      <td>408.0</td>\n",
       "      <td>Catan</td>\n",
       "      <td>/boardgame/13/catan</td>\n",
       "      <td>103960</td>\n",
       "      <td>Economic, Negotiation</td>\n",
       "      <td>Dice Rolling, Hexagon Grid, Income, Modular Bo...</td>\n",
       "      <td>Animals: Sheep, Components: Hexagonal Tiles, C...</td>\n",
       "      <td>20 Jahre Darmstadt Spielt, Brettspiel Adventsk...</td>\n",
       "      <td>NaN</td>\n",
       "      <td>Klaus Teuber</td>\n",
       "      <td>KOSMOS, 999 Games, Albi, Astrel Games, Bergsal...</td>\n",
       "    </tr>\n",
       "    <tr>\n",
       "      <th>3</th>\n",
       "      <td>68448</td>\n",
       "      <td>71.0</td>\n",
       "      <td>7 Wonders</td>\n",
       "      <td>/boardgame/68448/7-wonders</td>\n",
       "      <td>86475</td>\n",
       "      <td>Ancient, Card Game, City Building, Civilizatio...</td>\n",
       "      <td>Drafting, Hand Management, Set Collection, Sim...</td>\n",
       "      <td>Digital Implementations: Board Game Arena, Gam...</td>\n",
       "      <td>7 Wonders: Armada, 7 Wonders: Babel, 7 Wonders...</td>\n",
       "      <td>NaN</td>\n",
       "      <td>Antoine Bauza</td>\n",
       "      <td>Repos Production, ADC Blackfire Entertainment,...</td>\n",
       "    </tr>\n",
       "    <tr>\n",
       "      <th>4</th>\n",
       "      <td>36218</td>\n",
       "      <td>101.0</td>\n",
       "      <td>Dominion</td>\n",
       "      <td>/boardgame/36218/dominion</td>\n",
       "      <td>79469</td>\n",
       "      <td>Card Game, Medieval</td>\n",
       "      <td>Deck, Bag, and Pool Building, Delayed Purchase...</td>\n",
       "      <td>Crowdfunding: Wspieram, Game: Dominion, Misc: ...</td>\n",
       "      <td>Ancient Times (fan expansion for Dominion), An...</td>\n",
       "      <td>Dominion: Intrigue</td>\n",
       "      <td>Donald X. Vaccarino</td>\n",
       "      <td>Rio Grande Games, 999 Games, Albi, Bard Centru...</td>\n",
       "    </tr>\n",
       "  </tbody>\n",
       "</table>\n",
       "</div>"
      ],
      "text/plain": [
       "      id   rank         name                       links  num_voters  \\\n",
       "0  30549  104.0     Pandemic   /boardgame/30549/pandemic      104891   \n",
       "1    822  184.0  Carcassonne  /boardgame/822/carcassonne      104530   \n",
       "2     13  408.0        Catan         /boardgame/13/catan      103960   \n",
       "3  68448   71.0    7 Wonders  /boardgame/68448/7-wonders       86475   \n",
       "4  36218  101.0     Dominion   /boardgame/36218/dominion       79469   \n",
       "\n",
       "                                          categories  \\\n",
       "0                                            Medical   \n",
       "1        City Building, Medieval, Territory Building   \n",
       "2                              Economic, Negotiation   \n",
       "3  Ancient, Card Game, City Building, Civilizatio...   \n",
       "4                                Card Game, Medieval   \n",
       "\n",
       "                                           mechanics  \\\n",
       "0  Action Points, Cooperative Game, Hand Manageme...   \n",
       "1  Area Majority / Influence, Map Addition, Tile ...   \n",
       "2  Dice Rolling, Hexagon Grid, Income, Modular Bo...   \n",
       "3  Drafting, Hand Management, Set Collection, Sim...   \n",
       "4  Deck, Bag, and Pool Building, Delayed Purchase...   \n",
       "\n",
       "                                              family  \\\n",
       "0  Components: Map (Global Scale), Components: Mu...   \n",
       "1  Cities: Carcassonne (France), Components: Meep...   \n",
       "2  Animals: Sheep, Components: Hexagonal Tiles, C...   \n",
       "3  Digital Implementations: Board Game Arena, Gam...   \n",
       "4  Crowdfunding: Wspieram, Game: Dominion, Misc: ...   \n",
       "\n",
       "                                          expansions  \\\n",
       "0  Pandemic: Gen Con 2016 Promos – Z-Force Team M...   \n",
       "1  20 Jahre Darmstadt Spielt, Apothecaries (fan e...   \n",
       "2  20 Jahre Darmstadt Spielt, Brettspiel Adventsk...   \n",
       "3  7 Wonders: Armada, 7 Wonders: Babel, 7 Wonders...   \n",
       "4  Ancient Times (fan expansion for Dominion), An...   \n",
       "\n",
       "                    integrations            designers  \\\n",
       "0                            NaN         Matt Leacock   \n",
       "1  Carcassonne: Wheel of Fortune   Klaus-Jürgen Wrede   \n",
       "2                            NaN         Klaus Teuber   \n",
       "3                            NaN        Antoine Bauza   \n",
       "4             Dominion: Intrigue  Donald X. Vaccarino   \n",
       "\n",
       "                                          publishers  \n",
       "0  Z-Man Games, Inc., (Unknown), Albi, Asmodee, A...  \n",
       "1  Hans im Glück, 999 Games, Albi, Bard Centrum G...  \n",
       "2  KOSMOS, 999 Games, Albi, Astrel Games, Bergsal...  \n",
       "3  Repos Production, ADC Blackfire Entertainment,...  \n",
       "4  Rio Grande Games, 999 Games, Albi, Bard Centru...  "
      ]
     },
     "execution_count": 24,
     "metadata": {},
     "output_type": "execute_result"
    }
   ],
   "source": [
    "boardgames_ext.head()"
   ]
  },
  {
   "cell_type": "code",
   "execution_count": 146,
   "metadata": {},
   "outputs": [],
   "source": [
    "boardgames_ext['id'] = boardgames['id']"
   ]
  },
  {
   "cell_type": "code",
   "execution_count": 147,
   "metadata": {},
   "outputs": [
    {
     "data": {
      "text/html": [
       "<div>\n",
       "<style scoped>\n",
       "    .dataframe tbody tr th:only-of-type {\n",
       "        vertical-align: middle;\n",
       "    }\n",
       "\n",
       "    .dataframe tbody tr th {\n",
       "        vertical-align: top;\n",
       "    }\n",
       "\n",
       "    .dataframe thead th {\n",
       "        text-align: right;\n",
       "    }\n",
       "</style>\n",
       "<table border=\"1\" class=\"dataframe\">\n",
       "  <thead>\n",
       "    <tr style=\"text-align: right;\">\n",
       "      <th></th>\n",
       "      <th>rank</th>\n",
       "      <th>name</th>\n",
       "      <th>links</th>\n",
       "      <th>num_voters</th>\n",
       "      <th>categories</th>\n",
       "      <th>mechanics</th>\n",
       "      <th>family</th>\n",
       "      <th>expansions</th>\n",
       "      <th>integrations</th>\n",
       "      <th>designers</th>\n",
       "      <th>publishers</th>\n",
       "      <th>id</th>\n",
       "    </tr>\n",
       "  </thead>\n",
       "  <tbody>\n",
       "    <tr>\n",
       "      <th>0</th>\n",
       "      <td>104.0</td>\n",
       "      <td>Pandemic</td>\n",
       "      <td>/boardgame/30549/pandemic</td>\n",
       "      <td>104891</td>\n",
       "      <td>NaN</td>\n",
       "      <td>NaN</td>\n",
       "      <td>NaN</td>\n",
       "      <td>NaN</td>\n",
       "      <td>NaN</td>\n",
       "      <td>NaN</td>\n",
       "      <td>NaN</td>\n",
       "      <td>30549</td>\n",
       "    </tr>\n",
       "    <tr>\n",
       "      <th>1</th>\n",
       "      <td>184.0</td>\n",
       "      <td>Carcassonne</td>\n",
       "      <td>/boardgame/822/carcassonne</td>\n",
       "      <td>104530</td>\n",
       "      <td>NaN</td>\n",
       "      <td>NaN</td>\n",
       "      <td>NaN</td>\n",
       "      <td>NaN</td>\n",
       "      <td>NaN</td>\n",
       "      <td>NaN</td>\n",
       "      <td>NaN</td>\n",
       "      <td>822</td>\n",
       "    </tr>\n",
       "    <tr>\n",
       "      <th>2</th>\n",
       "      <td>408.0</td>\n",
       "      <td>Catan</td>\n",
       "      <td>/boardgame/13/catan</td>\n",
       "      <td>103960</td>\n",
       "      <td>NaN</td>\n",
       "      <td>NaN</td>\n",
       "      <td>NaN</td>\n",
       "      <td>NaN</td>\n",
       "      <td>NaN</td>\n",
       "      <td>NaN</td>\n",
       "      <td>NaN</td>\n",
       "      <td>13</td>\n",
       "    </tr>\n",
       "    <tr>\n",
       "      <th>3</th>\n",
       "      <td>71.0</td>\n",
       "      <td>7 Wonders</td>\n",
       "      <td>/boardgame/68448/7-wonders</td>\n",
       "      <td>86475</td>\n",
       "      <td>NaN</td>\n",
       "      <td>NaN</td>\n",
       "      <td>NaN</td>\n",
       "      <td>NaN</td>\n",
       "      <td>NaN</td>\n",
       "      <td>NaN</td>\n",
       "      <td>NaN</td>\n",
       "      <td>68448</td>\n",
       "    </tr>\n",
       "    <tr>\n",
       "      <th>4</th>\n",
       "      <td>101.0</td>\n",
       "      <td>Dominion</td>\n",
       "      <td>/boardgame/36218/dominion</td>\n",
       "      <td>79469</td>\n",
       "      <td>NaN</td>\n",
       "      <td>NaN</td>\n",
       "      <td>NaN</td>\n",
       "      <td>NaN</td>\n",
       "      <td>NaN</td>\n",
       "      <td>NaN</td>\n",
       "      <td>NaN</td>\n",
       "      <td>36218</td>\n",
       "    </tr>\n",
       "  </tbody>\n",
       "</table>\n",
       "</div>"
      ],
      "text/plain": [
       "    rank         name                       links  num_voters categories  \\\n",
       "0  104.0     Pandemic   /boardgame/30549/pandemic      104891        NaN   \n",
       "1  184.0  Carcassonne  /boardgame/822/carcassonne      104530        NaN   \n",
       "2  408.0        Catan         /boardgame/13/catan      103960        NaN   \n",
       "3   71.0    7 Wonders  /boardgame/68448/7-wonders       86475        NaN   \n",
       "4  101.0     Dominion   /boardgame/36218/dominion       79469        NaN   \n",
       "\n",
       "  mechanics family expansions integrations designers publishers     id  \n",
       "0       NaN    NaN        NaN          NaN       NaN        NaN  30549  \n",
       "1       NaN    NaN        NaN          NaN       NaN        NaN    822  \n",
       "2       NaN    NaN        NaN          NaN       NaN        NaN     13  \n",
       "3       NaN    NaN        NaN          NaN       NaN        NaN  68448  \n",
       "4       NaN    NaN        NaN          NaN       NaN        NaN  36218  "
      ]
     },
     "execution_count": 147,
     "metadata": {},
     "output_type": "execute_result"
    }
   ],
   "source": [
    "boardgames_ext.head()"
   ]
  },
  {
   "cell_type": "code",
   "execution_count": 148,
   "metadata": {},
   "outputs": [],
   "source": [
    "boardgames_ext = boardgames_ext.set_index('id')"
   ]
  },
  {
   "cell_type": "code",
   "execution_count": 149,
   "metadata": {},
   "outputs": [
    {
     "data": {
      "text/plain": [
       "Abstract Strategy                                                                                           4\n",
       "Card Game                                                                                                   4\n",
       "Economic                                                                                                    3\n",
       "Adventure, Exploration, Fantasy, Fighting, Miniatures                                                       3\n",
       "Card Game, Number                                                                                           3\n",
       "                                                                                                           ..\n",
       "Fantasy, Puzzle                                                                                             1\n",
       "Deduction, Fighting, Nautical, Real-time                                                                    1\n",
       "Card Game, City Building, Economic                                                                          1\n",
       "Dice, Economic, Medieval, Travel                                                                            1\n",
       "Civilization, Economic, Exploration, Negotiation, Political, Science Fiction, Space Exploration, Wargame    1\n",
       "Name: categories, Length: 245, dtype: int64"
      ]
     },
     "execution_count": 149,
     "metadata": {},
     "output_type": "execute_result"
    }
   ],
   "source": [
    "boardgames_ext['categories'].value_counts()"
   ]
  },
  {
   "cell_type": "code",
   "execution_count": 156,
   "metadata": {},
   "outputs": [],
   "source": [
    "def values_to_list(df, column_name):\n",
    "    categories = []\n",
    "    for i in df[df[column_name].notna()].iterrows():\n",
    "        categories = categories + i[1][column_name].split(', ')\n",
    "    categories = list(dict.fromkeys(categories))\n",
    "    categories.sort()\n",
    "    return categories\n",
    "        "
   ]
  },
  {
   "cell_type": "code",
   "execution_count": 276,
   "metadata": {},
   "outputs": [],
   "source": [
    "def ohe_user_boardgames(user_name, column, weight=True):\n",
    "    games_ohe={}\n",
    "    user_id = users[users['user_name']==user_name]['user_id'].tolist()[0]\n",
    "    user_ratings = ratings[ratings['user_id']==user_id].set_index('boardgame_id')\n",
    "    user_boardgames = boardgames_ext.loc[user_ratings.index]\n",
    "    user_boardgames = user_boardgames[user_boardgames[column].notna()]\n",
    "    user_categories = values_to_list(user_boardgames, column)    \n",
    "    for i in user_boardgames.iterrows():\n",
    "        game_vector = [0]*len(user_categories)\n",
    "        for c in i[1][column].split(', '):\n",
    "            index = user_categories.index(c)\n",
    "            if weight == True:\n",
    "                game_vector[index]=1 * user_ratings.loc[i[0]]['ratings']\n",
    "            else: \n",
    "                game_vector[index]=1\n",
    "        games_ohe[i[0]] = game_vector\n",
    "    df = pd.DataFrame(games_ohe)\n",
    "    df = df.transpose()\n",
    "    df.columns = user_categories\n",
    "    return df"
   ]
  },
  {
   "cell_type": "code",
   "execution_count": 277,
   "metadata": {},
   "outputs": [
    {
     "name": "stdout",
     "output_type": "stream",
     "text": [
      "Hive Enclosure, Grid Movement, Hexagon Grid, Pieces as Map, Slide/Push, Three Dimensional Movement, Tile Placement\n",
      "Spirit Island Action Retrieval, Area Majority / Influence, Campaign / Battle Card Driven, Cooperative Game, Events, Hand Management, Modular Board, Set Collection, Simultaneous Action Selection, Solo / Solitaire Game, Variable Player Powers\n",
      "Scrabble End Game Bonuses, Hand Management, Square Grid, Tile Placement\n",
      "Root Action Queue, Action Retrieval, Area Majority / Influence, Area Movement, Dice Rolling, Hand Management, Point to Point Movement, Race, Variable Player Powers, Variable Set-up\n",
      "Machi Koro Dice Rolling, Random Production\n",
      "Mansions of Madness: Second Edition Area Movement, Cooperative Game, Dice Rolling, Hand Management, Modular Board, Role Playing, Scenario / Mission / Campaign Game, Solo / Solitaire Game, Stat Check Resolution, Team-Based Game, Traitor Game, Variable Player Powers\n",
      "The Quacks of Quedlinburg Catch the Leader, Deck, Bag, and Pool Building, Dice Rolling, Push Your Luck, Variable Set-up\n",
      "Smash Up Area Majority / Influence, Card Drafting, Card Play Conflict Resolution, Deck Construction, Hand Management, Take That, Variable Player Powers, Variable Set-up\n",
      "Cards Against Humanity Hand Management, Player Judge, Simultaneous Action Selection\n",
      "Everdell Card Drafting, End Game Bonuses, Hand Management, Income, Solo / Solitaire Game, Variable Set-up, Worker Placement\n",
      "Exploding Kittens Hand Management, Hot Potato, Player Elimination, Push Your Luck, Set Collection, Take That\n",
      "Brass: Birmingham Hand Management, Income, Loans, Market, Network and Route Building, Score-and-Reset Game, Tech Trees / Tech Tracks, Turn Order: Stat-Based, Variable Set-up\n",
      "Thurn and Taxis Card Drafting, Hand Management, Network and Route Building, Set Collection\n",
      "Photosynthesis Action Points, Area Majority / Influence, Bias, End Game Bonuses, Hexagon Grid, Income, Turn Order: Progressive\n",
      "Magic Maze Communication Limits, Cooperative Game, Elapsed Real Time Ending, Grid Movement, Map Addition, Modular Board, Real-Time, Solo / Solitaire Game, Variable Player Powers\n",
      "Concept Communication Limits, Team-Based Game\n",
      "Onitama Grid Movement, Hand Management, Pattern Movement, Square Grid, Static Capture\n",
      "Dice Forge Card Drafting, Deck, Bag, and Pool Building, Dice Rolling, Random Production\n",
      "Chronicles of Crime Cooperative Game, Scenario / Mission / Campaign Game, Storytelling\n",
      "Dominion: Seaside Card Drafting, Deck, Bag, and Pool Building, Hand Management\n",
      "Potion Explosion Pattern Recognition, Set Collection, Take That, Variable Set-up\n",
      "Nemesis Campaign / Battle Card Driven, Cooperative Game, Dice Rolling, Hidden Roles, Modular Board, Player Elimination, Semi-Cooperative Game, Solo / Solitaire Game, Team-Based Game, Traitor Game, Variable Player Powers\n",
      "Dominion: Prosperity Card Drafting, Deck, Bag, and Pool Building, Hand Management\n",
      "The Quest for El Dorado Card Drafting, Deck, Bag, and Pool Building, Grid Movement, Hand Management, Hexagon Grid, Modular Board, Race\n",
      "Spot it! Speed Matching\n",
      "Quarriors! Card Drafting, Deck, Bag, and Pool Building, Dice Rolling\n",
      "Cartographers Bingo, Grid Coverage, Line Drawing, Paper-and-Pencil, Solo / Solitaire Game, Square Grid\n",
      "Dungeon Lords Action Queue, Hand Management, Simultaneous Action Selection, Tile Placement, Worker Placement\n",
      "Underwater Cities End Game Bonuses, Hand Management, Income, Network and Route Building, Solo / Solitaire Game, Turn Order: Stat-Based, Worker Placement\n"
     ]
    }
   ],
   "source": [
    "for row in ohe_user_boardgames('Ser0', 'mechanics', weight=False).iterrows():\n",
    "    print(row[1]['name'],row[1]['mechanics'])"
   ]
  },
  {
   "cell_type": "code",
   "execution_count": 241,
   "metadata": {},
   "outputs": [],
   "source": [
    "users_top_categories = ohe_user_boardgames('Ser0', 'categories').sum().sort_values(ascending=False)"
   ]
  },
  {
   "cell_type": "code",
   "execution_count": 242,
   "metadata": {},
   "outputs": [
    {
     "data": {
      "text/plain": [
       "Fantasy                     78.0\n",
       "Card Game                   56.0\n",
       "Adventure                   34.0\n",
       "Animals                     30.0\n",
       "Fighting                    30.0\n",
       "City Building               23.0\n",
       "Humor                       23.0\n",
       "Abstract Strategy           22.0\n",
       "Science Fiction             22.0\n",
       "Medieval                    22.0\n",
       "Dice                        20.0\n",
       "Party Game                  20.0\n",
       "Miniatures                  19.0\n",
       "Horror                      19.0\n",
       "Industry / Manufacturing    18.0\n",
       "Economic                    17.0\n",
       "Transportation              17.0\n",
       "Puzzle                      17.0\n",
       "Mythology                   15.0\n",
       "Nautical                    15.0\n",
       "Ancient                     15.0\n",
       "Environmental               15.0\n",
       "Murder/Mystery              15.0\n",
       "Territory Building          14.0\n",
       "Real-time                   14.0\n",
       "Exploration                 14.0\n",
       "Expansion for Base-game     13.0\n",
       "Deduction                   12.0\n",
       "Children's Game              9.0\n",
       "Sports                       9.0\n",
       "Educational                  9.0\n",
       "Racing                       9.0\n",
       "Civilization                 8.0\n",
       "Comic Book / Strip           7.0\n",
       "Post-Napoleonic              7.0\n",
       "Age of Reason                7.0\n",
       "Word Game                    6.0\n",
       "Wargame                      6.0\n",
       "Print & Play                 5.0\n",
       "Mature / Adult               5.0\n",
       "Maze                         5.0\n",
       "Pirates                      4.0\n",
       "Zombies                      4.0\n",
       "dtype: float64"
      ]
     },
     "execution_count": 242,
     "metadata": {},
     "output_type": "execute_result"
    }
   ],
   "source": [
    "users_top_categories"
   ]
  },
  {
   "cell_type": "code",
   "execution_count": 257,
   "metadata": {},
   "outputs": [],
   "source": [
    "def ohe_user_boardgames(user_name, column, weight=True):\n",
    "    games_ohe={}\n",
    "    user_id = users[users['user_name']==user_name]['user_id'].tolist()[0]\n",
    "    user_ratings = ratings[ratings['user_id']==user_id].set_index('boardgame_id')\n",
    "    user_boardgames = boardgames_ext.loc[user_ratings.index]\n",
    "    user_boardgames = user_boardgames[user_boardgames[column].notna()]\n",
    "    user_categories = values_to_list(user_boardgames, column)    \n",
    "    for i in user_boardgames.iterrows():\n",
    "        game_vector = [0]*len(user_categories)\n",
    "        for c in i[1][column].split(', '):\n",
    "            index = user_categories.index(c)\n",
    "            if weight == True:\n",
    "                game_vector[index]=1 * user_ratings.loc[i[0]]['ratings']\n",
    "            else: \n",
    "                game_vector[index]=1\n",
    "        games_ohe[i[0]] = game_vector\n",
    "    df = pd.DataFrame(games_ohe)\n",
    "    df = df.transpose()\n",
    "    df.columns = user_categories\n",
    "    return df"
   ]
  },
  {
   "cell_type": "code",
   "execution_count": 266,
   "metadata": {},
   "outputs": [],
   "source": [
    "sero = ohe_user_boardgames('Ser0', 'mechanics', weight=True)['Hand Management']"
   ]
  },
  {
   "cell_type": "code",
   "execution_count": 267,
   "metadata": {},
   "outputs": [
    {
     "data": {
      "text/plain": [
       "2655       0.0\n",
       "162886     7.0\n",
       "320        6.0\n",
       "237182     6.0\n",
       "143884     0.0\n",
       "205059     9.0\n",
       "244521     0.0\n",
       "122522     4.0\n",
       "50381      5.0\n",
       "199792    10.0\n",
       "172225     7.0\n",
       "224517    10.0\n",
       "21790      7.0\n",
       "218603     0.0\n",
       "209778     0.0\n",
       "147151     0.0\n",
       "160477     7.0\n",
       "194594     0.0\n",
       "239188     0.0\n",
       "51811      7.0\n",
       "180974     0.0\n",
       "167355     0.0\n",
       "66690      6.0\n",
       "217372     9.0\n",
       "63268      0.0\n",
       "91536      0.0\n",
       "263918     0.0\n",
       "45315      7.0\n",
       "247763     8.0\n",
       "Name: Hand Management, dtype: float64"
      ]
     },
     "execution_count": 267,
     "metadata": {},
     "output_type": "execute_result"
    }
   ],
   "source": [
    "sero"
   ]
  },
  {
   "cell_type": "code",
   "execution_count": 268,
   "metadata": {},
   "outputs": [],
   "source": [
    "sero['boardgame_name'] = boardgames_ext.loc[sero.index]['name']"
   ]
  },
  {
   "cell_type": "code",
   "execution_count": 269,
   "metadata": {},
   "outputs": [
    {
     "data": {
      "text/plain": [
       "2655                                                              0\n",
       "162886                                                            7\n",
       "320                                                               6\n",
       "237182                                                            6\n",
       "143884                                                            0\n",
       "205059                                                            9\n",
       "244521                                                            0\n",
       "122522                                                            4\n",
       "50381                                                             5\n",
       "199792                                                           10\n",
       "172225                                                            7\n",
       "224517                                                           10\n",
       "21790                                                             7\n",
       "218603                                                            0\n",
       "209778                                                            0\n",
       "147151                                                            0\n",
       "160477                                                            7\n",
       "194594                                                            0\n",
       "239188                                                            0\n",
       "51811                                                             7\n",
       "180974                                                            0\n",
       "167355                                                            0\n",
       "66690                                                             6\n",
       "217372                                                            9\n",
       "63268                                                             0\n",
       "91536                                                             0\n",
       "263918                                                            0\n",
       "45315                                                             7\n",
       "247763                                                            8\n",
       "boardgame_name    id\n",
       "2655                                     Hi...\n",
       "Name: Hand Management, dtype: object"
      ]
     },
     "execution_count": 269,
     "metadata": {},
     "output_type": "execute_result"
    }
   ],
   "source": [
    "sero"
   ]
  },
  {
   "cell_type": "code",
   "execution_count": 264,
   "metadata": {},
   "outputs": [
    {
     "data": {
      "text/plain": [
       "['Hand Management',\n",
       " 'Card Drafting',\n",
       " 'Solo / Solitaire Game',\n",
       " 'Dice Rolling',\n",
       " 'Variable Set-up']"
      ]
     },
     "execution_count": 264,
     "metadata": {},
     "output_type": "execute_result"
    }
   ],
   "source": [
    "users_top_mechanics = ohe_user_boardgames('Ser0', 'mechanics').sum().sort_values(ascending=False)[:5].index.tolist()\n",
    "users_top_mechanics"
   ]
  },
  {
   "cell_type": "code",
   "execution_count": null,
   "metadata": {},
   "outputs": [],
   "source": []
  }
 ],
 "metadata": {
  "kernelspec": {
   "display_name": "Python 3",
   "language": "python",
   "name": "python3"
  },
  "language_info": {
   "codemirror_mode": {
    "name": "ipython",
    "version": 3
   },
   "file_extension": ".py",
   "mimetype": "text/x-python",
   "name": "python",
   "nbconvert_exporter": "python",
   "pygments_lexer": "ipython3",
   "version": "3.8.5"
  }
 },
 "nbformat": 4,
 "nbformat_minor": 4
}
