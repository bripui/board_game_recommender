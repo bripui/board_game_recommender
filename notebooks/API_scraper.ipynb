{
 "cells": [
  {
   "cell_type": "code",
   "execution_count": 11,
   "metadata": {},
   "outputs": [],
   "source": [
    "import pandas as pd\n",
    "import requests\n",
    "import xml.etree.ElementTree as ET\n",
    "from bs4 import BeautifulSoup\n",
    "import random\n",
    "import time\n",
    "import logging"
   ]
  },
  {
   "cell_type": "code",
   "execution_count": 28,
   "metadata": {},
   "outputs": [],
   "source": [
    "logging.basicConfig(filename='api_scraper.log', \n",
    "                    level=logging.DEBUG)"
   ]
  },
  {
   "cell_type": "code",
   "execution_count": 9,
   "metadata": {},
   "outputs": [],
   "source": [
    "def calculate_pagecount(total_items):\n",
    "    if int(total_items)%100 ==0:\n",
    "        pages = int(total_items)//100\n",
    "    else:\n",
    "        pages = (int(total_items)//100)+1\n",
    "    return pages"
   ]
  },
  {
   "cell_type": "markdown",
   "metadata": {},
   "source": [
    "## Boardgame Classification"
   ]
  },
  {
   "cell_type": "code",
   "execution_count": null,
   "metadata": {},
   "outputs": [],
   "source": [
    "ID = 306882"
   ]
  },
  {
   "cell_type": "code",
   "execution_count": null,
   "metadata": {},
   "outputs": [],
   "source": [
    "api_adress = f\"https://www.boardgamegeek.com/xmlapi2/thing?id={ID}stats=1\"\n",
    "\n",
    "response = requests.get(api_adress)\n",
    "response.status_code"
   ]
  },
  {
   "cell_type": "code",
   "execution_count": null,
   "metadata": {},
   "outputs": [],
   "source": [
    "xml = response.text"
   ]
  },
  {
   "cell_type": "code",
   "execution_count": null,
   "metadata": {},
   "outputs": [],
   "source": [
    "soup = BeautifulSoup(xml, 'xml')"
   ]
  },
  {
   "cell_type": "code",
   "execution_count": null,
   "metadata": {},
   "outputs": [],
   "source": [
    "#print(soup.prettify())"
   ]
  },
  {
   "cell_type": "code",
   "execution_count": null,
   "metadata": {},
   "outputs": [],
   "source": [
    "#soup.find_all('link')"
   ]
  },
  {
   "cell_type": "code",
   "execution_count": null,
   "metadata": {},
   "outputs": [],
   "source": [
    "categories = [link.get('value') for link in soup.find_all('link', attrs={'type':'boardgamecategory'})]\n",
    "categories"
   ]
  },
  {
   "cell_type": "code",
   "execution_count": null,
   "metadata": {},
   "outputs": [],
   "source": [
    "mechanics = [link.get('value') for link in soup.find_all('link', attrs={'type':'boardgamemechanic'})]\n",
    "mechanics"
   ]
  },
  {
   "cell_type": "code",
   "execution_count": null,
   "metadata": {},
   "outputs": [],
   "source": [
    "family = [link.get('value') for link in soup.find_all('link', attrs={'type':'boardgamefamily'})]\n",
    "family"
   ]
  },
  {
   "cell_type": "code",
   "execution_count": null,
   "metadata": {},
   "outputs": [],
   "source": [
    "expansions = [link.get('value') for link in soup.find_all('link', attrs={'type':'boardgameexpansion'})]\n",
    "expansions"
   ]
  },
  {
   "cell_type": "code",
   "execution_count": null,
   "metadata": {},
   "outputs": [],
   "source": [
    "integrations = [link.get('value') for link in soup.find_all('link', attrs={'type':'boardgameintegration'})]\n",
    "integrations"
   ]
  },
  {
   "cell_type": "code",
   "execution_count": null,
   "metadata": {},
   "outputs": [],
   "source": [
    "designers = [link.get('value') for link in soup.find_all('link', attrs={'type':'boardgamedesigner'})]\n",
    "designers"
   ]
  },
  {
   "cell_type": "code",
   "execution_count": null,
   "metadata": {},
   "outputs": [],
   "source": [
    "publishers = [link.get('value') for link in soup.find_all('link', attrs={'type':'boardgamepublisher'})]\n",
    "publishers "
   ]
  },
  {
   "cell_type": "markdown",
   "metadata": {},
   "source": [
    "## User Ratings"
   ]
  },
  {
   "cell_type": "code",
   "execution_count": null,
   "metadata": {},
   "outputs": [],
   "source": [
    "api_adress = \"https://www.boardgamegeek.com/xmlapi2/thing?id=306882&ratingcomments=1&page=1\"\n",
    "\n",
    "response = requests.get(api_adress)\n",
    "response.status_code"
   ]
  },
  {
   "cell_type": "code",
   "execution_count": null,
   "metadata": {},
   "outputs": [],
   "source": [
    "xml = response.text\n",
    "soup = BeautifulSoup(xml, 'xml')"
   ]
  },
  {
   "cell_type": "code",
   "execution_count": null,
   "metadata": {},
   "outputs": [],
   "source": [
    "#print(soup.prettify())"
   ]
  },
  {
   "cell_type": "code",
   "execution_count": null,
   "metadata": {},
   "outputs": [],
   "source": [
    "page = soup.find('comments').get('page')\n",
    "page"
   ]
  },
  {
   "cell_type": "code",
   "execution_count": null,
   "metadata": {},
   "outputs": [],
   "source": [
    "total_items = soup.find('comments').get('totalitems')\n",
    "total_items"
   ]
  },
  {
   "cell_type": "code",
   "execution_count": null,
   "metadata": {},
   "outputs": [],
   "source": [
    "pagecount = calculate_pagecount(total_items)\n",
    "pagecount"
   ]
  },
  {
   "cell_type": "code",
   "execution_count": null,
   "metadata": {},
   "outputs": [],
   "source": [
    "ratings = []\n",
    "users = []\n",
    "comments = []\n",
    "for comment in soup.find_all('comment'):\n",
    "    ratings.append(comment.get('rating'))\n",
    "    users.append(comment.get('username'))\n",
    "    comments.append(comment.get('value'))\n",
    "    "
   ]
  },
  {
   "cell_type": "code",
   "execution_count": null,
   "metadata": {},
   "outputs": [],
   "source": [
    "boardgame_id = [ID] * len(ratings)"
   ]
  },
  {
   "cell_type": "code",
   "execution_count": null,
   "metadata": {},
   "outputs": [],
   "source": [
    "ratings = pd.DataFrame({\n",
    "    'id':boardgame_id,\n",
    "    'user':users,\n",
    "    'rating':ratings,\n",
    "    'comment':comments\n",
    "})"
   ]
  },
  {
   "cell_type": "code",
   "execution_count": null,
   "metadata": {},
   "outputs": [],
   "source": [
    "ratings['rating'].isna().sum()"
   ]
  },
  {
   "cell_type": "markdown",
   "metadata": {},
   "source": [
    "To DO:\n",
    "- Loop through pages\n",
    "- ignore users without ratings\n",
    "- User IDs?\n",
    "- include logging\n",
    "- append csv not dataframe\n",
    "- check request status"
   ]
  },
  {
   "cell_type": "markdown",
   "metadata": {},
   "source": [
    "## Loop over rating pages"
   ]
  },
  {
   "cell_type": "code",
   "execution_count": 29,
   "metadata": {},
   "outputs": [],
   "source": [
    "boardgames =pd.read_csv('../data/boardgames.csv', index_col='id')\n",
    "boardgames['categories'] = None\n",
    "boardgames['mechanics'] = None\n",
    "boardgames['family'] = None\n",
    "boardgames['expansions'] = None\n",
    "boardgames['integrations'] = None\n",
    "boardgames['designers'] = None\n",
    "boardgames['publishers'] = None\n",
    "\n",
    "sleep_default = 2"
   ]
  },
  {
   "cell_type": "code",
   "execution_count": 34,
   "metadata": {},
   "outputs": [],
   "source": [
    "for ID in [4974, 6927, 8139, 8993, 13121]:\n",
    "    logging.debug(f'movie id: {ID}')\n",
    "    \n",
    "    user_ratings = []\n",
    "    users = []\n",
    "    comments = []\n",
    "    ratings = pd.DataFrame()\n",
    "    page = 1\n",
    "    \n",
    "    # request page 1 of game overview with user ratings and comments\n",
    "    api_adress = f\"https://www.boardgamegeek.com/xmlapi2/thing?id={ID}&ratingcomments=1&page={page}\"\n",
    "    response = requests.get(api_adress)  \n",
    "    logging.info(f'status {response.status_code} for {api_adress}')    \n",
    "    \n",
    "    xml = response.text\n",
    "    soup = BeautifulSoup(xml, 'xml')\n",
    "    \n",
    "    # get the number of pages of ratings\n",
    "    total_items = soup.find('comments').get('totalitems')\n",
    "    logging.debug(f'total items: {total_items}')\n",
    "    pagecount = calculate_pagecount(total_items)\n",
    "    logging.debug(f'pagecount: {pagecount}')\n",
    "    logging.debug(f'start scraping page: {page}')\n",
    "\n",
    "    \n",
    "    # extend boardgames dataframe \n",
    "    categories = [link.get('value') for link in soup.find_all('link', attrs={'type':'boardgamecategory'})]\n",
    "    boardgames.loc[ID,'categories'] = ', '.join(categories)\n",
    "    mechanics = [link.get('value') for link in soup.find_all('link', attrs={'type':'boardgamemechanic'})]\n",
    "    boardgames.loc[ID,'mechanics'] = ', '.join(mechanics)\n",
    "    family = [link.get('value') for link in soup.find_all('link', attrs={'type':'boardgamefamily'})]\n",
    "    boardgames.loc[ID,'family'] = ', '.join(family)\n",
    "    expansions = [link.get('value') for link in soup.find_all('link', attrs={'type':'boardgameexpansion'})]\n",
    "    boardgames.loc[ID,'expansions'] = ', '.join(expansions)\n",
    "    integrations = [link.get('value') for link in soup.find_all('link', attrs={'type':'boardgameintegration'})]\n",
    "    boardgames.loc[ID,'integrations'] = ', '.join(integrations)\n",
    "    designers = [link.get('value') for link in soup.find_all('link', attrs={'type':'boardgamedesigner'})]\n",
    "    boardgames.loc[ID,'designers'] = ', '.join(designers)\n",
    "    publishers = [link.get('value') for link in soup.find_all('link', attrs={'type':'boardgamepublisher'})]\n",
    "    boardgames.loc[ID,'publishers'] = ', '.join(publishers)\n",
    "    \n",
    "    # update number of voters\n",
    "    boardgames.loc[ID, 'num_voters'] = total_items\n",
    "    \n",
    "    boardgames.to_csv('../data/boardgames_extend.csv', index=False)\n",
    "    \n",
    "    #get user ratings from page 1\n",
    "    for comment in soup.find_all('comment'):\n",
    "        user_ratings.append(comment.get('rating'))\n",
    "        users.append(comment.get('username'))\n",
    "        comments.append(comment.get('value')) \n",
    "        \n",
    "    boardgame_id = [ID] * len(user_ratings)\n",
    "\n",
    "    ratings = pd.DataFrame({\n",
    "        'id':boardgame_id,\n",
    "        'user':users,\n",
    "        'rating':user_ratings,\n",
    "        'comment':comments\n",
    "    })\n",
    "        \n",
    "    ratings.to_csv('../data/ratings.csv', index=False, header=None, mode='a')\n",
    "    \n",
    "    # if more than one page of comments send request for each page\n",
    "    if pagecount > page:\n",
    "        page = page + 1\n",
    "\n",
    "        while page <= pagecount:\n",
    "            user_ratings = []\n",
    "            users = []\n",
    "            comments = []\n",
    "            ratings = pd.DataFrame()\n",
    "            \n",
    "            api_adress = f\"https://www.boardgamegeek.com/xmlapi2/thing?id={ID}&ratingcomments=1&page={page}\"\n",
    "            response = requests.get(api_adress)\n",
    "            logging.info(f'status {response.status_code} for {api_adress}')\n",
    "            \n",
    "            if response.status_code != 200:\n",
    "                logging.warning(f'STATUS {response.status_code}, increase sleep time and try again')\n",
    "                time.sleep(10)\n",
    "                sleep_default = 5\n",
    "                \n",
    "            else:\n",
    "            \n",
    "                xml = response.text\n",
    "                soup = BeautifulSoup(xml, 'xml')\n",
    "\n",
    "                for comment in soup.find_all('comment'):\n",
    "                    user_ratings.append(comment.get('rating'))\n",
    "                    users.append(comment.get('username'))\n",
    "                    comments.append(comment.get('value'))\n",
    "\n",
    "                boardgame_id = [ID] * len(user_ratings)\n",
    "\n",
    "                ratings = pd.DataFrame({\n",
    "                    'id':boardgame_id,\n",
    "                    'user':users,\n",
    "                    'rating':user_ratings,\n",
    "                    'comment':comments\n",
    "                })\n",
    "\n",
    "                ratings.to_csv('../data/ratings.csv', index=False, header=False, mode='a')\n",
    "\n",
    "                page = page + 1\n",
    "                time.sleep(sleep_default+random.random())\n"
   ]
  },
  {
   "cell_type": "code",
   "execution_count": null,
   "metadata": {},
   "outputs": [],
   "source": []
  },
  {
   "cell_type": "code",
   "execution_count": null,
   "metadata": {},
   "outputs": [],
   "source": []
  }
 ],
 "metadata": {
  "kernelspec": {
   "display_name": "Python 3",
   "language": "python",
   "name": "python3"
  },
  "language_info": {
   "codemirror_mode": {
    "name": "ipython",
    "version": 3
   },
   "file_extension": ".py",
   "mimetype": "text/x-python",
   "name": "python",
   "nbconvert_exporter": "python",
   "pygments_lexer": "ipython3",
   "version": "3.8.5"
  }
 },
 "nbformat": 4,
 "nbformat_minor": 4
}
