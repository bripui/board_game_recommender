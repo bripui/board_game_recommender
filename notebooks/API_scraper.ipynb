{
 "cells": [
  {
   "cell_type": "code",
   "execution_count": null,
   "metadata": {},
   "outputs": [],
   "source": [
    "import pandas as pd\n",
    "import requests\n",
    "import xml.etree.ElementTree as ET\n",
    "from bs4 import BeautifulSoup\n",
    "import random\n",
    "import time"
   ]
  },
  {
   "cell_type": "code",
   "execution_count": null,
   "metadata": {},
   "outputs": [],
   "source": [
    "def calculate_pagecount(total_items):\n",
    "    if int(total_items)%100 ==0:\n",
    "        pages = int(total_items)//100\n",
    "    else:\n",
    "        pages = (int(total_items)//100)+1\n",
    "    return pages"
   ]
  },
  {
   "cell_type": "markdown",
   "metadata": {},
   "source": [
    "## Boardgame Classification"
   ]
  },
  {
   "cell_type": "code",
   "execution_count": null,
   "metadata": {},
   "outputs": [],
   "source": [
    "ID = 306882"
   ]
  },
  {
   "cell_type": "code",
   "execution_count": null,
   "metadata": {},
   "outputs": [],
   "source": [
    "api_adress = f\"https://www.boardgamegeek.com/xmlapi2/thing?id={ID}stats=1\"\n",
    "\n",
    "response = requests.get(api_adress)\n",
    "response.status_code"
   ]
  },
  {
   "cell_type": "code",
   "execution_count": null,
   "metadata": {},
   "outputs": [],
   "source": [
    "xml = response.text"
   ]
  },
  {
   "cell_type": "code",
   "execution_count": null,
   "metadata": {},
   "outputs": [],
   "source": [
    "soup = BeautifulSoup(xml, 'xml')"
   ]
  },
  {
   "cell_type": "code",
   "execution_count": null,
   "metadata": {},
   "outputs": [],
   "source": [
    "#print(soup.prettify())"
   ]
  },
  {
   "cell_type": "code",
   "execution_count": null,
   "metadata": {},
   "outputs": [],
   "source": [
    "#soup.find_all('link')"
   ]
  },
  {
   "cell_type": "code",
   "execution_count": null,
   "metadata": {},
   "outputs": [],
   "source": [
    "categories = [link.get('value') for link in soup.find_all('link', attrs={'type':'boardgamecategory'})]\n",
    "categories"
   ]
  },
  {
   "cell_type": "code",
   "execution_count": null,
   "metadata": {},
   "outputs": [],
   "source": [
    "mechanics = [link.get('value') for link in soup.find_all('link', attrs={'type':'boardgamemechanic'})]\n",
    "mechanics"
   ]
  },
  {
   "cell_type": "code",
   "execution_count": null,
   "metadata": {},
   "outputs": [],
   "source": [
    "family = [link.get('value') for link in soup.find_all('link', attrs={'type':'boardgamefamily'})]\n",
    "family"
   ]
  },
  {
   "cell_type": "code",
   "execution_count": null,
   "metadata": {},
   "outputs": [],
   "source": [
    "expansions = [link.get('value') for link in soup.find_all('link', attrs={'type':'boardgameexpansion'})]\n",
    "expansions"
   ]
  },
  {
   "cell_type": "code",
   "execution_count": null,
   "metadata": {},
   "outputs": [],
   "source": [
    "integrations = [link.get('value') for link in soup.find_all('link', attrs={'type':'boardgameintegration'})]\n",
    "integrations"
   ]
  },
  {
   "cell_type": "code",
   "execution_count": null,
   "metadata": {},
   "outputs": [],
   "source": [
    "designers = [link.get('value') for link in soup.find_all('link', attrs={'type':'boardgamedesigner'})]\n",
    "designers"
   ]
  },
  {
   "cell_type": "code",
   "execution_count": null,
   "metadata": {},
   "outputs": [],
   "source": [
    "publishers = [link.get('value') for link in soup.find_all('link', attrs={'type':'boardgamepublisher'})]\n",
    "publishers "
   ]
  },
  {
   "cell_type": "markdown",
   "metadata": {},
   "source": [
    "## User Ratings"
   ]
  },
  {
   "cell_type": "code",
   "execution_count": null,
   "metadata": {},
   "outputs": [],
   "source": [
    "api_adress = \"https://www.boardgamegeek.com/xmlapi2/thing?id=306882&ratingcomments=1&page=1\"\n",
    "\n",
    "response = requests.get(api_adress)\n",
    "response.status_code"
   ]
  },
  {
   "cell_type": "code",
   "execution_count": null,
   "metadata": {},
   "outputs": [],
   "source": [
    "xml = response.text\n",
    "soup = BeautifulSoup(xml, 'xml')"
   ]
  },
  {
   "cell_type": "code",
   "execution_count": null,
   "metadata": {},
   "outputs": [],
   "source": [
    "print(soup.prettify())"
   ]
  },
  {
   "cell_type": "code",
   "execution_count": null,
   "metadata": {},
   "outputs": [],
   "source": [
    "page = soup.find('comments').get('page')\n",
    "page"
   ]
  },
  {
   "cell_type": "code",
   "execution_count": null,
   "metadata": {},
   "outputs": [],
   "source": [
    "total_items = soup.find('comments').get('totalitems')\n",
    "total_items"
   ]
  },
  {
   "cell_type": "code",
   "execution_count": null,
   "metadata": {},
   "outputs": [],
   "source": [
    "pagecount = calculate_pagecount(total_items)\n",
    "pagecount"
   ]
  },
  {
   "cell_type": "code",
   "execution_count": null,
   "metadata": {},
   "outputs": [],
   "source": [
    "ratings = []\n",
    "users = []\n",
    "comments = []\n",
    "for comment in soup.find_all('comment'):\n",
    "    ratings.append(comment.get('rating'))\n",
    "    users.append(comment.get('username'))\n",
    "    comments.append(comment.get('value'))\n",
    "    "
   ]
  },
  {
   "cell_type": "code",
   "execution_count": null,
   "metadata": {},
   "outputs": [],
   "source": [
    "boardgame_id = [ID] * len(ratings)"
   ]
  },
  {
   "cell_type": "code",
   "execution_count": null,
   "metadata": {},
   "outputs": [],
   "source": [
    "ratings = pd.DataFrame({\n",
    "    'id':boardgame_id,\n",
    "    'user':users,\n",
    "    'rating':ratings,\n",
    "    'comment':comments\n",
    "})"
   ]
  },
  {
   "cell_type": "code",
   "execution_count": null,
   "metadata": {},
   "outputs": [],
   "source": [
    "ratings['rating'].isna().sum()"
   ]
  },
  {
   "cell_type": "markdown",
   "metadata": {},
   "source": [
    "To DO:\n",
    "- Loop through pages\n",
    "- ignore users without ratings\n",
    "- User IDs?"
   ]
  },
  {
   "cell_type": "markdown",
   "metadata": {},
   "source": [
    "## Loop over rating pages"
   ]
  },
  {
   "cell_type": "code",
   "execution_count": null,
   "metadata": {},
   "outputs": [],
   "source": [
    "boardgames =pd.read_csv('../data/boardgames.csv', index_col='id')\n",
    "boardgames['categories'] = None\n",
    "boardgames['mechanics'] = None\n",
    "boardgames['family'] = None\n",
    "boardgames['expansions'] = None\n",
    "boardgames['integrations'] = None\n",
    "boardgames['designers'] = None\n",
    "boardgames['publishers'] = None\n",
    "\n",
    "ratings = pd.DataFrame()\n",
    "\n",
    "for ID in [1692, 1881, 3044, 4493, 5668]:\n",
    "    print(ID)\n",
    "    user_ratings = []\n",
    "    users = []\n",
    "    comments = []\n",
    "    page = 1\n",
    "    print (f'page {page}')\n",
    "    # request page 1 of game overview with user ratings and comments\n",
    "    api_adress = f\"https://www.boardgamegeek.com/xmlapi2/thing?id={ID}&ratingcomments=1&page={page}\"\n",
    "    response = requests.get(api_adress)\n",
    "    xml = response.text\n",
    "    soup = BeautifulSoup(xml, 'xml')\n",
    "    \n",
    "    # get the number of pages of ratings\n",
    "    total_items = soup.find('comments').get('totalitems')\n",
    "    print(f'total items: {total_items}')\n",
    "    pagecount = calculate_pagecount(total_items)\n",
    "    print(f'pagecount: {pagecount}')\n",
    "\n",
    "    # extend boardgames dataframe \n",
    "    categories = [link.get('value') for link in soup.find_all('link', attrs={'type':'boardgamecategory'})]\n",
    "    boardgames.loc[ID,'categories'] = ', '.join(categories)\n",
    "    mechanics = [link.get('value') for link in soup.find_all('link', attrs={'type':'boardgamemechanic'})]\n",
    "    boardgames.loc[ID,'mechanics'] = ', '.join(mechanics)\n",
    "    family = [link.get('value') for link in soup.find_all('link', attrs={'type':'boardgamefamily'})]\n",
    "    boardgames.loc[ID,'family'] = ', '.join(family)\n",
    "    expansions = [link.get('value') for link in soup.find_all('link', attrs={'type':'boardgameexpansion'})]\n",
    "    boardgames.loc[ID,'expansions'] = ', '.join(expansions)\n",
    "    integrations = [link.get('value') for link in soup.find_all('link', attrs={'type':'boardgameintegration'})]\n",
    "    boardgames.loc[ID,'integrations'] = ', '.join(integrations)\n",
    "    designers = [link.get('value') for link in soup.find_all('link', attrs={'type':'boardgamedesigner'})]\n",
    "    boardgames.loc[ID,'designers'] = ', '.join(designers)\n",
    "    publishers = [link.get('value') for link in soup.find_all('link', attrs={'type':'boardgamepublisher'})]\n",
    "    boardgames.loc[ID,'publishers'] = ', '.join(publishers)\n",
    "    \n",
    "    # update number of voters\n",
    "    boardgames.loc[ID, 'num_voters'] = total_items\n",
    "\n",
    "    # if more than one page of comments send request for each page\n",
    "    if pagecount > page:\n",
    "        for comment in soup.find_all('comment'):\n",
    "            user_ratings.append(comment.get('rating'))\n",
    "            users.append(comment.get('username'))\n",
    "            comments.append(comment.get('value'))        \n",
    "        \n",
    "        page = page + 1\n",
    "\n",
    "        while page <= pagecount:\n",
    "            print (f'page {page}')\n",
    "            api_adress = f\"https://www.boardgamegeek.com/xmlapi2/thing?id={ID}&ratingcomments=1&page={page}\"\n",
    "            response = requests.get(api_adress)\n",
    "            xml = response.text\n",
    "            soup = BeautifulSoup(xml, 'xml')\n",
    "\n",
    "            for comment in soup.find_all('comment'):\n",
    "                user_ratings.append(comment.get('rating'))\n",
    "                users.append(comment.get('username'))\n",
    "                comments.append(comment.get('value'))\n",
    "\n",
    "            page = page + 1\n",
    "            time.sleep(3+random.random())\n",
    "    # if only one page of comments, scrape from here\n",
    "    else:\n",
    "        for comment in soup.find_all('comment'):\n",
    "            user_ratings.append(comment.get('rating'))\n",
    "            users.append(comment.get('username'))\n",
    "            comments.append(comment.get('value'))\n",
    "\n",
    "    boardgame_id = [ID] * len(user_ratings)\n",
    "\n",
    "    df = pd.DataFrame({\n",
    "    'id':boardgame_id,\n",
    "    'user':users,\n",
    "    'rating':user_ratings,\n",
    "    'comment':comments\n",
    "    })\n",
    "    \n",
    "    ratings = ratings.append(df, ignore_index=True)\n",
    "    \n",
    "    ratings.to_csv('../data/ratings.csv', index=False)\n",
    "    boardgames.to_csv('../data/boardgames_extend.csv', index=False)"
   ]
  },
  {
   "cell_type": "code",
   "execution_count": null,
   "metadata": {},
   "outputs": [],
   "source": [
    "df"
   ]
  },
  {
   "cell_type": "code",
   "execution_count": null,
   "metadata": {},
   "outputs": [],
   "source": [
    "len(user_ratings)"
   ]
  },
  {
   "cell_type": "code",
   "execution_count": null,
   "metadata": {},
   "outputs": [],
   "source": [
    "len(boardgame_id)"
   ]
  },
  {
   "cell_type": "code",
   "execution_count": null,
   "metadata": {},
   "outputs": [],
   "source": [
    "boardgames"
   ]
  },
  {
   "cell_type": "code",
   "execution_count": null,
   "metadata": {},
   "outputs": [],
   "source": []
  }
 ],
 "metadata": {
  "kernelspec": {
   "display_name": "Python 3",
   "language": "python",
   "name": "python3"
  },
  "language_info": {
   "codemirror_mode": {
    "name": "ipython",
    "version": 3
   },
   "file_extension": ".py",
   "mimetype": "text/x-python",
   "name": "python",
   "nbconvert_exporter": "python",
   "pygments_lexer": "ipython3",
   "version": "3.8.5"
  }
 },
 "nbformat": 4,
 "nbformat_minor": 4
}
