{
 "cells": [
  {
   "cell_type": "code",
   "execution_count": 11,
   "metadata": {},
   "outputs": [],
   "source": [
    "import pandas as pd\n",
    "import requests\n",
    "import xml.etree.ElementTree as ET\n",
    "from bs4 import BeautifulSoup\n",
    "import random\n",
    "import time\n",
    "import logging"
   ]
  },
  {
   "cell_type": "code",
   "execution_count": 28,
   "metadata": {},
   "outputs": [],
   "source": [
    "logging.basicConfig(filename='api_scraper.log', \n",
    "                    level=logging.DEBUG)"
   ]
  },
  {
   "cell_type": "code",
   "execution_count": 9,
   "metadata": {},
   "outputs": [],
   "source": [
    "def calculate_pagecount(total_items):\n",
    "    if int(total_items)%100 ==0:\n",
    "        pages = int(total_items)//100\n",
    "    else:\n",
    "        pages = (int(total_items)//100)+1\n",
    "    return pages"
   ]
  },
  {
   "cell_type": "markdown",
   "metadata": {},
   "source": [
    "## Boardgame Classification"
   ]
  },
  {
   "cell_type": "code",
   "execution_count": 35,
   "metadata": {},
   "outputs": [],
   "source": [
    "ID = 306882"
   ]
  },
  {
   "cell_type": "code",
   "execution_count": 101,
   "metadata": {},
   "outputs": [
    {
     "data": {
      "text/plain": [
       "200"
      ]
     },
     "execution_count": 101,
     "metadata": {},
     "output_type": "execute_result"
    }
   ],
   "source": [
    "api_adress = f\"https://www.boardgamegeek.com/xmlapi2/thing?id=306882&ratingcomments=1&page=1\"\n",
    "\n",
    "response = requests.get(api_adress)\n",
    "response.status_code"
   ]
  },
  {
   "cell_type": "code",
   "execution_count": 102,
   "metadata": {},
   "outputs": [],
   "source": [
    "xml = response.text"
   ]
  },
  {
   "cell_type": "code",
   "execution_count": 103,
   "metadata": {},
   "outputs": [],
   "source": [
    "soup = BeautifulSoup(xml, 'xml')"
   ]
  },
  {
   "cell_type": "code",
   "execution_count": 104,
   "metadata": {},
   "outputs": [
    {
     "name": "stdout",
     "output_type": "stream",
     "text": [
      "<?xml version=\"1.0\" encoding=\"utf-8\"?>\n",
      "<items termsofuse=\"https://boardgamegeek.com/xmlapi/termsofuse\">\n",
      " <item id=\"306882\" type=\"boardgame\">\n",
      "  <thumbnail>\n",
      "   https://cf.geekdo-images.com/yE1xMCPzckKh9V9CStNFEw__thumb/img/zFQhF83FC3HYETEMz3R8_R0B2mQ=/fit-in/200x150/filters:strip_icc()/pic5350626.jpg\n",
      "  </thumbnail>\n",
      "  <image>\n",
      "   https://cf.geekdo-images.com/yE1xMCPzckKh9V9CStNFEw__original/img/cpsGDBjzoKWhE8u5SojuSYafNmg=/0x0/filters:format(jpeg)/pic5350626.jpg\n",
      "  </image>\n",
      "  <name sortindex=\"1\" type=\"primary\" value=\"Railroad Ink Challenge: Shining Yellow Edition\"/>\n",
      "  <name sortindex=\"1\" type=\"alternate\" value=\"Railroad Ink Challenge: Edition Sonnengelb\"/>\n",
      "  <name sortindex=\"1\" type=\"alternate\" value=\"Railroad Ink Challenge: Goudgele Versie\"/>\n",
      "  <description>\n",
      "   Railroad Ink Challenge is a quick-playing roll-and-write game for 1 to 4 players. Grab a board and a dry-erase marker, and get ready to reach networking nirvana! Roll the dice and draw the routes to connect the exits around your board. Expand your network with railways, highways and stations to collect points, but you will be penalized for any open connections, so plan carefully!&amp;#10;&amp;#10;Railroad Ink Challenge has everything you love from the original Railroad Ink games and a lot more, with an all-new focus on player interaction thanks to in-game goals! Only those who achieve them first get the reward, so you have to keep an eye on what your opponents are doing and try to complete the goals before they do! A different set of goals is available each time, so no two games will be the same!&amp;#10;&amp;#10;But wait, there's more! Draw unprecedented, mind-bending route configurations thanks to the new dice! Connect special structures to your network to trigger new effects: factories allow you to duplicate a die, villages give bonus points if they are close to a station, universities unlock extra special routes &amp;mdash; use these effects wisely and you'll score big!&amp;#10;&amp;#10;Railroad Ink Challenge comes in two versions, each one including one expansion with an additional dice set that adds new special rules to your games. Use oases to protect your cacti from the arid desert climate in the Shining Yellow Edition!&amp;#10;&amp;#10;&amp;mdash;description from publisher&amp;#10;&amp;#10;\n",
      "  </description>\n",
      "  <yearpublished value=\"2021\"/>\n",
      "  <minplayers value=\"1\"/>\n",
      "  <maxplayers value=\"4\"/>\n",
      "  <poll name=\"suggested_numplayers\" title=\"User Suggested Number of Players\" totalvotes=\"0\">\n",
      "   <results numplayers=\"1\">\n",
      "    <result numvotes=\"0\" value=\"Best\"/>\n",
      "    <result numvotes=\"0\" value=\"Recommended\"/>\n",
      "    <result numvotes=\"0\" value=\"Not Recommended\"/>\n",
      "   </results>\n",
      "   <results numplayers=\"2\">\n",
      "    <result numvotes=\"0\" value=\"Best\"/>\n",
      "    <result numvotes=\"0\" value=\"Recommended\"/>\n",
      "    <result numvotes=\"0\" value=\"Not Recommended\"/>\n",
      "   </results>\n",
      "   <results numplayers=\"3\">\n",
      "    <result numvotes=\"0\" value=\"Best\"/>\n",
      "    <result numvotes=\"0\" value=\"Recommended\"/>\n",
      "    <result numvotes=\"0\" value=\"Not Recommended\"/>\n",
      "   </results>\n",
      "   <results numplayers=\"4\">\n",
      "    <result numvotes=\"0\" value=\"Best\"/>\n",
      "    <result numvotes=\"0\" value=\"Recommended\"/>\n",
      "    <result numvotes=\"0\" value=\"Not Recommended\"/>\n",
      "   </results>\n",
      "   <results numplayers=\"4+\">\n",
      "    <result numvotes=\"0\" value=\"Best\"/>\n",
      "    <result numvotes=\"0\" value=\"Recommended\"/>\n",
      "    <result numvotes=\"0\" value=\"Not Recommended\"/>\n",
      "   </results>\n",
      "  </poll>\n",
      "  <playingtime value=\"30\"/>\n",
      "  <minplaytime value=\"15\"/>\n",
      "  <maxplaytime value=\"30\"/>\n",
      "  <minage value=\"8\"/>\n",
      "  <poll name=\"suggested_playerage\" title=\"User Suggested Player Age\" totalvotes=\"0\">\n",
      "   <results>\n",
      "    <result numvotes=\"0\" value=\"2\"/>\n",
      "    <result numvotes=\"0\" value=\"3\"/>\n",
      "    <result numvotes=\"0\" value=\"4\"/>\n",
      "    <result numvotes=\"0\" value=\"5\"/>\n",
      "    <result numvotes=\"0\" value=\"6\"/>\n",
      "    <result numvotes=\"0\" value=\"8\"/>\n",
      "    <result numvotes=\"0\" value=\"10\"/>\n",
      "    <result numvotes=\"0\" value=\"12\"/>\n",
      "    <result numvotes=\"0\" value=\"14\"/>\n",
      "    <result numvotes=\"0\" value=\"16\"/>\n",
      "    <result numvotes=\"0\" value=\"18\"/>\n",
      "    <result numvotes=\"0\" value=\"21 and up\"/>\n",
      "   </results>\n",
      "  </poll>\n",
      "  <poll name=\"language_dependence\" title=\"Language Dependence\" totalvotes=\"0\">\n",
      "   <results>\n",
      "    <result level=\"1\" numvotes=\"0\" value=\"No necessary in-game text\"/>\n",
      "    <result level=\"2\" numvotes=\"0\" value=\"Some necessary text - easily memorized or small crib sheet\"/>\n",
      "    <result level=\"3\" numvotes=\"0\" value=\"Moderate in-game text - needs crib sheet or paste ups\"/>\n",
      "    <result level=\"4\" numvotes=\"0\" value=\"Extensive use of text - massive conversion needed to be playable\"/>\n",
      "    <result level=\"5\" numvotes=\"0\" value=\"Unplayable in another language\"/>\n",
      "   </results>\n",
      "  </poll>\n",
      "  <link id=\"1017\" type=\"boardgamecategory\" value=\"Dice\"/>\n",
      "  <link id=\"1034\" type=\"boardgamecategory\" value=\"Trains\"/>\n",
      "  <link id=\"2072\" type=\"boardgamemechanic\" value=\"Dice Rolling\"/>\n",
      "  <link id=\"2039\" type=\"boardgamemechanic\" value=\"Line Drawing\"/>\n",
      "  <link id=\"2081\" type=\"boardgamemechanic\" value=\"Network and Route Building\"/>\n",
      "  <link id=\"2055\" type=\"boardgamemechanic\" value=\"Paper-and-Pencil\"/>\n",
      "  <link id=\"2819\" type=\"boardgamemechanic\" value=\"Solo / Solitaire Game\"/>\n",
      "  <link id=\"22184\" type=\"boardgamefamily\" value=\"Admin: Unreleased Games\"/>\n",
      "  <link id=\"65328\" type=\"boardgamefamily\" value=\"Components: Dice with Icons\"/>\n",
      "  <link id=\"63161\" type=\"boardgamefamily\" value=\"Components: Dry Erase Markers / Dry Erase Surfaces\"/>\n",
      "  <link id=\"8374\" type=\"boardgamefamily\" value=\"Crowdfunding: Kickstarter\"/>\n",
      "  <link id=\"57676\" type=\"boardgamefamily\" value=\"Game: Railroad Ink\"/>\n",
      "  <link id=\"41222\" type=\"boardgamefamily\" value=\"Mechanism: Roll-and-Write\"/>\n",
      "  <link id=\"339247\" type=\"boardgameexpansion\" value=\"Railroad Ink Challenge: Epic Board\"/>\n",
      "  <link id=\"337505\" type=\"boardgameexpansion\" value=\"Railroad Ink Challenge: Solo Board\"/>\n",
      "  <link id=\"320731\" type=\"boardgameexpansion\" value=\"Railroad Ink: Arcade Expansion Pack\"/>\n",
      "  <link id=\"320730\" type=\"boardgameexpansion\" value=\"Railroad Ink: Eldritch Expansion Pack\"/>\n",
      "  <link id=\"320737\" type=\"boardgameexpansion\" value=\"Railroad Ink: Electricity Expansion Pack\"/>\n",
      "  <link id=\"320734\" type=\"boardgameexpansion\" value=\"Railroad Ink: Engineer Expansion Pack\"/>\n",
      "  <link id=\"320735\" type=\"boardgameexpansion\" value=\"Railroad Ink: Futuristic Expansion Pack\"/>\n",
      "  <link id=\"320736\" type=\"boardgameexpansion\" value=\"Railroad Ink: Sky Expansion Pack\"/>\n",
      "  <link id=\"320732\" type=\"boardgameexpansion\" value=\"Railroad Ink: Underground Expansion Pack\"/>\n",
      "  <link id=\"306881\" type=\"boardgameintegration\" value=\"Railroad Ink Challenge: Lush Green Edition\"/>\n",
      "  <link id=\"251678\" type=\"boardgameintegration\" value=\"Railroad Ink: Blazing Red Edition\"/>\n",
      "  <link id=\"245654\" type=\"boardgameintegration\" value=\"Railroad Ink: Deep Blue Edition\"/>\n",
      "  <link id=\"91211\" type=\"boardgamedesigner\" value=\"Hjalmar Hach\"/>\n",
      "  <link id=\"28238\" type=\"boardgamedesigner\" value=\"Lorenzo Silva\"/>\n",
      "  <link id=\"110743\" type=\"boardgameartist\" value=\"Marta Tranquilli\"/>\n",
      "  <link id=\"26623\" type=\"boardgamepublisher\" value=\"Horrible Guild\"/>\n",
      "  <link id=\"38505\" type=\"boardgamepublisher\" value=\"HeidelBÄR Games\"/>\n",
      "  <link id=\"4932\" type=\"boardgamepublisher\" value=\"White Goblin Games\"/>\n",
      "  <comments page=\"1\" totalitems=\"253\">\n",
      "   <comment rating=\"10\" username=\"basieellington\" value=\"\"/>\n",
      "   <comment rating=\"10\" username=\"Zugli\" value=\"\"/>\n",
      "   <comment rating=\"10\" username=\"Nyarly362\" value=\"\"/>\n",
      "   <comment rating=\"10\" username=\"Serina24\" value=\"\"/>\n",
      "   <comment rating=\"10\" username=\"Orbesteanu\" value=\"\"/>\n",
      "   <comment rating=\"10\" username=\"Chouket76\" value=\"\"/>\n",
      "   <comment rating=\"10\" username=\"ArBeMa\" value=\"\"/>\n",
      "   <comment rating=\"10\" username=\"oliverivero\" value=\"\"/>\n",
      "   <comment rating=\"10\" username=\"Norich\" value=\"Nice new things added to the original game. Play with board and dice from kickstarter: easy to build yourself if you own the blue or red edition.\"/>\n",
      "   <comment rating=\"10\" username=\"lenlindsay\" value=\"I'm getting the everything package (Collector).\"/>\n",
      "   <comment rating=\"10\" username=\"a2pak7\" value=\"\"/>\n",
      "   <comment rating=\"10\" username=\"mandymccool\" value=\"\"/>\n",
      "   <comment rating=\"10\" username=\"Whistle_pig\" value=\"\"/>\n",
      "   <comment rating=\"10\" username=\"SuSaBoi\" value=\"\"/>\n",
      "   <comment rating=\"10\" username=\"Seestudent\" value=\"\"/>\n",
      "   <comment rating=\"10\" username=\"Uncannyanto\" value=\"\"/>\n",
      "   <comment rating=\"10\" username=\"fimbull\" value=\"What a great game! Loved the first game and this one enhances the experience a bit more without cluttering it. Big fan!\"/>\n",
      "   <comment rating=\"10\" username=\"Anifer15\" value=\"Adds a little feel of Ganz Schon Clever, allowing you to create strings of combos for more points if you draw a route on a space with a building symbol. Adds goal cards for the regular and expansion dice. Also purchased the 7 additional expansion dice for extra flavorful gameplays.\"/>\n",
      "   <comment rating=\"10\" username=\"skoticus\" value=\"\"/>\n",
      "   <comment rating=\"10\" username=\"Llamatitan\" value=\"\"/>\n",
      "   <comment rating=\"10\" username=\"Skywalker12\" value=\"The goal cards and buildings are good additions to the game.\"/>\n",
      "   <comment rating=\"10\" username=\"cvlw\" value=\"\"/>\n",
      "   <comment rating=\"10\" username=\"PiecesOfEden\" value=\"\"/>\n",
      "   <comment rating=\"10\" username=\"Duciris\" value=\"\"/>\n",
      "   <comment rating=\"10\" username=\"DFDKiesman\" value=\"\"/>\n",
      "   <comment rating=\"10\" username=\"Re4isnumber1\" value=\"Cactus - 60 Chris\"/>\n",
      "   <comment rating=\"10\" username=\"Alice13\" value=\"\"/>\n",
      "   <comment rating=\"10\" username=\"Kemblesque\" value=\"\"/>\n",
      "   <comment rating=\"10\" username=\"jasmin8r\" value=\"\"/>\n",
      "   <comment rating=\"10\" username=\"Ser0\" value=\"Still one of the best roll and writes!\"/>\n",
      "   <comment rating=\"9.9\" username=\"Zanmor\" value=\"\"/>\n",
      "   <comment rating=\"9.5\" username=\"RGMiller\" value=\"\"/>\n",
      "   <comment rating=\"9.5\" username=\"AlexiMz\" value=\"\"/>\n",
      "   <comment rating=\"9.5\" username=\"Diggleninja\" value=\"\"/>\n",
      "   <comment rating=\"9.28\" username=\"OGRussHood\" value=\"\"/>\n",
      "   <comment rating=\"9.02\" username=\"Manelosky1984\" value=\"\"/>\n",
      "   <comment rating=\"9\" username=\"Fat Google\" value=\"\"/>\n",
      "   <comment rating=\"9\" username=\"Bostonfan\" value=\"\"/>\n",
      "   <comment rating=\"9\" username=\"sakadangjambu\" value=\"\"/>\n",
      "   <comment rating=\"9\" username=\"thereck\" value=\"\"/>\n",
      "   <comment rating=\"9\" username=\"SpareChange11\" value=\"\"/>\n",
      "   <comment rating=\"9\" username=\"krz2106\" value=\"\"/>\n",
      "   <comment rating=\"9\" username=\"AdrianPHague\" value=\"\"/>\n",
      "   <comment rating=\"9\" username=\"Xeno Lupus\" value=\"\"/>\n",
      "   <comment rating=\"9\" username=\"tobetobbs\" value=\"\"/>\n",
      "   <comment rating=\"9\" username=\"Nekrataal\" value=\"\"/>\n",
      "   <comment rating=\"9\" username=\"WapCaplet2001\" value=\"\"/>\n",
      "   <comment rating=\"9\" username=\"LGould\" value=\"\"/>\n",
      "   <comment rating=\"9\" username=\"benenjii\" value=\"\"/>\n",
      "   <comment rating=\"9\" username=\"Panderps\" value=\"\"/>\n",
      "   <comment rating=\"9\" username=\"jeremypaul\" value=\"\"/>\n",
      "   <comment rating=\"9\" username=\"stephensj\" value=\"\"/>\n",
      "   <comment rating=\"9\" username=\"Gamiss\" value=\"\"/>\n",
      "   <comment rating=\"9\" username=\"pinxterenm\" value=\"\"/>\n",
      "   <comment rating=\"9\" username=\"prosdeus\" value=\"\"/>\n",
      "   <comment rating=\"9\" username=\"Bigtop305\" value=\"\"/>\n",
      "   <comment rating=\"9\" username=\"RustyBaker\" value=\"Desert high score (with goals): 87 Desert high score (without goals): 68 Canyon high score (with goals): 98 Base dice (no goals) high score: 50\"/>\n",
      "   <comment rating=\"9\" username=\"cmichael\" value=\"\"/>\n",
      "   <comment rating=\"9\" username=\"ldjarmin\" value=\"\"/>\n",
      "   <comment rating=\"9\" username=\"Jyames\" value=\"\"/>\n",
      "   <comment rating=\"9\" username=\"waddie\" value=\"1-4 players\"/>\n",
      "   <comment rating=\"9\" username=\"Canute42\" value=\"\"/>\n",
      "   <comment rating=\"9\" username=\"HvMythenmetz\" value=\"\"/>\n",
      "   <comment rating=\"9\" username=\"challahback252\" value=\"\"/>\n",
      "   <comment rating=\"9\" username=\"Olaf78800\" value=\"\"/>\n",
      "   <comment rating=\"9\" username=\"Harvey Guesso\" value=\"\"/>\n",
      "   <comment rating=\"9\" username=\"maximew\" value=\"\"/>\n",
      "   <comment rating=\"9\" username=\"Turbomesh\" value=\"\"/>\n",
      "   <comment rating=\"9\" username=\"AmplifyThat\" value=\"\"/>\n",
      "   <comment rating=\"9\" username=\"manxis\" value=\"\"/>\n",
      "   <comment rating=\"9\" username=\"StevenBedell\" value=\"\"/>\n",
      "   <comment rating=\"9\" username=\"JeromeAndHisHair\" value=\"\"/>\n",
      "   <comment rating=\"9\" username=\"varmtomat\" value=\"\"/>\n",
      "   <comment rating=\"9\" username=\"Annanicolesmith\" value=\"\"/>\n",
      "   <comment rating=\"8.76542\" username=\"ericbauer\" value=\"\"/>\n",
      "   <comment rating=\"8.5\" username=\"taintedlemon\" value=\"\"/>\n",
      "   <comment rating=\"8.5\" username=\"immmi\" value=\"\"/>\n",
      "   <comment rating=\"8.5\" username=\"nfirehazzard\" value=\"\"/>\n",
      "   <comment rating=\"8.5\" username=\"boardchao999\" value=\"A little loose, but its enjoyable, and I really like the modularity.\"/>\n",
      "   <comment rating=\"8.5\" username=\"Moonhawk\" value=\"\"/>\n",
      "   <comment rating=\"8.5\" username=\"Sendar21\" value=\"\"/>\n",
      "   <comment rating=\"8.5\" username=\"Networkertom\" value=\"\"/>\n",
      "   <comment rating=\"8.5\" username=\"Morm91\" value=\"\"/>\n",
      "   <comment rating=\"8.5\" username=\"DongDingly\" value=\"\"/>\n",
      "   <comment rating=\"8.4\" username=\"snobbydolphin\" value=\"\"/>\n",
      "   <comment rating=\"8.36\" username=\"evancheah\" value=\"\"/>\n",
      "   <comment rating=\"8.3\" username=\"tempar\" value=\"Excellent like the original with some extra fun stuff in the new board. Didn't try the new dice. If you have 1 version of the game you don't need the rest.\"/>\n",
      "   <comment rating=\"8.25\" username=\"rabbito84\" value=\"After playing the new challenge versions I would never go back.  I had to adjust my rating on the originals as well.  These are just so good.  All the mini expansions just add a great amount of variability and fun as well.\"/>\n",
      "   <comment rating=\"8.2\" username=\"NathanEverett\" value=\"\"/>\n",
      "   <comment rating=\"8\" username=\"Tolkana\" value=\"\"/>\n",
      "   <comment rating=\"8\" username=\"4757joshua2\" value=\"\"/>\n",
      "   <comment rating=\"8\" username=\"Dark_Mirror\" value=\"Played print and play. Its an intersting alternative. A little bit more random than the base game, because there are more different symbols on the dice\"/>\n",
      "   <comment rating=\"8\" username=\"Pasodoblo\" value=\"\"/>\n",
      "   <comment rating=\"8\" username=\"sloppydj\" value=\"\"/>\n",
      "   <comment rating=\"8\" username=\"WhiteRider27\" value=\"\"/>\n",
      "   <comment rating=\"8\" username=\"lovelace\" value=\"Rating based on plays of the Kickstarter Challenges. At least as good as Railroad Ink Blue/Red.\"/>\n",
      "   <comment rating=\"8\" username=\"Nomad29345\" value=\"\"/>\n",
      "   <comment rating=\"8\" username=\"marinahsj\" value=\"Played the base print and play given for free at the Kickstarter campaign with my husband. This is the first roll and write game we've ever played. We both really enjoyed it and would love to play it again. It was a challenging puzzle-like, fast-paced, and engaging game. I would totally recommend it to anybody since the rules are pretty concise and clear.\"/>\n",
      "   <comment rating=\"8\" username=\"gimmster\" value=\"\"/>\n",
      "   <comment rating=\"8\" username=\"Siggeir\" value=\"\"/>\n",
      "  </comments>\n",
      " </item>\n",
      "</items>\n"
     ]
    }
   ],
   "source": [
    "print(soup.prettify())"
   ]
  },
  {
   "cell_type": "code",
   "execution_count": 72,
   "metadata": {},
   "outputs": [
    {
     "data": {
      "text/plain": [
       "[]"
      ]
     },
     "execution_count": 72,
     "metadata": {},
     "output_type": "execute_result"
    }
   ],
   "source": [
    "soup.find_all('comments', attrs={page:'2'})"
   ]
  },
  {
   "cell_type": "code",
   "execution_count": null,
   "metadata": {},
   "outputs": [],
   "source": [
    "categories = [link.get('value') for link in soup.find_all('link', attrs={'type':'boardgamecategory'})]\n",
    "categories"
   ]
  },
  {
   "cell_type": "code",
   "execution_count": null,
   "metadata": {},
   "outputs": [],
   "source": [
    "mechanics = [link.get('value') for link in soup.find_all('link', attrs={'type':'boardgamemechanic'})]\n",
    "mechanics"
   ]
  },
  {
   "cell_type": "code",
   "execution_count": null,
   "metadata": {},
   "outputs": [],
   "source": [
    "family = [link.get('value') for link in soup.find_all('link', attrs={'type':'boardgamefamily'})]\n",
    "family"
   ]
  },
  {
   "cell_type": "code",
   "execution_count": null,
   "metadata": {},
   "outputs": [],
   "source": [
    "expansions = [link.get('value') for link in soup.find_all('link', attrs={'type':'boardgameexpansion'})]\n",
    "expansions"
   ]
  },
  {
   "cell_type": "code",
   "execution_count": null,
   "metadata": {},
   "outputs": [],
   "source": [
    "integrations = [link.get('value') for link in soup.find_all('link', attrs={'type':'boardgameintegration'})]\n",
    "integrations"
   ]
  },
  {
   "cell_type": "code",
   "execution_count": null,
   "metadata": {},
   "outputs": [],
   "source": [
    "designers = [link.get('value') for link in soup.find_all('link', attrs={'type':'boardgamedesigner'})]\n",
    "designers"
   ]
  },
  {
   "cell_type": "code",
   "execution_count": null,
   "metadata": {},
   "outputs": [],
   "source": [
    "publishers = [link.get('value') for link in soup.find_all('link', attrs={'type':'boardgamepublisher'})]\n",
    "publishers "
   ]
  },
  {
   "cell_type": "markdown",
   "metadata": {},
   "source": [
    "## User Ratings"
   ]
  },
  {
   "cell_type": "code",
   "execution_count": null,
   "metadata": {},
   "outputs": [],
   "source": [
    "api_adress = \"https://www.boardgamegeek.com/xmlapi2/thing?id=306882&ratingcomments=1&page=1\"\n",
    "\n",
    "response = requests.get(api_adress)\n",
    "response.status_code"
   ]
  },
  {
   "cell_type": "code",
   "execution_count": null,
   "metadata": {},
   "outputs": [],
   "source": [
    "xml = response.text\n",
    "soup = BeautifulSoup(xml, 'xml')"
   ]
  },
  {
   "cell_type": "code",
   "execution_count": null,
   "metadata": {},
   "outputs": [],
   "source": [
    "#print(soup.prettify())"
   ]
  },
  {
   "cell_type": "code",
   "execution_count": null,
   "metadata": {},
   "outputs": [],
   "source": [
    "page = soup.find('comments').get('page')\n",
    "page"
   ]
  },
  {
   "cell_type": "code",
   "execution_count": null,
   "metadata": {},
   "outputs": [],
   "source": [
    "total_items = soup.find('comments').get('totalitems')\n",
    "total_items"
   ]
  },
  {
   "cell_type": "code",
   "execution_count": null,
   "metadata": {},
   "outputs": [],
   "source": [
    "pagecount = calculate_pagecount(total_items)\n",
    "pagecount"
   ]
  },
  {
   "cell_type": "code",
   "execution_count": null,
   "metadata": {},
   "outputs": [],
   "source": [
    "ratings = []\n",
    "users = []\n",
    "comments = []\n",
    "for comment in soup.find_all('comment'):\n",
    "    ratings.append(comment.get('rating'))\n",
    "    users.append(comment.get('username'))\n",
    "    comments.append(comment.get('value'))\n",
    "    "
   ]
  },
  {
   "cell_type": "code",
   "execution_count": null,
   "metadata": {},
   "outputs": [],
   "source": [
    "boardgame_id = [ID] * len(ratings)"
   ]
  },
  {
   "cell_type": "code",
   "execution_count": null,
   "metadata": {},
   "outputs": [],
   "source": [
    "ratings = pd.DataFrame({\n",
    "    'id':boardgame_id,\n",
    "    'user':users,\n",
    "    'rating':ratings,\n",
    "    'comment':comments\n",
    "})"
   ]
  },
  {
   "cell_type": "code",
   "execution_count": null,
   "metadata": {},
   "outputs": [],
   "source": [
    "ratings['rating'].isna().sum()"
   ]
  },
  {
   "cell_type": "markdown",
   "metadata": {},
   "source": [
    "To DO:\n",
    "- Loop through pages\n",
    "- ignore users without ratings\n",
    "- User IDs?\n",
    "- include logging\n",
    "- append csv not dataframe\n",
    "- check request status"
   ]
  },
  {
   "cell_type": "markdown",
   "metadata": {},
   "source": [
    "## Loop over rating pages"
   ]
  },
  {
   "cell_type": "code",
   "execution_count": 29,
   "metadata": {},
   "outputs": [],
   "source": [
    "boardgames =pd.read_csv('../data/boardgames.csv', index_col='id')\n",
    "boardgames['categories'] = None\n",
    "boardgames['mechanics'] = None\n",
    "boardgames['family'] = None\n",
    "boardgames['expansions'] = None\n",
    "boardgames['integrations'] = None\n",
    "boardgames['designers'] = None\n",
    "boardgames['publishers'] = None\n",
    "\n",
    "sleep_default = 2"
   ]
  },
  {
   "cell_type": "code",
   "execution_count": 34,
   "metadata": {},
   "outputs": [],
   "source": [
    "for ID in [4974, 6927, 8139, 8993, 13121]:\n",
    "    logging.debug(f'movie id: {ID}')\n",
    "    \n",
    "    user_ratings = []\n",
    "    users = []\n",
    "    comments = []\n",
    "    ratings = pd.DataFrame()\n",
    "    page = 1\n",
    "    \n",
    "    # request page 1 of game overview with user ratings and comments\n",
    "    api_adress = f\"https://www.boardgamegeek.com/xmlapi2/thing?id={ID}&ratingcomments=1&page={page}\"\n",
    "    response = requests.get(api_adress)  \n",
    "    logging.info(f'status {response.status_code} for {api_adress}')    \n",
    "    \n",
    "    xml = response.text\n",
    "    soup = BeautifulSoup(xml, 'xml')\n",
    "    \n",
    "    # get the number of pages of ratings\n",
    "    total_items = soup.find('comments').get('totalitems')\n",
    "    logging.debug(f'total items: {total_items}')\n",
    "    pagecount = calculate_pagecount(total_items)\n",
    "    logging.debug(f'pagecount: {pagecount}')\n",
    "    logging.debug(f'start scraping page: {page}')\n",
    "\n",
    "    \n",
    "    # extend boardgames dataframe \n",
    "    categories = [link.get('value') for link in soup.find_all('link', attrs={'type':'boardgamecategory'})]\n",
    "    boardgames.loc[ID,'categories'] = ', '.join(categories)\n",
    "    mechanics = [link.get('value') for link in soup.find_all('link', attrs={'type':'boardgamemechanic'})]\n",
    "    boardgames.loc[ID,'mechanics'] = ', '.join(mechanics)\n",
    "    family = [link.get('value') for link in soup.find_all('link', attrs={'type':'boardgamefamily'})]\n",
    "    boardgames.loc[ID,'family'] = ', '.join(family)\n",
    "    expansions = [link.get('value') for link in soup.find_all('link', attrs={'type':'boardgameexpansion'})]\n",
    "    boardgames.loc[ID,'expansions'] = ', '.join(expansions)\n",
    "    integrations = [link.get('value') for link in soup.find_all('link', attrs={'type':'boardgameintegration'})]\n",
    "    boardgames.loc[ID,'integrations'] = ', '.join(integrations)\n",
    "    designers = [link.get('value') for link in soup.find_all('link', attrs={'type':'boardgamedesigner'})]\n",
    "    boardgames.loc[ID,'designers'] = ', '.join(designers)\n",
    "    publishers = [link.get('value') for link in soup.find_all('link', attrs={'type':'boardgamepublisher'})]\n",
    "    boardgames.loc[ID,'publishers'] = ', '.join(publishers)\n",
    "    \n",
    "    # update number of voters\n",
    "    boardgames.loc[ID, 'num_voters'] = total_items\n",
    "    \n",
    "    boardgames.to_csv('../data/boardgames_extend.csv', index=False)\n",
    "    \n",
    "    #get user ratings from page 1\n",
    "    for comment in soup.find_all('comment'):\n",
    "        user_ratings.append(comment.get('rating'))\n",
    "        users.append(comment.get('username'))\n",
    "        comments.append(comment.get('value')) \n",
    "        \n",
    "    boardgame_id = [ID] * len(user_ratings)\n",
    "\n",
    "    ratings = pd.DataFrame({\n",
    "        'id':boardgame_id,\n",
    "        'user':users,\n",
    "        'rating':user_ratings,\n",
    "        'comment':comments\n",
    "    })\n",
    "        \n",
    "    ratings.to_csv('../data/ratings.csv', index=False, header=None, mode='a')\n",
    "    \n",
    "    # if more than one page of comments send request for each page\n",
    "    if pagecount > page:\n",
    "        page = page + 1\n",
    "\n",
    "        while page <= pagecount:\n",
    "            user_ratings = []\n",
    "            users = []\n",
    "            comments = []\n",
    "            ratings = pd.DataFrame()\n",
    "            \n",
    "            api_adress = f\"https://www.boardgamegeek.com/xmlapi2/thing?id={ID}&ratingcomments=1&page={page}\"\n",
    "            response = requests.get(api_adress)\n",
    "            logging.info(f'status {response.status_code} for {api_adress}')\n",
    "            \n",
    "            if response.status_code != 200:\n",
    "                logging.warning(f'STATUS {response.status_code}, increase sleep time and try again')\n",
    "                time.sleep(10)\n",
    "                sleep_default = 5\n",
    "                \n",
    "            else:\n",
    "            \n",
    "                xml = response.text\n",
    "                soup = BeautifulSoup(xml, 'xml')\n",
    "\n",
    "                for comment in soup.find_all('comment'):\n",
    "                    user_ratings.append(comment.get('rating'))\n",
    "                    users.append(comment.get('username'))\n",
    "                    comments.append(comment.get('value'))\n",
    "\n",
    "                boardgame_id = [ID] * len(user_ratings)\n",
    "\n",
    "                ratings = pd.DataFrame({\n",
    "                    'id':boardgame_id,\n",
    "                    'user':users,\n",
    "                    'rating':user_ratings,\n",
    "                    'comment':comments\n",
    "                })\n",
    "\n",
    "                ratings.to_csv('../data/ratings.csv', index=False, header=False, mode='a')\n",
    "\n",
    "                page = page + 1\n",
    "                time.sleep(sleep_default+random.random())\n"
   ]
  },
  {
   "cell_type": "code",
   "execution_count": 107,
   "metadata": {},
   "outputs": [
    {
     "data": {
      "text/plain": [
       "Int64Index([   822,     13,  68448,  36218,   9209, 178900, 167791,  31260,\n",
       "              3076, 173346,\n",
       "            ...\n",
       "            137184, 137355, 137427, 138223, 138518, 138578, 138730, 139581,\n",
       "            139637, 139930],\n",
       "           dtype='int64', name='id', length=44999)"
      ]
     },
     "execution_count": 107,
     "metadata": {},
     "output_type": "execute_result"
    }
   ],
   "source": [
    "boardgames.loc[822:].index"
   ]
  },
  {
   "cell_type": "code",
   "execution_count": null,
   "metadata": {},
   "outputs": [],
   "source": []
  }
 ],
 "metadata": {
  "kernelspec": {
   "display_name": "Python 3",
   "language": "python",
   "name": "python3"
  },
  "language_info": {
   "codemirror_mode": {
    "name": "ipython",
    "version": 3
   },
   "file_extension": ".py",
   "mimetype": "text/x-python",
   "name": "python",
   "nbconvert_exporter": "python",
   "pygments_lexer": "ipython3",
   "version": "3.8.5"
  }
 },
 "nbformat": 4,
 "nbformat_minor": 4
}
