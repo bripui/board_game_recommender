{
 "cells": [
  {
   "cell_type": "code",
   "execution_count": 98,
   "metadata": {},
   "outputs": [],
   "source": [
    "import pandas as pd\n",
    "import requests\n",
    "import xml.etree.ElementTree as ET\n",
    "from bs4 import BeautifulSoup"
   ]
  },
  {
   "cell_type": "code",
   "execution_count": 81,
   "metadata": {},
   "outputs": [],
   "source": [
    "def calculate_pagecount(total_items):\n",
    "    if int(total_items)%100 ==0:\n",
    "        pages = int(total_items)//100\n",
    "    else:\n",
    "        pages = (int(total_items)//100)+1\n",
    "    return pages"
   ]
  },
  {
   "cell_type": "markdown",
   "metadata": {},
   "source": [
    "## Boardgame Classification"
   ]
  },
  {
   "cell_type": "code",
   "execution_count": 92,
   "metadata": {},
   "outputs": [],
   "source": [
    "ID = 306882"
   ]
  },
  {
   "cell_type": "code",
   "execution_count": 93,
   "metadata": {},
   "outputs": [
    {
     "data": {
      "text/plain": [
       "200"
      ]
     },
     "execution_count": 93,
     "metadata": {},
     "output_type": "execute_result"
    }
   ],
   "source": [
    "api_adress = f\"https://www.boardgamegeek.com/xmlapi2/thing?id={ID}stats=1\"\n",
    "\n",
    "response = requests.get(api_adress)\n",
    "response.status_code"
   ]
  },
  {
   "cell_type": "code",
   "execution_count": 22,
   "metadata": {},
   "outputs": [],
   "source": [
    "xml = response.text"
   ]
  },
  {
   "cell_type": "code",
   "execution_count": 23,
   "metadata": {},
   "outputs": [],
   "source": [
    "soup = BeautifulSoup(xml, 'xml')"
   ]
  },
  {
   "cell_type": "code",
   "execution_count": 51,
   "metadata": {},
   "outputs": [],
   "source": [
    "#print(soup.prettify())"
   ]
  },
  {
   "cell_type": "code",
   "execution_count": 52,
   "metadata": {},
   "outputs": [],
   "source": [
    "#soup.find_all('link')"
   ]
  },
  {
   "cell_type": "code",
   "execution_count": 39,
   "metadata": {},
   "outputs": [
    {
     "data": {
      "text/plain": [
       "['Dice', 'Trains']"
      ]
     },
     "execution_count": 39,
     "metadata": {},
     "output_type": "execute_result"
    }
   ],
   "source": [
    "categories = [link.get('value') for link in soup.find_all('link', attrs={'type':'boardgamecategory'})]\n",
    "categories"
   ]
  },
  {
   "cell_type": "code",
   "execution_count": 41,
   "metadata": {},
   "outputs": [
    {
     "data": {
      "text/plain": [
       "['Dice Rolling',\n",
       " 'Line Drawing',\n",
       " 'Network and Route Building',\n",
       " 'Paper-and-Pencil',\n",
       " 'Solo / Solitaire Game']"
      ]
     },
     "execution_count": 41,
     "metadata": {},
     "output_type": "execute_result"
    }
   ],
   "source": [
    "mechanics = [link.get('value') for link in soup.find_all('link', attrs={'type':'boardgamemechanic'})]\n",
    "mechanics"
   ]
  },
  {
   "cell_type": "code",
   "execution_count": 42,
   "metadata": {},
   "outputs": [
    {
     "data": {
      "text/plain": [
       "['Admin: Unreleased Games',\n",
       " 'Components: Dice with Icons',\n",
       " 'Components: Dry Erase Markers / Dry Erase Surfaces',\n",
       " 'Crowdfunding: Kickstarter',\n",
       " 'Game: Railroad Ink',\n",
       " 'Mechanism: Roll-and-Write']"
      ]
     },
     "execution_count": 42,
     "metadata": {},
     "output_type": "execute_result"
    }
   ],
   "source": [
    "family = [link.get('value') for link in soup.find_all('link', attrs={'type':'boardgamefamily'})]\n",
    "family"
   ]
  },
  {
   "cell_type": "code",
   "execution_count": 46,
   "metadata": {},
   "outputs": [
    {
     "data": {
      "text/plain": [
       "['Railroad Ink Challenge: Epic Board',\n",
       " 'Railroad Ink Challenge: Solo Board',\n",
       " 'Railroad Ink: Arcade Expansion Pack',\n",
       " 'Railroad Ink: Eldritch Expansion Pack',\n",
       " 'Railroad Ink: Electricity Expansion Pack',\n",
       " 'Railroad Ink: Engineer Expansion Pack',\n",
       " 'Railroad Ink: Futuristic Expansion Pack',\n",
       " 'Railroad Ink: Sky Expansion Pack',\n",
       " 'Railroad Ink: Underground Expansion Pack']"
      ]
     },
     "execution_count": 46,
     "metadata": {},
     "output_type": "execute_result"
    }
   ],
   "source": [
    "expansions = [link.get('value') for link in soup.find_all('link', attrs={'type':'boardgameexpansion'})]\n",
    "expansions"
   ]
  },
  {
   "cell_type": "code",
   "execution_count": 47,
   "metadata": {},
   "outputs": [
    {
     "data": {
      "text/plain": [
       "['Railroad Ink Challenge: Lush Green Edition',\n",
       " 'Railroad Ink: Blazing Red Edition',\n",
       " 'Railroad Ink: Deep Blue Edition']"
      ]
     },
     "execution_count": 47,
     "metadata": {},
     "output_type": "execute_result"
    }
   ],
   "source": [
    "integrations = [link.get('value') for link in soup.find_all('link', attrs={'type':'boardgameintegration'})]\n",
    "integrations"
   ]
  },
  {
   "cell_type": "code",
   "execution_count": 48,
   "metadata": {},
   "outputs": [
    {
     "data": {
      "text/plain": [
       "['Hjalmar Hach', 'Lorenzo Silva']"
      ]
     },
     "execution_count": 48,
     "metadata": {},
     "output_type": "execute_result"
    }
   ],
   "source": [
    "designers = [link.get('value') for link in soup.find_all('link', attrs={'type':'boardgamedesigner'})]\n",
    "designers"
   ]
  },
  {
   "cell_type": "code",
   "execution_count": 49,
   "metadata": {},
   "outputs": [
    {
     "data": {
      "text/plain": [
       "['Horrible Guild', 'HeidelBÄR Games', 'White Goblin Games']"
      ]
     },
     "execution_count": 49,
     "metadata": {},
     "output_type": "execute_result"
    }
   ],
   "source": [
    "publishers = [link.get('value') for link in soup.find_all('link', attrs={'type':'boardgamepublisher'})]\n",
    "publishers "
   ]
  },
  {
   "cell_type": "markdown",
   "metadata": {},
   "source": [
    "## User Ratings"
   ]
  },
  {
   "cell_type": "code",
   "execution_count": 59,
   "metadata": {},
   "outputs": [
    {
     "data": {
      "text/plain": [
       "200"
      ]
     },
     "execution_count": 59,
     "metadata": {},
     "output_type": "execute_result"
    }
   ],
   "source": [
    "api_adress = \"https://www.boardgamegeek.com/xmlapi2/thing?id=306882&ratingcomments=1\"\n",
    "\n",
    "response = requests.get(api_adress)\n",
    "response.status_code"
   ]
  },
  {
   "cell_type": "code",
   "execution_count": 60,
   "metadata": {},
   "outputs": [],
   "source": [
    "xml = response.text\n",
    "soup = BeautifulSoup(xml, 'xml')"
   ]
  },
  {
   "cell_type": "code",
   "execution_count": 110,
   "metadata": {},
   "outputs": [],
   "source": [
    "#print(soup.prettify())"
   ]
  },
  {
   "cell_type": "code",
   "execution_count": 82,
   "metadata": {},
   "outputs": [
    {
     "data": {
      "text/plain": [
       "'1'"
      ]
     },
     "execution_count": 82,
     "metadata": {},
     "output_type": "execute_result"
    }
   ],
   "source": [
    "page = soup.find('comments').get('page')\n",
    "page"
   ]
  },
  {
   "cell_type": "code",
   "execution_count": 83,
   "metadata": {},
   "outputs": [
    {
     "data": {
      "text/plain": [
       "'249'"
      ]
     },
     "execution_count": 83,
     "metadata": {},
     "output_type": "execute_result"
    }
   ],
   "source": [
    "total_items = soup.find('comments').get('totalitems')\n",
    "total_items"
   ]
  },
  {
   "cell_type": "code",
   "execution_count": 85,
   "metadata": {},
   "outputs": [
    {
     "data": {
      "text/plain": [
       "3"
      ]
     },
     "execution_count": 85,
     "metadata": {},
     "output_type": "execute_result"
    }
   ],
   "source": [
    "pagecount = calculate_pagecount(total_items)\n",
    "pagecount"
   ]
  },
  {
   "cell_type": "code",
   "execution_count": 91,
   "metadata": {},
   "outputs": [],
   "source": [
    "ratings = []\n",
    "users = []\n",
    "comments = []\n",
    "for comment in soup.find_all('comment'):\n",
    "    ratings.append(comment.get('rating'))\n",
    "    users.append(comment.get('username'))\n",
    "    comments.append(comment.get('value'))\n",
    "    "
   ]
  },
  {
   "cell_type": "code",
   "execution_count": 102,
   "metadata": {},
   "outputs": [],
   "source": [
    "boardgame_id = [ID] * len(ratings)"
   ]
  },
  {
   "cell_type": "code",
   "execution_count": 103,
   "metadata": {},
   "outputs": [],
   "source": [
    "ratings = pd.DataFrame({\n",
    "    'id':boardgame_id,\n",
    "    'user':users,\n",
    "    'rating':ratings,\n",
    "    'comment':comments\n",
    "})"
   ]
  },
  {
   "cell_type": "code",
   "execution_count": 107,
   "metadata": {},
   "outputs": [
    {
     "data": {
      "text/html": [
       "<div>\n",
       "<style scoped>\n",
       "    .dataframe tbody tr th:only-of-type {\n",
       "        vertical-align: middle;\n",
       "    }\n",
       "\n",
       "    .dataframe tbody tr th {\n",
       "        vertical-align: top;\n",
       "    }\n",
       "\n",
       "    .dataframe thead th {\n",
       "        text-align: right;\n",
       "    }\n",
       "</style>\n",
       "<table border=\"1\" class=\"dataframe\">\n",
       "  <thead>\n",
       "    <tr style=\"text-align: right;\">\n",
       "      <th></th>\n",
       "      <th>id</th>\n",
       "      <th>user</th>\n",
       "      <th>rating</th>\n",
       "      <th>comment</th>\n",
       "    </tr>\n",
       "  </thead>\n",
       "  <tbody>\n",
       "    <tr>\n",
       "      <th>0</th>\n",
       "      <td>306882</td>\n",
       "      <td>basieellington</td>\n",
       "      <td>10</td>\n",
       "      <td></td>\n",
       "    </tr>\n",
       "    <tr>\n",
       "      <th>1</th>\n",
       "      <td>306882</td>\n",
       "      <td>Zugli</td>\n",
       "      <td>10</td>\n",
       "      <td></td>\n",
       "    </tr>\n",
       "    <tr>\n",
       "      <th>2</th>\n",
       "      <td>306882</td>\n",
       "      <td>Nyarly362</td>\n",
       "      <td>10</td>\n",
       "      <td></td>\n",
       "    </tr>\n",
       "    <tr>\n",
       "      <th>3</th>\n",
       "      <td>306882</td>\n",
       "      <td>Serina24</td>\n",
       "      <td>10</td>\n",
       "      <td></td>\n",
       "    </tr>\n",
       "    <tr>\n",
       "      <th>4</th>\n",
       "      <td>306882</td>\n",
       "      <td>Orbesteanu</td>\n",
       "      <td>10</td>\n",
       "      <td></td>\n",
       "    </tr>\n",
       "    <tr>\n",
       "      <th>5</th>\n",
       "      <td>306882</td>\n",
       "      <td>Chouket76</td>\n",
       "      <td>10</td>\n",
       "      <td></td>\n",
       "    </tr>\n",
       "    <tr>\n",
       "      <th>6</th>\n",
       "      <td>306882</td>\n",
       "      <td>ArBeMa</td>\n",
       "      <td>10</td>\n",
       "      <td></td>\n",
       "    </tr>\n",
       "    <tr>\n",
       "      <th>7</th>\n",
       "      <td>306882</td>\n",
       "      <td>oliverivero</td>\n",
       "      <td>10</td>\n",
       "      <td></td>\n",
       "    </tr>\n",
       "    <tr>\n",
       "      <th>8</th>\n",
       "      <td>306882</td>\n",
       "      <td>Norich</td>\n",
       "      <td>10</td>\n",
       "      <td>Nice new things added to the original game. Pl...</td>\n",
       "    </tr>\n",
       "    <tr>\n",
       "      <th>9</th>\n",
       "      <td>306882</td>\n",
       "      <td>lenlindsay</td>\n",
       "      <td>10</td>\n",
       "      <td>I'm getting the everything package (Collector).</td>\n",
       "    </tr>\n",
       "    <tr>\n",
       "      <th>10</th>\n",
       "      <td>306882</td>\n",
       "      <td>a2pak7</td>\n",
       "      <td>10</td>\n",
       "      <td></td>\n",
       "    </tr>\n",
       "    <tr>\n",
       "      <th>11</th>\n",
       "      <td>306882</td>\n",
       "      <td>mandymccool</td>\n",
       "      <td>10</td>\n",
       "      <td></td>\n",
       "    </tr>\n",
       "    <tr>\n",
       "      <th>12</th>\n",
       "      <td>306882</td>\n",
       "      <td>Whistle_pig</td>\n",
       "      <td>10</td>\n",
       "      <td></td>\n",
       "    </tr>\n",
       "    <tr>\n",
       "      <th>13</th>\n",
       "      <td>306882</td>\n",
       "      <td>SuSaBoi</td>\n",
       "      <td>10</td>\n",
       "      <td></td>\n",
       "    </tr>\n",
       "    <tr>\n",
       "      <th>14</th>\n",
       "      <td>306882</td>\n",
       "      <td>Seestudent</td>\n",
       "      <td>10</td>\n",
       "      <td></td>\n",
       "    </tr>\n",
       "    <tr>\n",
       "      <th>15</th>\n",
       "      <td>306882</td>\n",
       "      <td>Uncannyanto</td>\n",
       "      <td>10</td>\n",
       "      <td></td>\n",
       "    </tr>\n",
       "    <tr>\n",
       "      <th>16</th>\n",
       "      <td>306882</td>\n",
       "      <td>fimbull</td>\n",
       "      <td>10</td>\n",
       "      <td>What a great game! Loved the first game and th...</td>\n",
       "    </tr>\n",
       "    <tr>\n",
       "      <th>17</th>\n",
       "      <td>306882</td>\n",
       "      <td>Anifer15</td>\n",
       "      <td>10</td>\n",
       "      <td>Adds a little feel of Ganz Schon Clever, allow...</td>\n",
       "    </tr>\n",
       "    <tr>\n",
       "      <th>18</th>\n",
       "      <td>306882</td>\n",
       "      <td>skoticus</td>\n",
       "      <td>10</td>\n",
       "      <td></td>\n",
       "    </tr>\n",
       "    <tr>\n",
       "      <th>19</th>\n",
       "      <td>306882</td>\n",
       "      <td>Llamatitan</td>\n",
       "      <td>10</td>\n",
       "      <td></td>\n",
       "    </tr>\n",
       "    <tr>\n",
       "      <th>20</th>\n",
       "      <td>306882</td>\n",
       "      <td>Skywalker12</td>\n",
       "      <td>10</td>\n",
       "      <td>The goal cards and buildings are good addition...</td>\n",
       "    </tr>\n",
       "    <tr>\n",
       "      <th>21</th>\n",
       "      <td>306882</td>\n",
       "      <td>cvlw</td>\n",
       "      <td>10</td>\n",
       "      <td></td>\n",
       "    </tr>\n",
       "    <tr>\n",
       "      <th>22</th>\n",
       "      <td>306882</td>\n",
       "      <td>PiecesOfEden</td>\n",
       "      <td>10</td>\n",
       "      <td></td>\n",
       "    </tr>\n",
       "    <tr>\n",
       "      <th>23</th>\n",
       "      <td>306882</td>\n",
       "      <td>Duciris</td>\n",
       "      <td>10</td>\n",
       "      <td></td>\n",
       "    </tr>\n",
       "    <tr>\n",
       "      <th>24</th>\n",
       "      <td>306882</td>\n",
       "      <td>DFDKiesman</td>\n",
       "      <td>10</td>\n",
       "      <td></td>\n",
       "    </tr>\n",
       "    <tr>\n",
       "      <th>25</th>\n",
       "      <td>306882</td>\n",
       "      <td>Re4isnumber1</td>\n",
       "      <td>10</td>\n",
       "      <td>Cactus - 60 Chris</td>\n",
       "    </tr>\n",
       "    <tr>\n",
       "      <th>26</th>\n",
       "      <td>306882</td>\n",
       "      <td>Alice13</td>\n",
       "      <td>10</td>\n",
       "      <td></td>\n",
       "    </tr>\n",
       "    <tr>\n",
       "      <th>27</th>\n",
       "      <td>306882</td>\n",
       "      <td>Kemblesque</td>\n",
       "      <td>10</td>\n",
       "      <td></td>\n",
       "    </tr>\n",
       "    <tr>\n",
       "      <th>28</th>\n",
       "      <td>306882</td>\n",
       "      <td>jasmin8r</td>\n",
       "      <td>10</td>\n",
       "      <td></td>\n",
       "    </tr>\n",
       "    <tr>\n",
       "      <th>29</th>\n",
       "      <td>306882</td>\n",
       "      <td>Ser0</td>\n",
       "      <td>10</td>\n",
       "      <td>Still one of the best roll and writes!</td>\n",
       "    </tr>\n",
       "    <tr>\n",
       "      <th>30</th>\n",
       "      <td>306882</td>\n",
       "      <td>Zanmor</td>\n",
       "      <td>9.9</td>\n",
       "      <td></td>\n",
       "    </tr>\n",
       "    <tr>\n",
       "      <th>31</th>\n",
       "      <td>306882</td>\n",
       "      <td>RGMiller</td>\n",
       "      <td>9.5</td>\n",
       "      <td></td>\n",
       "    </tr>\n",
       "    <tr>\n",
       "      <th>32</th>\n",
       "      <td>306882</td>\n",
       "      <td>AlexiMz</td>\n",
       "      <td>9.5</td>\n",
       "      <td></td>\n",
       "    </tr>\n",
       "    <tr>\n",
       "      <th>33</th>\n",
       "      <td>306882</td>\n",
       "      <td>Diggleninja</td>\n",
       "      <td>9.5</td>\n",
       "      <td></td>\n",
       "    </tr>\n",
       "    <tr>\n",
       "      <th>34</th>\n",
       "      <td>306882</td>\n",
       "      <td>OGRussHood</td>\n",
       "      <td>9.28</td>\n",
       "      <td></td>\n",
       "    </tr>\n",
       "  </tbody>\n",
       "</table>\n",
       "</div>"
      ],
      "text/plain": [
       "        id            user rating  \\\n",
       "0   306882  basieellington     10   \n",
       "1   306882           Zugli     10   \n",
       "2   306882       Nyarly362     10   \n",
       "3   306882        Serina24     10   \n",
       "4   306882      Orbesteanu     10   \n",
       "5   306882       Chouket76     10   \n",
       "6   306882          ArBeMa     10   \n",
       "7   306882     oliverivero     10   \n",
       "8   306882          Norich     10   \n",
       "9   306882      lenlindsay     10   \n",
       "10  306882          a2pak7     10   \n",
       "11  306882     mandymccool     10   \n",
       "12  306882     Whistle_pig     10   \n",
       "13  306882         SuSaBoi     10   \n",
       "14  306882      Seestudent     10   \n",
       "15  306882     Uncannyanto     10   \n",
       "16  306882         fimbull     10   \n",
       "17  306882        Anifer15     10   \n",
       "18  306882        skoticus     10   \n",
       "19  306882      Llamatitan     10   \n",
       "20  306882     Skywalker12     10   \n",
       "21  306882            cvlw     10   \n",
       "22  306882    PiecesOfEden     10   \n",
       "23  306882         Duciris     10   \n",
       "24  306882      DFDKiesman     10   \n",
       "25  306882    Re4isnumber1     10   \n",
       "26  306882         Alice13     10   \n",
       "27  306882      Kemblesque     10   \n",
       "28  306882        jasmin8r     10   \n",
       "29  306882            Ser0     10   \n",
       "30  306882          Zanmor    9.9   \n",
       "31  306882        RGMiller    9.5   \n",
       "32  306882         AlexiMz    9.5   \n",
       "33  306882     Diggleninja    9.5   \n",
       "34  306882      OGRussHood   9.28   \n",
       "\n",
       "                                              comment  \n",
       "0                                                      \n",
       "1                                                      \n",
       "2                                                      \n",
       "3                                                      \n",
       "4                                                      \n",
       "5                                                      \n",
       "6                                                      \n",
       "7                                                      \n",
       "8   Nice new things added to the original game. Pl...  \n",
       "9     I'm getting the everything package (Collector).  \n",
       "10                                                     \n",
       "11                                                     \n",
       "12                                                     \n",
       "13                                                     \n",
       "14                                                     \n",
       "15                                                     \n",
       "16  What a great game! Loved the first game and th...  \n",
       "17  Adds a little feel of Ganz Schon Clever, allow...  \n",
       "18                                                     \n",
       "19                                                     \n",
       "20  The goal cards and buildings are good addition...  \n",
       "21                                                     \n",
       "22                                                     \n",
       "23                                                     \n",
       "24                                                     \n",
       "25                                  Cactus - 60 Chris  \n",
       "26                                                     \n",
       "27                                                     \n",
       "28                                                     \n",
       "29             Still one of the best roll and writes!  \n",
       "30                                                     \n",
       "31                                                     \n",
       "32                                                     \n",
       "33                                                     \n",
       "34                                                     "
      ]
     },
     "execution_count": 107,
     "metadata": {},
     "output_type": "execute_result"
    }
   ],
   "source": [
    "ratings.head(35)"
   ]
  },
  {
   "cell_type": "code",
   "execution_count": 105,
   "metadata": {},
   "outputs": [
    {
     "data": {
      "text/html": [
       "<div>\n",
       "<style scoped>\n",
       "    .dataframe tbody tr th:only-of-type {\n",
       "        vertical-align: middle;\n",
       "    }\n",
       "\n",
       "    .dataframe tbody tr th {\n",
       "        vertical-align: top;\n",
       "    }\n",
       "\n",
       "    .dataframe thead th {\n",
       "        text-align: right;\n",
       "    }\n",
       "</style>\n",
       "<table border=\"1\" class=\"dataframe\">\n",
       "  <thead>\n",
       "    <tr style=\"text-align: right;\">\n",
       "      <th></th>\n",
       "      <th>id</th>\n",
       "      <th>user</th>\n",
       "      <th>rating</th>\n",
       "      <th>comment</th>\n",
       "    </tr>\n",
       "  </thead>\n",
       "  <tbody>\n",
       "    <tr>\n",
       "      <th>29</th>\n",
       "      <td>306882</td>\n",
       "      <td>Ser0</td>\n",
       "      <td>10</td>\n",
       "      <td>Still one of the best roll and writes!</td>\n",
       "    </tr>\n",
       "  </tbody>\n",
       "</table>\n",
       "</div>"
      ],
      "text/plain": [
       "        id  user rating                                 comment\n",
       "29  306882  Ser0     10  Still one of the best roll and writes!"
      ]
     },
     "execution_count": 105,
     "metadata": {},
     "output_type": "execute_result"
    }
   ],
   "source": [
    "ratings[ratings['user']=='Ser0']"
   ]
  },
  {
   "cell_type": "code",
   "execution_count": 109,
   "metadata": {},
   "outputs": [
    {
     "data": {
      "text/plain": [
       "0"
      ]
     },
     "execution_count": 109,
     "metadata": {},
     "output_type": "execute_result"
    }
   ],
   "source": [
    "ratings['rating'].isna().sum()"
   ]
  },
  {
   "cell_type": "markdown",
   "metadata": {},
   "source": [
    "To DO:\n",
    "- Loop through pages\n",
    "- ignore users without ratings\n",
    "- User IDs?"
   ]
  },
  {
   "cell_type": "code",
   "execution_count": null,
   "metadata": {},
   "outputs": [],
   "source": []
  }
 ],
 "metadata": {
  "kernelspec": {
   "display_name": "Python 3",
   "language": "python",
   "name": "python3"
  },
  "language_info": {
   "codemirror_mode": {
    "name": "ipython",
    "version": 3
   },
   "file_extension": ".py",
   "mimetype": "text/x-python",
   "name": "python",
   "nbconvert_exporter": "python",
   "pygments_lexer": "ipython3",
   "version": "3.8.5"
  }
 },
 "nbformat": 4,
 "nbformat_minor": 4
}
